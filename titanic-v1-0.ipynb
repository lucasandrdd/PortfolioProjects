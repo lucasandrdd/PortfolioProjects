{
 "cells": [
  {
   "cell_type": "code",
   "execution_count": 1,
   "id": "6c1622d8",
   "metadata": {
    "_cell_guid": "b1076dfc-b9ad-4769-8c92-a6c4dae69d19",
    "_uuid": "8f2839f25d086af736a60e9eeb907d3b93b6e0e5",
    "execution": {
     "iopub.execute_input": "2024-05-11T20:09:42.059189Z",
     "iopub.status.busy": "2024-05-11T20:09:42.058406Z",
     "iopub.status.idle": "2024-05-11T20:09:45.011991Z",
     "shell.execute_reply": "2024-05-11T20:09:45.010874Z"
    },
    "papermill": {
     "duration": 2.982702,
     "end_time": "2024-05-11T20:09:45.014653",
     "exception": false,
     "start_time": "2024-05-11T20:09:42.031951",
     "status": "completed"
    },
    "tags": []
   },
   "outputs": [
    {
     "name": "stdout",
     "output_type": "stream",
     "text": [
      "/kaggle/input/titanic/train.csv\n",
      "/kaggle/input/titanic/test.csv\n",
      "/kaggle/input/titanic/gender_submission.csv\n"
     ]
    }
   ],
   "source": [
    "# This Python 3 environment comes with many helpful analytics libraries installed\n",
    "# It is defined by the kaggle/python Docker image: https://github.com/kaggle/docker-python\n",
    "# For example, here's several helpful packages to load\n",
    "\n",
    "import numpy as np # linear algebra\n",
    "import pandas as pd # data processing, CSV file I/O (e.g. pd.read_csv)\n",
    "\n",
    "#importing other libraries\n",
    "#sfor dataviz\n",
    "import seaborn as sns\n",
    "import matplotlib.pyplot as plt\n",
    "%matplotlib inline\n",
    "\n",
    "#converting categorical data into numerical form, encoding\n",
    "from sklearn.preprocessing import OrdinalEncoder, OneHotEncoder\n",
    "\n",
    "#dealing with missing values\n",
    "from sklearn.impute import SimpleImputer\n",
    "\n",
    "#for pipelines\n",
    "from sklearn.compose import make_column_transformer, ColumnTransformer\n",
    "from sklearn.pipeline import Pipeline, make_pipeline\n",
    "\n",
    "#\n",
    "from sklearn.linear_model import LogisticRegression\n",
    "from sklearn.svm import SVC\n",
    "from sklearn.ensemble import RandomForestClassifier\n",
    "from sklearn.tree import DecisionTreeClassifier\n",
    "from sklearn.neighbors import KNeighborsClassifier\n",
    "from sklearn.naive_bayes import GaussianNB\n",
    "\n",
    "#for model selection\n",
    "from sklearn.model_selection import cross_val_score, StratifiedKFold, train_test_split, GridSearchCV\n",
    "\n",
    "# Input data files are available in the read-only \"../input/\" directory\n",
    "# For example, running this (by clicking run or pressing Shift+Enter) will list all files under the input directory\n",
    "\n",
    "import os\n",
    "for dirname, _, filenames in os.walk('/kaggle/input'):\n",
    "    for filename in filenames:\n",
    "        print(os.path.join(dirname, filename))\n",
    "\n",
    "# You can write up to 20GB to the current directory (/kaggle/working/) that gets preserved as output when you create a version using \"Save & Run All\" \n",
    "# You can also write temporary files to /kaggle/temp/, but they won't be saved outside of the current session"
   ]
  },
  {
   "cell_type": "code",
   "execution_count": 2,
   "id": "88dc6c36",
   "metadata": {
    "execution": {
     "iopub.execute_input": "2024-05-11T20:09:45.064975Z",
     "iopub.status.busy": "2024-05-11T20:09:45.064450Z",
     "iopub.status.idle": "2024-05-11T20:09:45.116464Z",
     "shell.execute_reply": "2024-05-11T20:09:45.114921Z"
    },
    "papermill": {
     "duration": 0.080976,
     "end_time": "2024-05-11T20:09:45.119313",
     "exception": false,
     "start_time": "2024-05-11T20:09:45.038337",
     "status": "completed"
    },
    "tags": []
   },
   "outputs": [
    {
     "data": {
      "text/html": [
       "<div>\n",
       "<style scoped>\n",
       "    .dataframe tbody tr th:only-of-type {\n",
       "        vertical-align: middle;\n",
       "    }\n",
       "\n",
       "    .dataframe tbody tr th {\n",
       "        vertical-align: top;\n",
       "    }\n",
       "\n",
       "    .dataframe thead th {\n",
       "        text-align: right;\n",
       "    }\n",
       "</style>\n",
       "<table border=\"1\" class=\"dataframe\">\n",
       "  <thead>\n",
       "    <tr style=\"text-align: right;\">\n",
       "      <th></th>\n",
       "      <th>PassengerId</th>\n",
       "      <th>Survived</th>\n",
       "      <th>Pclass</th>\n",
       "      <th>Name</th>\n",
       "      <th>Sex</th>\n",
       "      <th>Age</th>\n",
       "      <th>SibSp</th>\n",
       "      <th>Parch</th>\n",
       "      <th>Ticket</th>\n",
       "      <th>Fare</th>\n",
       "      <th>Cabin</th>\n",
       "      <th>Embarked</th>\n",
       "    </tr>\n",
       "  </thead>\n",
       "  <tbody>\n",
       "    <tr>\n",
       "      <th>0</th>\n",
       "      <td>1</td>\n",
       "      <td>0</td>\n",
       "      <td>3</td>\n",
       "      <td>Braund, Mr. Owen Harris</td>\n",
       "      <td>male</td>\n",
       "      <td>22.0</td>\n",
       "      <td>1</td>\n",
       "      <td>0</td>\n",
       "      <td>A/5 21171</td>\n",
       "      <td>7.2500</td>\n",
       "      <td>NaN</td>\n",
       "      <td>S</td>\n",
       "    </tr>\n",
       "    <tr>\n",
       "      <th>1</th>\n",
       "      <td>2</td>\n",
       "      <td>1</td>\n",
       "      <td>1</td>\n",
       "      <td>Cumings, Mrs. John Bradley (Florence Briggs Th...</td>\n",
       "      <td>female</td>\n",
       "      <td>38.0</td>\n",
       "      <td>1</td>\n",
       "      <td>0</td>\n",
       "      <td>PC 17599</td>\n",
       "      <td>71.2833</td>\n",
       "      <td>C85</td>\n",
       "      <td>C</td>\n",
       "    </tr>\n",
       "    <tr>\n",
       "      <th>2</th>\n",
       "      <td>3</td>\n",
       "      <td>1</td>\n",
       "      <td>3</td>\n",
       "      <td>Heikkinen, Miss. Laina</td>\n",
       "      <td>female</td>\n",
       "      <td>26.0</td>\n",
       "      <td>0</td>\n",
       "      <td>0</td>\n",
       "      <td>STON/O2. 3101282</td>\n",
       "      <td>7.9250</td>\n",
       "      <td>NaN</td>\n",
       "      <td>S</td>\n",
       "    </tr>\n",
       "    <tr>\n",
       "      <th>3</th>\n",
       "      <td>4</td>\n",
       "      <td>1</td>\n",
       "      <td>1</td>\n",
       "      <td>Futrelle, Mrs. Jacques Heath (Lily May Peel)</td>\n",
       "      <td>female</td>\n",
       "      <td>35.0</td>\n",
       "      <td>1</td>\n",
       "      <td>0</td>\n",
       "      <td>113803</td>\n",
       "      <td>53.1000</td>\n",
       "      <td>C123</td>\n",
       "      <td>S</td>\n",
       "    </tr>\n",
       "    <tr>\n",
       "      <th>4</th>\n",
       "      <td>5</td>\n",
       "      <td>0</td>\n",
       "      <td>3</td>\n",
       "      <td>Allen, Mr. William Henry</td>\n",
       "      <td>male</td>\n",
       "      <td>35.0</td>\n",
       "      <td>0</td>\n",
       "      <td>0</td>\n",
       "      <td>373450</td>\n",
       "      <td>8.0500</td>\n",
       "      <td>NaN</td>\n",
       "      <td>S</td>\n",
       "    </tr>\n",
       "  </tbody>\n",
       "</table>\n",
       "</div>"
      ],
      "text/plain": [
       "   PassengerId  Survived  Pclass  \\\n",
       "0            1         0       3   \n",
       "1            2         1       1   \n",
       "2            3         1       3   \n",
       "3            4         1       1   \n",
       "4            5         0       3   \n",
       "\n",
       "                                                Name     Sex   Age  SibSp  \\\n",
       "0                            Braund, Mr. Owen Harris    male  22.0      1   \n",
       "1  Cumings, Mrs. John Bradley (Florence Briggs Th...  female  38.0      1   \n",
       "2                             Heikkinen, Miss. Laina  female  26.0      0   \n",
       "3       Futrelle, Mrs. Jacques Heath (Lily May Peel)  female  35.0      1   \n",
       "4                           Allen, Mr. William Henry    male  35.0      0   \n",
       "\n",
       "   Parch            Ticket     Fare Cabin Embarked  \n",
       "0      0         A/5 21171   7.2500   NaN        S  \n",
       "1      0          PC 17599  71.2833   C85        C  \n",
       "2      0  STON/O2. 3101282   7.9250   NaN        S  \n",
       "3      0            113803  53.1000  C123        S  \n",
       "4      0            373450   8.0500   NaN        S  "
      ]
     },
     "execution_count": 2,
     "metadata": {},
     "output_type": "execute_result"
    }
   ],
   "source": [
    "train_data = pd.read_csv(\"/kaggle/input/titanic/train.csv\")\n",
    "train_data.head()"
   ]
  },
  {
   "cell_type": "code",
   "execution_count": 3,
   "id": "e996d47f",
   "metadata": {
    "execution": {
     "iopub.execute_input": "2024-05-11T20:09:45.167935Z",
     "iopub.status.busy": "2024-05-11T20:09:45.167472Z",
     "iopub.status.idle": "2024-05-11T20:09:45.189270Z",
     "shell.execute_reply": "2024-05-11T20:09:45.188294Z"
    },
    "papermill": {
     "duration": 0.049263,
     "end_time": "2024-05-11T20:09:45.191795",
     "exception": false,
     "start_time": "2024-05-11T20:09:45.142532",
     "status": "completed"
    },
    "tags": []
   },
   "outputs": [
    {
     "data": {
      "text/html": [
       "<div>\n",
       "<style scoped>\n",
       "    .dataframe tbody tr th:only-of-type {\n",
       "        vertical-align: middle;\n",
       "    }\n",
       "\n",
       "    .dataframe tbody tr th {\n",
       "        vertical-align: top;\n",
       "    }\n",
       "\n",
       "    .dataframe thead th {\n",
       "        text-align: right;\n",
       "    }\n",
       "</style>\n",
       "<table border=\"1\" class=\"dataframe\">\n",
       "  <thead>\n",
       "    <tr style=\"text-align: right;\">\n",
       "      <th></th>\n",
       "      <th>PassengerId</th>\n",
       "      <th>Pclass</th>\n",
       "      <th>Name</th>\n",
       "      <th>Sex</th>\n",
       "      <th>Age</th>\n",
       "      <th>SibSp</th>\n",
       "      <th>Parch</th>\n",
       "      <th>Ticket</th>\n",
       "      <th>Fare</th>\n",
       "      <th>Cabin</th>\n",
       "      <th>Embarked</th>\n",
       "    </tr>\n",
       "  </thead>\n",
       "  <tbody>\n",
       "    <tr>\n",
       "      <th>0</th>\n",
       "      <td>892</td>\n",
       "      <td>3</td>\n",
       "      <td>Kelly, Mr. James</td>\n",
       "      <td>male</td>\n",
       "      <td>34.5</td>\n",
       "      <td>0</td>\n",
       "      <td>0</td>\n",
       "      <td>330911</td>\n",
       "      <td>7.8292</td>\n",
       "      <td>NaN</td>\n",
       "      <td>Q</td>\n",
       "    </tr>\n",
       "    <tr>\n",
       "      <th>1</th>\n",
       "      <td>893</td>\n",
       "      <td>3</td>\n",
       "      <td>Wilkes, Mrs. James (Ellen Needs)</td>\n",
       "      <td>female</td>\n",
       "      <td>47.0</td>\n",
       "      <td>1</td>\n",
       "      <td>0</td>\n",
       "      <td>363272</td>\n",
       "      <td>7.0000</td>\n",
       "      <td>NaN</td>\n",
       "      <td>S</td>\n",
       "    </tr>\n",
       "    <tr>\n",
       "      <th>2</th>\n",
       "      <td>894</td>\n",
       "      <td>2</td>\n",
       "      <td>Myles, Mr. Thomas Francis</td>\n",
       "      <td>male</td>\n",
       "      <td>62.0</td>\n",
       "      <td>0</td>\n",
       "      <td>0</td>\n",
       "      <td>240276</td>\n",
       "      <td>9.6875</td>\n",
       "      <td>NaN</td>\n",
       "      <td>Q</td>\n",
       "    </tr>\n",
       "    <tr>\n",
       "      <th>3</th>\n",
       "      <td>895</td>\n",
       "      <td>3</td>\n",
       "      <td>Wirz, Mr. Albert</td>\n",
       "      <td>male</td>\n",
       "      <td>27.0</td>\n",
       "      <td>0</td>\n",
       "      <td>0</td>\n",
       "      <td>315154</td>\n",
       "      <td>8.6625</td>\n",
       "      <td>NaN</td>\n",
       "      <td>S</td>\n",
       "    </tr>\n",
       "    <tr>\n",
       "      <th>4</th>\n",
       "      <td>896</td>\n",
       "      <td>3</td>\n",
       "      <td>Hirvonen, Mrs. Alexander (Helga E Lindqvist)</td>\n",
       "      <td>female</td>\n",
       "      <td>22.0</td>\n",
       "      <td>1</td>\n",
       "      <td>1</td>\n",
       "      <td>3101298</td>\n",
       "      <td>12.2875</td>\n",
       "      <td>NaN</td>\n",
       "      <td>S</td>\n",
       "    </tr>\n",
       "  </tbody>\n",
       "</table>\n",
       "</div>"
      ],
      "text/plain": [
       "   PassengerId  Pclass                                          Name     Sex  \\\n",
       "0          892       3                              Kelly, Mr. James    male   \n",
       "1          893       3              Wilkes, Mrs. James (Ellen Needs)  female   \n",
       "2          894       2                     Myles, Mr. Thomas Francis    male   \n",
       "3          895       3                              Wirz, Mr. Albert    male   \n",
       "4          896       3  Hirvonen, Mrs. Alexander (Helga E Lindqvist)  female   \n",
       "\n",
       "    Age  SibSp  Parch   Ticket     Fare Cabin Embarked  \n",
       "0  34.5      0      0   330911   7.8292   NaN        Q  \n",
       "1  47.0      1      0   363272   7.0000   NaN        S  \n",
       "2  62.0      0      0   240276   9.6875   NaN        Q  \n",
       "3  27.0      0      0   315154   8.6625   NaN        S  \n",
       "4  22.0      1      1  3101298  12.2875   NaN        S  "
      ]
     },
     "execution_count": 3,
     "metadata": {},
     "output_type": "execute_result"
    }
   ],
   "source": [
    "test_data = pd.read_csv(\"/kaggle/input/titanic/test.csv\")\n",
    "test_data.head()"
   ]
  },
  {
   "cell_type": "code",
   "execution_count": 4,
   "id": "5bb1e3ba",
   "metadata": {
    "execution": {
     "iopub.execute_input": "2024-05-11T20:09:45.244370Z",
     "iopub.status.busy": "2024-05-11T20:09:45.243951Z",
     "iopub.status.idle": "2024-05-11T20:09:45.271408Z",
     "shell.execute_reply": "2024-05-11T20:09:45.270060Z"
    },
    "papermill": {
     "duration": 0.055917,
     "end_time": "2024-05-11T20:09:45.273748",
     "exception": false,
     "start_time": "2024-05-11T20:09:45.217831",
     "status": "completed"
    },
    "tags": []
   },
   "outputs": [
    {
     "name": "stdout",
     "output_type": "stream",
     "text": [
      "<class 'pandas.core.frame.DataFrame'>\n",
      "RangeIndex: 891 entries, 0 to 890\n",
      "Data columns (total 12 columns):\n",
      " #   Column       Non-Null Count  Dtype  \n",
      "---  ------       --------------  -----  \n",
      " 0   PassengerId  891 non-null    int64  \n",
      " 1   Survived     891 non-null    int64  \n",
      " 2   Pclass       891 non-null    int64  \n",
      " 3   Name         891 non-null    object \n",
      " 4   Sex          891 non-null    object \n",
      " 5   Age          714 non-null    float64\n",
      " 6   SibSp        891 non-null    int64  \n",
      " 7   Parch        891 non-null    int64  \n",
      " 8   Ticket       891 non-null    object \n",
      " 9   Fare         891 non-null    float64\n",
      " 10  Cabin        204 non-null    object \n",
      " 11  Embarked     889 non-null    object \n",
      "dtypes: float64(2), int64(5), object(5)\n",
      "memory usage: 83.7+ KB\n"
     ]
    }
   ],
   "source": [
    "train_data.info()"
   ]
  },
  {
   "cell_type": "code",
   "execution_count": 5,
   "id": "7ebcd81d",
   "metadata": {
    "execution": {
     "iopub.execute_input": "2024-05-11T20:09:45.324808Z",
     "iopub.status.busy": "2024-05-11T20:09:45.324440Z",
     "iopub.status.idle": "2024-05-11T20:09:45.354253Z",
     "shell.execute_reply": "2024-05-11T20:09:45.352713Z"
    },
    "papermill": {
     "duration": 0.05904,
     "end_time": "2024-05-11T20:09:45.356948",
     "exception": false,
     "start_time": "2024-05-11T20:09:45.297908",
     "status": "completed"
    },
    "tags": []
   },
   "outputs": [
    {
     "data": {
      "text/html": [
       "<div>\n",
       "<style scoped>\n",
       "    .dataframe tbody tr th:only-of-type {\n",
       "        vertical-align: middle;\n",
       "    }\n",
       "\n",
       "    .dataframe tbody tr th {\n",
       "        vertical-align: top;\n",
       "    }\n",
       "\n",
       "    .dataframe thead th {\n",
       "        text-align: right;\n",
       "    }\n",
       "</style>\n",
       "<table border=\"1\" class=\"dataframe\">\n",
       "  <thead>\n",
       "    <tr style=\"text-align: right;\">\n",
       "      <th></th>\n",
       "      <th>PassengerId</th>\n",
       "      <th>Survived</th>\n",
       "      <th>Pclass</th>\n",
       "      <th>Age</th>\n",
       "      <th>SibSp</th>\n",
       "      <th>Parch</th>\n",
       "      <th>Fare</th>\n",
       "    </tr>\n",
       "  </thead>\n",
       "  <tbody>\n",
       "    <tr>\n",
       "      <th>count</th>\n",
       "      <td>891.000000</td>\n",
       "      <td>891.000000</td>\n",
       "      <td>891.000000</td>\n",
       "      <td>714.000000</td>\n",
       "      <td>891.000000</td>\n",
       "      <td>891.000000</td>\n",
       "      <td>891.000000</td>\n",
       "    </tr>\n",
       "    <tr>\n",
       "      <th>mean</th>\n",
       "      <td>446.000000</td>\n",
       "      <td>0.383838</td>\n",
       "      <td>2.308642</td>\n",
       "      <td>29.699118</td>\n",
       "      <td>0.523008</td>\n",
       "      <td>0.381594</td>\n",
       "      <td>32.204208</td>\n",
       "    </tr>\n",
       "    <tr>\n",
       "      <th>std</th>\n",
       "      <td>257.353842</td>\n",
       "      <td>0.486592</td>\n",
       "      <td>0.836071</td>\n",
       "      <td>14.526497</td>\n",
       "      <td>1.102743</td>\n",
       "      <td>0.806057</td>\n",
       "      <td>49.693429</td>\n",
       "    </tr>\n",
       "    <tr>\n",
       "      <th>min</th>\n",
       "      <td>1.000000</td>\n",
       "      <td>0.000000</td>\n",
       "      <td>1.000000</td>\n",
       "      <td>0.420000</td>\n",
       "      <td>0.000000</td>\n",
       "      <td>0.000000</td>\n",
       "      <td>0.000000</td>\n",
       "    </tr>\n",
       "    <tr>\n",
       "      <th>25%</th>\n",
       "      <td>223.500000</td>\n",
       "      <td>0.000000</td>\n",
       "      <td>2.000000</td>\n",
       "      <td>20.125000</td>\n",
       "      <td>0.000000</td>\n",
       "      <td>0.000000</td>\n",
       "      <td>7.910400</td>\n",
       "    </tr>\n",
       "    <tr>\n",
       "      <th>50%</th>\n",
       "      <td>446.000000</td>\n",
       "      <td>0.000000</td>\n",
       "      <td>3.000000</td>\n",
       "      <td>28.000000</td>\n",
       "      <td>0.000000</td>\n",
       "      <td>0.000000</td>\n",
       "      <td>14.454200</td>\n",
       "    </tr>\n",
       "    <tr>\n",
       "      <th>75%</th>\n",
       "      <td>668.500000</td>\n",
       "      <td>1.000000</td>\n",
       "      <td>3.000000</td>\n",
       "      <td>38.000000</td>\n",
       "      <td>1.000000</td>\n",
       "      <td>0.000000</td>\n",
       "      <td>31.000000</td>\n",
       "    </tr>\n",
       "    <tr>\n",
       "      <th>max</th>\n",
       "      <td>891.000000</td>\n",
       "      <td>1.000000</td>\n",
       "      <td>3.000000</td>\n",
       "      <td>80.000000</td>\n",
       "      <td>8.000000</td>\n",
       "      <td>6.000000</td>\n",
       "      <td>512.329200</td>\n",
       "    </tr>\n",
       "  </tbody>\n",
       "</table>\n",
       "</div>"
      ],
      "text/plain": [
       "       PassengerId    Survived      Pclass         Age       SibSp  \\\n",
       "count   891.000000  891.000000  891.000000  714.000000  891.000000   \n",
       "mean    446.000000    0.383838    2.308642   29.699118    0.523008   \n",
       "std     257.353842    0.486592    0.836071   14.526497    1.102743   \n",
       "min       1.000000    0.000000    1.000000    0.420000    0.000000   \n",
       "25%     223.500000    0.000000    2.000000   20.125000    0.000000   \n",
       "50%     446.000000    0.000000    3.000000   28.000000    0.000000   \n",
       "75%     668.500000    1.000000    3.000000   38.000000    1.000000   \n",
       "max     891.000000    1.000000    3.000000   80.000000    8.000000   \n",
       "\n",
       "            Parch        Fare  \n",
       "count  891.000000  891.000000  \n",
       "mean     0.381594   32.204208  \n",
       "std      0.806057   49.693429  \n",
       "min      0.000000    0.000000  \n",
       "25%      0.000000    7.910400  \n",
       "50%      0.000000   14.454200  \n",
       "75%      0.000000   31.000000  \n",
       "max      6.000000  512.329200  "
      ]
     },
     "execution_count": 5,
     "metadata": {},
     "output_type": "execute_result"
    }
   ],
   "source": [
    "train_data.describe()"
   ]
  },
  {
   "cell_type": "code",
   "execution_count": 6,
   "id": "01ee6180",
   "metadata": {
    "execution": {
     "iopub.execute_input": "2024-05-11T20:09:45.404886Z",
     "iopub.status.busy": "2024-05-11T20:09:45.404516Z",
     "iopub.status.idle": "2024-05-11T20:09:45.427833Z",
     "shell.execute_reply": "2024-05-11T20:09:45.426974Z"
    },
    "papermill": {
     "duration": 0.05028,
     "end_time": "2024-05-11T20:09:45.430413",
     "exception": false,
     "start_time": "2024-05-11T20:09:45.380133",
     "status": "completed"
    },
    "tags": []
   },
   "outputs": [
    {
     "data": {
      "text/html": [
       "<div>\n",
       "<style scoped>\n",
       "    .dataframe tbody tr th:only-of-type {\n",
       "        vertical-align: middle;\n",
       "    }\n",
       "\n",
       "    .dataframe tbody tr th {\n",
       "        vertical-align: top;\n",
       "    }\n",
       "\n",
       "    .dataframe thead th {\n",
       "        text-align: right;\n",
       "    }\n",
       "</style>\n",
       "<table border=\"1\" class=\"dataframe\">\n",
       "  <thead>\n",
       "    <tr style=\"text-align: right;\">\n",
       "      <th></th>\n",
       "      <th>Name</th>\n",
       "      <th>Sex</th>\n",
       "      <th>Ticket</th>\n",
       "      <th>Cabin</th>\n",
       "      <th>Embarked</th>\n",
       "    </tr>\n",
       "  </thead>\n",
       "  <tbody>\n",
       "    <tr>\n",
       "      <th>count</th>\n",
       "      <td>891</td>\n",
       "      <td>891</td>\n",
       "      <td>891</td>\n",
       "      <td>204</td>\n",
       "      <td>889</td>\n",
       "    </tr>\n",
       "    <tr>\n",
       "      <th>unique</th>\n",
       "      <td>891</td>\n",
       "      <td>2</td>\n",
       "      <td>681</td>\n",
       "      <td>147</td>\n",
       "      <td>3</td>\n",
       "    </tr>\n",
       "    <tr>\n",
       "      <th>top</th>\n",
       "      <td>Braund, Mr. Owen Harris</td>\n",
       "      <td>male</td>\n",
       "      <td>347082</td>\n",
       "      <td>B96 B98</td>\n",
       "      <td>S</td>\n",
       "    </tr>\n",
       "    <tr>\n",
       "      <th>freq</th>\n",
       "      <td>1</td>\n",
       "      <td>577</td>\n",
       "      <td>7</td>\n",
       "      <td>4</td>\n",
       "      <td>644</td>\n",
       "    </tr>\n",
       "  </tbody>\n",
       "</table>\n",
       "</div>"
      ],
      "text/plain": [
       "                           Name   Sex  Ticket    Cabin Embarked\n",
       "count                       891   891     891      204      889\n",
       "unique                      891     2     681      147        3\n",
       "top     Braund, Mr. Owen Harris  male  347082  B96 B98        S\n",
       "freq                          1   577       7        4      644"
      ]
     },
     "execution_count": 6,
     "metadata": {},
     "output_type": "execute_result"
    }
   ],
   "source": [
    "train_data.describe(include = [\"O\"])"
   ]
  },
  {
   "cell_type": "code",
   "execution_count": 7,
   "id": "9b9029f9",
   "metadata": {
    "execution": {
     "iopub.execute_input": "2024-05-11T20:09:45.479007Z",
     "iopub.status.busy": "2024-05-11T20:09:45.478603Z",
     "iopub.status.idle": "2024-05-11T20:09:45.493173Z",
     "shell.execute_reply": "2024-05-11T20:09:45.491826Z"
    },
    "papermill": {
     "duration": 0.041555,
     "end_time": "2024-05-11T20:09:45.495379",
     "exception": false,
     "start_time": "2024-05-11T20:09:45.453824",
     "status": "completed"
    },
    "tags": []
   },
   "outputs": [
    {
     "data": {
      "text/html": [
       "<div>\n",
       "<style scoped>\n",
       "    .dataframe tbody tr th:only-of-type {\n",
       "        vertical-align: middle;\n",
       "    }\n",
       "\n",
       "    .dataframe tbody tr th {\n",
       "        vertical-align: top;\n",
       "    }\n",
       "\n",
       "    .dataframe thead th {\n",
       "        text-align: right;\n",
       "    }\n",
       "</style>\n",
       "<table border=\"1\" class=\"dataframe\">\n",
       "  <thead>\n",
       "    <tr style=\"text-align: right;\">\n",
       "      <th></th>\n",
       "      <th>Pclass</th>\n",
       "      <th>Survived</th>\n",
       "    </tr>\n",
       "  </thead>\n",
       "  <tbody>\n",
       "    <tr>\n",
       "      <th>0</th>\n",
       "      <td>1</td>\n",
       "      <td>0.629630</td>\n",
       "    </tr>\n",
       "    <tr>\n",
       "      <th>1</th>\n",
       "      <td>2</td>\n",
       "      <td>0.472826</td>\n",
       "    </tr>\n",
       "    <tr>\n",
       "      <th>2</th>\n",
       "      <td>3</td>\n",
       "      <td>0.242363</td>\n",
       "    </tr>\n",
       "  </tbody>\n",
       "</table>\n",
       "</div>"
      ],
      "text/plain": [
       "   Pclass  Survived\n",
       "0       1  0.629630\n",
       "1       2  0.472826\n",
       "2       3  0.242363"
      ]
     },
     "execution_count": 7,
     "metadata": {},
     "output_type": "execute_result"
    }
   ],
   "source": [
    "train_data.groupby(['Pclass'], as_index = False)['Survived'].mean()"
   ]
  },
  {
   "cell_type": "code",
   "execution_count": 8,
   "id": "08137750",
   "metadata": {
    "execution": {
     "iopub.execute_input": "2024-05-11T20:09:45.546467Z",
     "iopub.status.busy": "2024-05-11T20:09:45.546052Z",
     "iopub.status.idle": "2024-05-11T20:09:45.559223Z",
     "shell.execute_reply": "2024-05-11T20:09:45.557472Z"
    },
    "papermill": {
     "duration": 0.04231,
     "end_time": "2024-05-11T20:09:45.561987",
     "exception": false,
     "start_time": "2024-05-11T20:09:45.519677",
     "status": "completed"
    },
    "tags": []
   },
   "outputs": [
    {
     "data": {
      "text/html": [
       "<div>\n",
       "<style scoped>\n",
       "    .dataframe tbody tr th:only-of-type {\n",
       "        vertical-align: middle;\n",
       "    }\n",
       "\n",
       "    .dataframe tbody tr th {\n",
       "        vertical-align: top;\n",
       "    }\n",
       "\n",
       "    .dataframe thead th {\n",
       "        text-align: right;\n",
       "    }\n",
       "</style>\n",
       "<table border=\"1\" class=\"dataframe\">\n",
       "  <thead>\n",
       "    <tr style=\"text-align: right;\">\n",
       "      <th></th>\n",
       "      <th>Embarked</th>\n",
       "      <th>Survived</th>\n",
       "    </tr>\n",
       "  </thead>\n",
       "  <tbody>\n",
       "    <tr>\n",
       "      <th>0</th>\n",
       "      <td>C</td>\n",
       "      <td>0.553571</td>\n",
       "    </tr>\n",
       "    <tr>\n",
       "      <th>1</th>\n",
       "      <td>Q</td>\n",
       "      <td>0.389610</td>\n",
       "    </tr>\n",
       "    <tr>\n",
       "      <th>2</th>\n",
       "      <td>S</td>\n",
       "      <td>0.336957</td>\n",
       "    </tr>\n",
       "  </tbody>\n",
       "</table>\n",
       "</div>"
      ],
      "text/plain": [
       "  Embarked  Survived\n",
       "0        C  0.553571\n",
       "1        Q  0.389610\n",
       "2        S  0.336957"
      ]
     },
     "execution_count": 8,
     "metadata": {},
     "output_type": "execute_result"
    }
   ],
   "source": [
    "train_data.groupby(['Embarked'], as_index = False)['Survived'].mean()"
   ]
  },
  {
   "cell_type": "code",
   "execution_count": 9,
   "id": "805224f5",
   "metadata": {
    "execution": {
     "iopub.execute_input": "2024-05-11T20:09:45.614811Z",
     "iopub.status.busy": "2024-05-11T20:09:45.614395Z",
     "iopub.status.idle": "2024-05-11T20:09:45.631300Z",
     "shell.execute_reply": "2024-05-11T20:09:45.629369Z"
    },
    "papermill": {
     "duration": 0.047448,
     "end_time": "2024-05-11T20:09:45.633797",
     "exception": false,
     "start_time": "2024-05-11T20:09:45.586349",
     "status": "completed"
    },
    "tags": []
   },
   "outputs": [
    {
     "data": {
      "text/html": [
       "<div>\n",
       "<style scoped>\n",
       "    .dataframe tbody tr th:only-of-type {\n",
       "        vertical-align: middle;\n",
       "    }\n",
       "\n",
       "    .dataframe tbody tr th {\n",
       "        vertical-align: top;\n",
       "    }\n",
       "\n",
       "    .dataframe thead th {\n",
       "        text-align: right;\n",
       "    }\n",
       "</style>\n",
       "<table border=\"1\" class=\"dataframe\">\n",
       "  <thead>\n",
       "    <tr style=\"text-align: right;\">\n",
       "      <th></th>\n",
       "      <th>Sex</th>\n",
       "      <th>Survived</th>\n",
       "    </tr>\n",
       "  </thead>\n",
       "  <tbody>\n",
       "    <tr>\n",
       "      <th>0</th>\n",
       "      <td>female</td>\n",
       "      <td>0.742038</td>\n",
       "    </tr>\n",
       "    <tr>\n",
       "      <th>1</th>\n",
       "      <td>male</td>\n",
       "      <td>0.188908</td>\n",
       "    </tr>\n",
       "  </tbody>\n",
       "</table>\n",
       "</div>"
      ],
      "text/plain": [
       "      Sex  Survived\n",
       "0  female  0.742038\n",
       "1    male  0.188908"
      ]
     },
     "execution_count": 9,
     "metadata": {},
     "output_type": "execute_result"
    }
   ],
   "source": [
    "train_data.groupby(['Sex'], as_index = False)['Survived'].mean()"
   ]
  },
  {
   "cell_type": "code",
   "execution_count": 10,
   "id": "85caf5f0",
   "metadata": {
    "execution": {
     "iopub.execute_input": "2024-05-11T20:09:45.752766Z",
     "iopub.status.busy": "2024-05-11T20:09:45.752408Z",
     "iopub.status.idle": "2024-05-11T20:09:45.766956Z",
     "shell.execute_reply": "2024-05-11T20:09:45.765283Z"
    },
    "papermill": {
     "duration": 0.04287,
     "end_time": "2024-05-11T20:09:45.769813",
     "exception": false,
     "start_time": "2024-05-11T20:09:45.726943",
     "status": "completed"
    },
    "tags": []
   },
   "outputs": [
    {
     "data": {
      "text/html": [
       "<div>\n",
       "<style scoped>\n",
       "    .dataframe tbody tr th:only-of-type {\n",
       "        vertical-align: middle;\n",
       "    }\n",
       "\n",
       "    .dataframe tbody tr th {\n",
       "        vertical-align: top;\n",
       "    }\n",
       "\n",
       "    .dataframe thead th {\n",
       "        text-align: right;\n",
       "    }\n",
       "</style>\n",
       "<table border=\"1\" class=\"dataframe\">\n",
       "  <thead>\n",
       "    <tr style=\"text-align: right;\">\n",
       "      <th></th>\n",
       "      <th>SibSp</th>\n",
       "      <th>Survived</th>\n",
       "    </tr>\n",
       "  </thead>\n",
       "  <tbody>\n",
       "    <tr>\n",
       "      <th>0</th>\n",
       "      <td>0</td>\n",
       "      <td>0.345395</td>\n",
       "    </tr>\n",
       "    <tr>\n",
       "      <th>1</th>\n",
       "      <td>1</td>\n",
       "      <td>0.535885</td>\n",
       "    </tr>\n",
       "    <tr>\n",
       "      <th>2</th>\n",
       "      <td>2</td>\n",
       "      <td>0.464286</td>\n",
       "    </tr>\n",
       "    <tr>\n",
       "      <th>3</th>\n",
       "      <td>3</td>\n",
       "      <td>0.250000</td>\n",
       "    </tr>\n",
       "    <tr>\n",
       "      <th>4</th>\n",
       "      <td>4</td>\n",
       "      <td>0.166667</td>\n",
       "    </tr>\n",
       "    <tr>\n",
       "      <th>5</th>\n",
       "      <td>5</td>\n",
       "      <td>0.000000</td>\n",
       "    </tr>\n",
       "    <tr>\n",
       "      <th>6</th>\n",
       "      <td>8</td>\n",
       "      <td>0.000000</td>\n",
       "    </tr>\n",
       "  </tbody>\n",
       "</table>\n",
       "</div>"
      ],
      "text/plain": [
       "   SibSp  Survived\n",
       "0      0  0.345395\n",
       "1      1  0.535885\n",
       "2      2  0.464286\n",
       "3      3  0.250000\n",
       "4      4  0.166667\n",
       "5      5  0.000000\n",
       "6      8  0.000000"
      ]
     },
     "execution_count": 10,
     "metadata": {},
     "output_type": "execute_result"
    }
   ],
   "source": [
    "train_data.groupby(['SibSp'], as_index = False)['Survived'].mean()"
   ]
  },
  {
   "cell_type": "markdown",
   "id": "78c9f2a1",
   "metadata": {
    "papermill": {
     "duration": 0.026262,
     "end_time": "2024-05-11T20:09:45.821823",
     "exception": false,
     "start_time": "2024-05-11T20:09:45.795561",
     "status": "completed"
    },
    "tags": []
   },
   "source": [
    "Here we add a new column: family size to encompass sibSp and Parch"
   ]
  },
  {
   "cell_type": "code",
   "execution_count": 11,
   "id": "397e1af5",
   "metadata": {
    "execution": {
     "iopub.execute_input": "2024-05-11T20:09:45.875570Z",
     "iopub.status.busy": "2024-05-11T20:09:45.875197Z",
     "iopub.status.idle": "2024-05-11T20:09:45.882356Z",
     "shell.execute_reply": "2024-05-11T20:09:45.880993Z"
    },
    "papermill": {
     "duration": 0.037755,
     "end_time": "2024-05-11T20:09:45.884825",
     "exception": false,
     "start_time": "2024-05-11T20:09:45.847070",
     "status": "completed"
    },
    "tags": []
   },
   "outputs": [],
   "source": [
    "train_data['FamSize'] = train_data['SibSp'] + train_data['Parch'] + 1\n",
    "test_data['FamSize'] = test_data['SibSp'] + test_data['Parch'] + 1"
   ]
  },
  {
   "cell_type": "code",
   "execution_count": 12,
   "id": "b04d522b",
   "metadata": {
    "execution": {
     "iopub.execute_input": "2024-05-11T20:09:45.938266Z",
     "iopub.status.busy": "2024-05-11T20:09:45.937885Z",
     "iopub.status.idle": "2024-05-11T20:09:45.954133Z",
     "shell.execute_reply": "2024-05-11T20:09:45.952890Z"
    },
    "papermill": {
     "duration": 0.044778,
     "end_time": "2024-05-11T20:09:45.956263",
     "exception": false,
     "start_time": "2024-05-11T20:09:45.911485",
     "status": "completed"
    },
    "tags": []
   },
   "outputs": [
    {
     "data": {
      "text/html": [
       "<div>\n",
       "<style scoped>\n",
       "    .dataframe tbody tr th:only-of-type {\n",
       "        vertical-align: middle;\n",
       "    }\n",
       "\n",
       "    .dataframe tbody tr th {\n",
       "        vertical-align: top;\n",
       "    }\n",
       "\n",
       "    .dataframe thead th {\n",
       "        text-align: right;\n",
       "    }\n",
       "</style>\n",
       "<table border=\"1\" class=\"dataframe\">\n",
       "  <thead>\n",
       "    <tr style=\"text-align: right;\">\n",
       "      <th></th>\n",
       "      <th>PassengerId</th>\n",
       "      <th>Survived</th>\n",
       "      <th>Pclass</th>\n",
       "      <th>Name</th>\n",
       "      <th>Sex</th>\n",
       "      <th>Age</th>\n",
       "      <th>SibSp</th>\n",
       "      <th>Parch</th>\n",
       "      <th>Ticket</th>\n",
       "      <th>Fare</th>\n",
       "      <th>Cabin</th>\n",
       "      <th>Embarked</th>\n",
       "      <th>FamSize</th>\n",
       "    </tr>\n",
       "  </thead>\n",
       "  <tbody>\n",
       "    <tr>\n",
       "      <th>0</th>\n",
       "      <td>1</td>\n",
       "      <td>0</td>\n",
       "      <td>3</td>\n",
       "      <td>Braund, Mr. Owen Harris</td>\n",
       "      <td>male</td>\n",
       "      <td>22.0</td>\n",
       "      <td>1</td>\n",
       "      <td>0</td>\n",
       "      <td>A/5 21171</td>\n",
       "      <td>7.2500</td>\n",
       "      <td>NaN</td>\n",
       "      <td>S</td>\n",
       "      <td>2</td>\n",
       "    </tr>\n",
       "    <tr>\n",
       "      <th>1</th>\n",
       "      <td>2</td>\n",
       "      <td>1</td>\n",
       "      <td>1</td>\n",
       "      <td>Cumings, Mrs. John Bradley (Florence Briggs Th...</td>\n",
       "      <td>female</td>\n",
       "      <td>38.0</td>\n",
       "      <td>1</td>\n",
       "      <td>0</td>\n",
       "      <td>PC 17599</td>\n",
       "      <td>71.2833</td>\n",
       "      <td>C85</td>\n",
       "      <td>C</td>\n",
       "      <td>2</td>\n",
       "    </tr>\n",
       "    <tr>\n",
       "      <th>2</th>\n",
       "      <td>3</td>\n",
       "      <td>1</td>\n",
       "      <td>3</td>\n",
       "      <td>Heikkinen, Miss. Laina</td>\n",
       "      <td>female</td>\n",
       "      <td>26.0</td>\n",
       "      <td>0</td>\n",
       "      <td>0</td>\n",
       "      <td>STON/O2. 3101282</td>\n",
       "      <td>7.9250</td>\n",
       "      <td>NaN</td>\n",
       "      <td>S</td>\n",
       "      <td>1</td>\n",
       "    </tr>\n",
       "    <tr>\n",
       "      <th>3</th>\n",
       "      <td>4</td>\n",
       "      <td>1</td>\n",
       "      <td>1</td>\n",
       "      <td>Futrelle, Mrs. Jacques Heath (Lily May Peel)</td>\n",
       "      <td>female</td>\n",
       "      <td>35.0</td>\n",
       "      <td>1</td>\n",
       "      <td>0</td>\n",
       "      <td>113803</td>\n",
       "      <td>53.1000</td>\n",
       "      <td>C123</td>\n",
       "      <td>S</td>\n",
       "      <td>2</td>\n",
       "    </tr>\n",
       "    <tr>\n",
       "      <th>4</th>\n",
       "      <td>5</td>\n",
       "      <td>0</td>\n",
       "      <td>3</td>\n",
       "      <td>Allen, Mr. William Henry</td>\n",
       "      <td>male</td>\n",
       "      <td>35.0</td>\n",
       "      <td>0</td>\n",
       "      <td>0</td>\n",
       "      <td>373450</td>\n",
       "      <td>8.0500</td>\n",
       "      <td>NaN</td>\n",
       "      <td>S</td>\n",
       "      <td>1</td>\n",
       "    </tr>\n",
       "  </tbody>\n",
       "</table>\n",
       "</div>"
      ],
      "text/plain": [
       "   PassengerId  Survived  Pclass  \\\n",
       "0            1         0       3   \n",
       "1            2         1       1   \n",
       "2            3         1       3   \n",
       "3            4         1       1   \n",
       "4            5         0       3   \n",
       "\n",
       "                                                Name     Sex   Age  SibSp  \\\n",
       "0                            Braund, Mr. Owen Harris    male  22.0      1   \n",
       "1  Cumings, Mrs. John Bradley (Florence Briggs Th...  female  38.0      1   \n",
       "2                             Heikkinen, Miss. Laina  female  26.0      0   \n",
       "3       Futrelle, Mrs. Jacques Heath (Lily May Peel)  female  35.0      1   \n",
       "4                           Allen, Mr. William Henry    male  35.0      0   \n",
       "\n",
       "   Parch            Ticket     Fare Cabin Embarked  FamSize  \n",
       "0      0         A/5 21171   7.2500   NaN        S        2  \n",
       "1      0          PC 17599  71.2833   C85        C        2  \n",
       "2      0  STON/O2. 3101282   7.9250   NaN        S        1  \n",
       "3      0            113803  53.1000  C123        S        2  \n",
       "4      0            373450   8.0500   NaN        S        1  "
      ]
     },
     "execution_count": 12,
     "metadata": {},
     "output_type": "execute_result"
    }
   ],
   "source": [
    "train_data.head()"
   ]
  },
  {
   "cell_type": "code",
   "execution_count": 13,
   "id": "ec19a9c2",
   "metadata": {
    "execution": {
     "iopub.execute_input": "2024-05-11T20:09:46.008756Z",
     "iopub.status.busy": "2024-05-11T20:09:46.008364Z",
     "iopub.status.idle": "2024-05-11T20:09:46.026750Z",
     "shell.execute_reply": "2024-05-11T20:09:46.025779Z"
    },
    "papermill": {
     "duration": 0.047562,
     "end_time": "2024-05-11T20:09:46.029502",
     "exception": false,
     "start_time": "2024-05-11T20:09:45.981940",
     "status": "completed"
    },
    "tags": []
   },
   "outputs": [],
   "source": [
    "train_data['Age_Cut'] = pd.qcut(train_data['Age'],4)"
   ]
  },
  {
   "cell_type": "code",
   "execution_count": 14,
   "id": "c5f1ef7b",
   "metadata": {
    "execution": {
     "iopub.execute_input": "2024-05-11T20:09:46.083362Z",
     "iopub.status.busy": "2024-05-11T20:09:46.082570Z",
     "iopub.status.idle": "2024-05-11T20:09:46.099734Z",
     "shell.execute_reply": "2024-05-11T20:09:46.098281Z"
    },
    "papermill": {
     "duration": 0.047233,
     "end_time": "2024-05-11T20:09:46.103124",
     "exception": false,
     "start_time": "2024-05-11T20:09:46.055891",
     "status": "completed"
    },
    "tags": []
   },
   "outputs": [
    {
     "data": {
      "text/html": [
       "<div>\n",
       "<style scoped>\n",
       "    .dataframe tbody tr th:only-of-type {\n",
       "        vertical-align: middle;\n",
       "    }\n",
       "\n",
       "    .dataframe tbody tr th {\n",
       "        vertical-align: top;\n",
       "    }\n",
       "\n",
       "    .dataframe thead th {\n",
       "        text-align: right;\n",
       "    }\n",
       "</style>\n",
       "<table border=\"1\" class=\"dataframe\">\n",
       "  <thead>\n",
       "    <tr style=\"text-align: right;\">\n",
       "      <th></th>\n",
       "      <th>Age_Cut</th>\n",
       "      <th>Survived</th>\n",
       "    </tr>\n",
       "  </thead>\n",
       "  <tbody>\n",
       "    <tr>\n",
       "      <th>0</th>\n",
       "      <td>(0.419, 20.125]</td>\n",
       "      <td>0.458101</td>\n",
       "    </tr>\n",
       "    <tr>\n",
       "      <th>1</th>\n",
       "      <td>(20.125, 28.0]</td>\n",
       "      <td>0.360656</td>\n",
       "    </tr>\n",
       "    <tr>\n",
       "      <th>2</th>\n",
       "      <td>(28.0, 38.0]</td>\n",
       "      <td>0.434286</td>\n",
       "    </tr>\n",
       "    <tr>\n",
       "      <th>3</th>\n",
       "      <td>(38.0, 80.0]</td>\n",
       "      <td>0.372881</td>\n",
       "    </tr>\n",
       "  </tbody>\n",
       "</table>\n",
       "</div>"
      ],
      "text/plain": [
       "           Age_Cut  Survived\n",
       "0  (0.419, 20.125]  0.458101\n",
       "1   (20.125, 28.0]  0.360656\n",
       "2     (28.0, 38.0]  0.434286\n",
       "3     (38.0, 80.0]  0.372881"
      ]
     },
     "execution_count": 14,
     "metadata": {},
     "output_type": "execute_result"
    }
   ],
   "source": [
    "train_data.groupby(['Age_Cut'], as_index = False, observed = False)['Survived'].mean()"
   ]
  },
  {
   "cell_type": "markdown",
   "id": "6e49cbdb",
   "metadata": {
    "papermill": {
     "duration": 0.028035,
     "end_time": "2024-05-11T20:09:46.157268",
     "exception": false,
     "start_time": "2024-05-11T20:09:46.129233",
     "status": "completed"
    },
    "tags": []
   },
   "source": [
    "Here, we transform the Age column to have fewer values, we base it on the above age cut."
   ]
  },
  {
   "cell_type": "code",
   "execution_count": 15,
   "id": "788a29d5",
   "metadata": {
    "execution": {
     "iopub.execute_input": "2024-05-11T20:09:46.210263Z",
     "iopub.status.busy": "2024-05-11T20:09:46.209848Z",
     "iopub.status.idle": "2024-05-11T20:09:46.233124Z",
     "shell.execute_reply": "2024-05-11T20:09:46.231759Z"
    },
    "papermill": {
     "duration": 0.052301,
     "end_time": "2024-05-11T20:09:46.236001",
     "exception": false,
     "start_time": "2024-05-11T20:09:46.183700",
     "status": "completed"
    },
    "tags": []
   },
   "outputs": [
    {
     "data": {
      "text/plain": [
       "Series([], Name: Age, dtype: float64)"
      ]
     },
     "execution_count": 15,
     "metadata": {},
     "output_type": "execute_result"
    }
   ],
   "source": [
    "train_data.loc[train_data['Age'] <= 19, 'Age'] = 0\n",
    "train_data.loc[(train_data['Age'] > 19) & (train_data['Age'] <= 25), 'Age'] = 1\n",
    "train_data.loc[(train_data['Age'] > 25) & (train_data['Age'] <= 31.8), 'Age'] = 2\n",
    "train_data.loc[(train_data['Age'] > 31.8) & (train_data['Age'] <= 41), 'Age'] = 3\n",
    "train_data.loc[(train_data['Age'] > 41) & (train_data['Age'] <= 80), 'Age'] = 4\n",
    "train_data.loc[train_data['Age'] > 80, 'Age'] \n",
    "\n",
    "test_data.loc[test_data['Age'] <= 19, 'Age'] = 0\n",
    "test_data.loc[(test_data['Age'] > 19) & (test_data['Age'] <= 25), 'Age'] = 1\n",
    "test_data.loc[(test_data['Age'] > 25) & (test_data['Age'] <= 31.8), 'Age'] = 2\n",
    "test_data.loc[(test_data['Age'] > 31.8) & (test_data['Age'] <= 41), 'Age'] = 3\n",
    "test_data.loc[(test_data['Age'] > 41) & (test_data['Age'] <= 80), 'Age'] = 4\n",
    "test_data.loc[test_data['Age'] > 80, 'Age'] \n"
   ]
  },
  {
   "cell_type": "code",
   "execution_count": 16,
   "id": "eed5e568",
   "metadata": {
    "execution": {
     "iopub.execute_input": "2024-05-11T20:09:46.291156Z",
     "iopub.status.busy": "2024-05-11T20:09:46.290683Z",
     "iopub.status.idle": "2024-05-11T20:09:46.308465Z",
     "shell.execute_reply": "2024-05-11T20:09:46.307127Z"
    },
    "papermill": {
     "duration": 0.048874,
     "end_time": "2024-05-11T20:09:46.311352",
     "exception": false,
     "start_time": "2024-05-11T20:09:46.262478",
     "status": "completed"
    },
    "tags": []
   },
   "outputs": [
    {
     "data": {
      "text/html": [
       "<div>\n",
       "<style scoped>\n",
       "    .dataframe tbody tr th:only-of-type {\n",
       "        vertical-align: middle;\n",
       "    }\n",
       "\n",
       "    .dataframe tbody tr th {\n",
       "        vertical-align: top;\n",
       "    }\n",
       "\n",
       "    .dataframe thead th {\n",
       "        text-align: right;\n",
       "    }\n",
       "</style>\n",
       "<table border=\"1\" class=\"dataframe\">\n",
       "  <thead>\n",
       "    <tr style=\"text-align: right;\">\n",
       "      <th></th>\n",
       "      <th>PassengerId</th>\n",
       "      <th>Survived</th>\n",
       "      <th>Pclass</th>\n",
       "      <th>Name</th>\n",
       "      <th>Sex</th>\n",
       "      <th>Age</th>\n",
       "      <th>SibSp</th>\n",
       "      <th>Parch</th>\n",
       "      <th>Ticket</th>\n",
       "      <th>Fare</th>\n",
       "      <th>Cabin</th>\n",
       "      <th>Embarked</th>\n",
       "      <th>FamSize</th>\n",
       "      <th>Age_Cut</th>\n",
       "    </tr>\n",
       "  </thead>\n",
       "  <tbody>\n",
       "    <tr>\n",
       "      <th>0</th>\n",
       "      <td>1</td>\n",
       "      <td>0</td>\n",
       "      <td>3</td>\n",
       "      <td>Braund, Mr. Owen Harris</td>\n",
       "      <td>male</td>\n",
       "      <td>1.0</td>\n",
       "      <td>1</td>\n",
       "      <td>0</td>\n",
       "      <td>A/5 21171</td>\n",
       "      <td>7.2500</td>\n",
       "      <td>NaN</td>\n",
       "      <td>S</td>\n",
       "      <td>2</td>\n",
       "      <td>(20.125, 28.0]</td>\n",
       "    </tr>\n",
       "    <tr>\n",
       "      <th>1</th>\n",
       "      <td>2</td>\n",
       "      <td>1</td>\n",
       "      <td>1</td>\n",
       "      <td>Cumings, Mrs. John Bradley (Florence Briggs Th...</td>\n",
       "      <td>female</td>\n",
       "      <td>3.0</td>\n",
       "      <td>1</td>\n",
       "      <td>0</td>\n",
       "      <td>PC 17599</td>\n",
       "      <td>71.2833</td>\n",
       "      <td>C85</td>\n",
       "      <td>C</td>\n",
       "      <td>2</td>\n",
       "      <td>(28.0, 38.0]</td>\n",
       "    </tr>\n",
       "    <tr>\n",
       "      <th>2</th>\n",
       "      <td>3</td>\n",
       "      <td>1</td>\n",
       "      <td>3</td>\n",
       "      <td>Heikkinen, Miss. Laina</td>\n",
       "      <td>female</td>\n",
       "      <td>2.0</td>\n",
       "      <td>0</td>\n",
       "      <td>0</td>\n",
       "      <td>STON/O2. 3101282</td>\n",
       "      <td>7.9250</td>\n",
       "      <td>NaN</td>\n",
       "      <td>S</td>\n",
       "      <td>1</td>\n",
       "      <td>(20.125, 28.0]</td>\n",
       "    </tr>\n",
       "    <tr>\n",
       "      <th>3</th>\n",
       "      <td>4</td>\n",
       "      <td>1</td>\n",
       "      <td>1</td>\n",
       "      <td>Futrelle, Mrs. Jacques Heath (Lily May Peel)</td>\n",
       "      <td>female</td>\n",
       "      <td>3.0</td>\n",
       "      <td>1</td>\n",
       "      <td>0</td>\n",
       "      <td>113803</td>\n",
       "      <td>53.1000</td>\n",
       "      <td>C123</td>\n",
       "      <td>S</td>\n",
       "      <td>2</td>\n",
       "      <td>(28.0, 38.0]</td>\n",
       "    </tr>\n",
       "    <tr>\n",
       "      <th>4</th>\n",
       "      <td>5</td>\n",
       "      <td>0</td>\n",
       "      <td>3</td>\n",
       "      <td>Allen, Mr. William Henry</td>\n",
       "      <td>male</td>\n",
       "      <td>3.0</td>\n",
       "      <td>0</td>\n",
       "      <td>0</td>\n",
       "      <td>373450</td>\n",
       "      <td>8.0500</td>\n",
       "      <td>NaN</td>\n",
       "      <td>S</td>\n",
       "      <td>1</td>\n",
       "      <td>(28.0, 38.0]</td>\n",
       "    </tr>\n",
       "  </tbody>\n",
       "</table>\n",
       "</div>"
      ],
      "text/plain": [
       "   PassengerId  Survived  Pclass  \\\n",
       "0            1         0       3   \n",
       "1            2         1       1   \n",
       "2            3         1       3   \n",
       "3            4         1       1   \n",
       "4            5         0       3   \n",
       "\n",
       "                                                Name     Sex  Age  SibSp  \\\n",
       "0                            Braund, Mr. Owen Harris    male  1.0      1   \n",
       "1  Cumings, Mrs. John Bradley (Florence Briggs Th...  female  3.0      1   \n",
       "2                             Heikkinen, Miss. Laina  female  2.0      0   \n",
       "3       Futrelle, Mrs. Jacques Heath (Lily May Peel)  female  3.0      1   \n",
       "4                           Allen, Mr. William Henry    male  3.0      0   \n",
       "\n",
       "   Parch            Ticket     Fare Cabin Embarked  FamSize         Age_Cut  \n",
       "0      0         A/5 21171   7.2500   NaN        S        2  (20.125, 28.0]  \n",
       "1      0          PC 17599  71.2833   C85        C        2    (28.0, 38.0]  \n",
       "2      0  STON/O2. 3101282   7.9250   NaN        S        1  (20.125, 28.0]  \n",
       "3      0            113803  53.1000  C123        S        2    (28.0, 38.0]  \n",
       "4      0            373450   8.0500   NaN        S        1    (28.0, 38.0]  "
      ]
     },
     "execution_count": 16,
     "metadata": {},
     "output_type": "execute_result"
    }
   ],
   "source": [
    "train_data.head()"
   ]
  },
  {
   "cell_type": "code",
   "execution_count": 17,
   "id": "0720f2c4",
   "metadata": {
    "execution": {
     "iopub.execute_input": "2024-05-11T20:09:46.364287Z",
     "iopub.status.busy": "2024-05-11T20:09:46.363231Z",
     "iopub.status.idle": "2024-05-11T20:09:47.099712Z",
     "shell.execute_reply": "2024-05-11T20:09:47.098347Z"
    },
    "papermill": {
     "duration": 0.765308,
     "end_time": "2024-05-11T20:09:47.102071",
     "exception": false,
     "start_time": "2024-05-11T20:09:46.336763",
     "status": "completed"
    },
    "tags": []
   },
   "outputs": [
    {
     "name": "stderr",
     "output_type": "stream",
     "text": [
      "/opt/conda/lib/python3.10/site-packages/seaborn/_oldcore.py:1119: FutureWarning: use_inf_as_na option is deprecated and will be removed in a future version. Convert inf values to NaN before operating instead.\n",
      "  with pd.option_context('mode.use_inf_as_na', True):\n",
      "/opt/conda/lib/python3.10/site-packages/seaborn/_oldcore.py:1075: FutureWarning: When grouping with a length-1 list-like, you will need to pass a length-1 tuple to get_group in a future version of pandas. Pass `(name,)` instead of `name` to silence this warning.\n",
      "  data_subset = grouped_data.get_group(pd_key)\n",
      "/opt/conda/lib/python3.10/site-packages/seaborn/_oldcore.py:1075: FutureWarning: When grouping with a length-1 list-like, you will need to pass a length-1 tuple to get_group in a future version of pandas. Pass `(name,)` instead of `name` to silence this warning.\n",
      "  data_subset = grouped_data.get_group(pd_key)\n",
      "/opt/conda/lib/python3.10/site-packages/seaborn/_oldcore.py:1075: FutureWarning: When grouping with a length-1 list-like, you will need to pass a length-1 tuple to get_group in a future version of pandas. Pass `(name,)` instead of `name` to silence this warning.\n",
      "  data_subset = grouped_data.get_group(pd_key)\n"
     ]
    },
    {
     "data": {
      "text/plain": [
       "<seaborn.axisgrid.FacetGrid at 0x7d1349de7040>"
      ]
     },
     "execution_count": 17,
     "metadata": {},
     "output_type": "execute_result"
    },
    {
     "data": {
      "image/png": "[encoded data removed]",
      "text/plain": [
       "<Figure size 1000x500 with 2 Axes>"
      ]
     },
     "metadata": {},
     "output_type": "display_data"
    }
   ],
   "source": [
    "sns.displot(train_data, x = 'Fare', col = 'Survived', binwidth = 80, height = 5)"
   ]
  },
  {
   "cell_type": "markdown",
   "id": "8509d953",
   "metadata": {
    "papermill": {
     "duration": 0.025549,
     "end_time": "2024-05-11T20:09:47.154609",
     "exception": false,
     "start_time": "2024-05-11T20:09:47.129060",
     "status": "completed"
    },
    "tags": []
   },
   "source": [
    "There is also a large range for Fare values, we'll do a similar cut"
   ]
  },
  {
   "cell_type": "code",
   "execution_count": 18,
   "id": "3c520fef",
   "metadata": {
    "execution": {
     "iopub.execute_input": "2024-05-11T20:09:47.212818Z",
     "iopub.status.busy": "2024-05-11T20:09:47.212414Z",
     "iopub.status.idle": "2024-05-11T20:09:47.224438Z",
     "shell.execute_reply": "2024-05-11T20:09:47.223537Z"
    },
    "papermill": {
     "duration": 0.043042,
     "end_time": "2024-05-11T20:09:47.226900",
     "exception": false,
     "start_time": "2024-05-11T20:09:47.183858",
     "status": "completed"
    },
    "tags": []
   },
   "outputs": [],
   "source": [
    "train_data['Fare_Cut'] = pd.qcut(train_data['Fare'], 5)\n",
    "test_data['Fare_Cut'] = pd.qcut(test_data['Fare'], 5)"
   ]
  },
  {
   "cell_type": "code",
   "execution_count": 19,
   "id": "3968939c",
   "metadata": {
    "execution": {
     "iopub.execute_input": "2024-05-11T20:09:47.283711Z",
     "iopub.status.busy": "2024-05-11T20:09:47.282912Z",
     "iopub.status.idle": "2024-05-11T20:09:47.295475Z",
     "shell.execute_reply": "2024-05-11T20:09:47.294589Z"
    },
    "papermill": {
     "duration": 0.042585,
     "end_time": "2024-05-11T20:09:47.297811",
     "exception": false,
     "start_time": "2024-05-11T20:09:47.255226",
     "status": "completed"
    },
    "tags": []
   },
   "outputs": [
    {
     "data": {
      "text/html": [
       "<div>\n",
       "<style scoped>\n",
       "    .dataframe tbody tr th:only-of-type {\n",
       "        vertical-align: middle;\n",
       "    }\n",
       "\n",
       "    .dataframe tbody tr th {\n",
       "        vertical-align: top;\n",
       "    }\n",
       "\n",
       "    .dataframe thead th {\n",
       "        text-align: right;\n",
       "    }\n",
       "</style>\n",
       "<table border=\"1\" class=\"dataframe\">\n",
       "  <thead>\n",
       "    <tr style=\"text-align: right;\">\n",
       "      <th></th>\n",
       "      <th>Fare_Cut</th>\n",
       "      <th>Survived</th>\n",
       "    </tr>\n",
       "  </thead>\n",
       "  <tbody>\n",
       "    <tr>\n",
       "      <th>0</th>\n",
       "      <td>(-0.001, 7.854]</td>\n",
       "      <td>0.217877</td>\n",
       "    </tr>\n",
       "    <tr>\n",
       "      <th>1</th>\n",
       "      <td>(7.854, 10.5]</td>\n",
       "      <td>0.201087</td>\n",
       "    </tr>\n",
       "    <tr>\n",
       "      <th>2</th>\n",
       "      <td>(10.5, 21.679]</td>\n",
       "      <td>0.424419</td>\n",
       "    </tr>\n",
       "    <tr>\n",
       "      <th>3</th>\n",
       "      <td>(21.679, 39.688]</td>\n",
       "      <td>0.444444</td>\n",
       "    </tr>\n",
       "    <tr>\n",
       "      <th>4</th>\n",
       "      <td>(39.688, 512.329]</td>\n",
       "      <td>0.642045</td>\n",
       "    </tr>\n",
       "  </tbody>\n",
       "</table>\n",
       "</div>"
      ],
      "text/plain": [
       "            Fare_Cut  Survived\n",
       "0    (-0.001, 7.854]  0.217877\n",
       "1      (7.854, 10.5]  0.201087\n",
       "2     (10.5, 21.679]  0.424419\n",
       "3   (21.679, 39.688]  0.444444\n",
       "4  (39.688, 512.329]  0.642045"
      ]
     },
     "execution_count": 19,
     "metadata": {},
     "output_type": "execute_result"
    }
   ],
   "source": [
    "train_data.groupby(['Fare_Cut'], as_index = False, observed = False)['Survived'].mean()"
   ]
  },
  {
   "cell_type": "markdown",
   "id": "b174e0b7",
   "metadata": {
    "papermill": {
     "duration": 0.026504,
     "end_time": "2024-05-11T20:09:47.350225",
     "exception": false,
     "start_time": "2024-05-11T20:09:47.323721",
     "status": "completed"
    },
    "tags": []
   },
   "source": [
    "And we do a similar transformation to the Fare Column to have a smaller range to work with for our model"
   ]
  },
  {
   "cell_type": "code",
   "execution_count": 20,
   "id": "09ff2667",
   "metadata": {
    "execution": {
     "iopub.execute_input": "2024-05-11T20:09:47.406771Z",
     "iopub.status.busy": "2024-05-11T20:09:47.406122Z",
     "iopub.status.idle": "2024-05-11T20:09:47.429494Z",
     "shell.execute_reply": "2024-05-11T20:09:47.428484Z"
    },
    "papermill": {
     "duration": 0.054307,
     "end_time": "2024-05-11T20:09:47.432163",
     "exception": false,
     "start_time": "2024-05-11T20:09:47.377856",
     "status": "completed"
    },
    "tags": []
   },
   "outputs": [
    {
     "data": {
      "text/plain": [
       "343    512.3292\n",
       "Name: Fare, dtype: float64"
      ]
     },
     "execution_count": 20,
     "metadata": {},
     "output_type": "execute_result"
    }
   ],
   "source": [
    "train_data.loc[train_data['Fare'] <= 7.854, 'Fare'] = 0\n",
    "train_data.loc[(train_data['Fare'] > 7.854) & (train_data['Fare'] <= 10.5), 'Fare'] = 1\n",
    "train_data.loc[(train_data['Fare'] > 10.5) & (train_data['Fare'] <= 21.679), 'Fare'] = 2\n",
    "train_data.loc[(train_data['Fare'] > 21.679) & (train_data['Fare'] <= 39.688), 'Fare'] = 3\n",
    "train_data.loc[(train_data['Fare'] > 39.688) & (train_data['Fare'] <= 512.329), 'Fare'] = 4\n",
    "train_data.loc[train_data['Fare'] > 512.329, 'Fare'] \n",
    "\n",
    "test_data.loc[test_data['Fare'] <= 7.854, 'Fare'] = 0\n",
    "test_data.loc[(test_data['Fare'] > 7.854) & (test_data['Fare'] <= 10.5), 'Fare'] = 1\n",
    "test_data.loc[(test_data['Fare'] > 10.5) & (test_data['Fare'] <= 21.679), 'Fare'] = 2\n",
    "test_data.loc[(test_data['Fare'] > 21.679) & (test_data['Fare'] <= 39.688), 'Fare'] = 3\n",
    "test_data.loc[(test_data['Fare'] > 39.688) & (test_data['Fare'] <= 512.329), 'Fare'] = 4\n",
    "test_data.loc[test_data['Fare'] > 512.329, 'Fare'] "
   ]
  },
  {
   "cell_type": "code",
   "execution_count": 21,
   "id": "214ddfc6",
   "metadata": {
    "execution": {
     "iopub.execute_input": "2024-05-11T20:09:47.487548Z",
     "iopub.status.busy": "2024-05-11T20:09:47.487159Z",
     "iopub.status.idle": "2024-05-11T20:09:47.506185Z",
     "shell.execute_reply": "2024-05-11T20:09:47.505087Z"
    },
    "papermill": {
     "duration": 0.050129,
     "end_time": "2024-05-11T20:09:47.508379",
     "exception": false,
     "start_time": "2024-05-11T20:09:47.458250",
     "status": "completed"
    },
    "tags": []
   },
   "outputs": [
    {
     "data": {
      "text/html": [
       "<div>\n",
       "<style scoped>\n",
       "    .dataframe tbody tr th:only-of-type {\n",
       "        vertical-align: middle;\n",
       "    }\n",
       "\n",
       "    .dataframe tbody tr th {\n",
       "        vertical-align: top;\n",
       "    }\n",
       "\n",
       "    .dataframe thead th {\n",
       "        text-align: right;\n",
       "    }\n",
       "</style>\n",
       "<table border=\"1\" class=\"dataframe\">\n",
       "  <thead>\n",
       "    <tr style=\"text-align: right;\">\n",
       "      <th></th>\n",
       "      <th>PassengerId</th>\n",
       "      <th>Survived</th>\n",
       "      <th>Pclass</th>\n",
       "      <th>Name</th>\n",
       "      <th>Sex</th>\n",
       "      <th>Age</th>\n",
       "      <th>SibSp</th>\n",
       "      <th>Parch</th>\n",
       "      <th>Ticket</th>\n",
       "      <th>Fare</th>\n",
       "      <th>Cabin</th>\n",
       "      <th>Embarked</th>\n",
       "      <th>FamSize</th>\n",
       "      <th>Age_Cut</th>\n",
       "      <th>Fare_Cut</th>\n",
       "    </tr>\n",
       "  </thead>\n",
       "  <tbody>\n",
       "    <tr>\n",
       "      <th>0</th>\n",
       "      <td>1</td>\n",
       "      <td>0</td>\n",
       "      <td>3</td>\n",
       "      <td>Braund, Mr. Owen Harris</td>\n",
       "      <td>male</td>\n",
       "      <td>1.0</td>\n",
       "      <td>1</td>\n",
       "      <td>0</td>\n",
       "      <td>A/5 21171</td>\n",
       "      <td>0.0</td>\n",
       "      <td>NaN</td>\n",
       "      <td>S</td>\n",
       "      <td>2</td>\n",
       "      <td>(20.125, 28.0]</td>\n",
       "      <td>(-0.001, 7.854]</td>\n",
       "    </tr>\n",
       "    <tr>\n",
       "      <th>1</th>\n",
       "      <td>2</td>\n",
       "      <td>1</td>\n",
       "      <td>1</td>\n",
       "      <td>Cumings, Mrs. John Bradley (Florence Briggs Th...</td>\n",
       "      <td>female</td>\n",
       "      <td>3.0</td>\n",
       "      <td>1</td>\n",
       "      <td>0</td>\n",
       "      <td>PC 17599</td>\n",
       "      <td>4.0</td>\n",
       "      <td>C85</td>\n",
       "      <td>C</td>\n",
       "      <td>2</td>\n",
       "      <td>(28.0, 38.0]</td>\n",
       "      <td>(39.688, 512.329]</td>\n",
       "    </tr>\n",
       "    <tr>\n",
       "      <th>2</th>\n",
       "      <td>3</td>\n",
       "      <td>1</td>\n",
       "      <td>3</td>\n",
       "      <td>Heikkinen, Miss. Laina</td>\n",
       "      <td>female</td>\n",
       "      <td>2.0</td>\n",
       "      <td>0</td>\n",
       "      <td>0</td>\n",
       "      <td>STON/O2. 3101282</td>\n",
       "      <td>1.0</td>\n",
       "      <td>NaN</td>\n",
       "      <td>S</td>\n",
       "      <td>1</td>\n",
       "      <td>(20.125, 28.0]</td>\n",
       "      <td>(7.854, 10.5]</td>\n",
       "    </tr>\n",
       "    <tr>\n",
       "      <th>3</th>\n",
       "      <td>4</td>\n",
       "      <td>1</td>\n",
       "      <td>1</td>\n",
       "      <td>Futrelle, Mrs. Jacques Heath (Lily May Peel)</td>\n",
       "      <td>female</td>\n",
       "      <td>3.0</td>\n",
       "      <td>1</td>\n",
       "      <td>0</td>\n",
       "      <td>113803</td>\n",
       "      <td>4.0</td>\n",
       "      <td>C123</td>\n",
       "      <td>S</td>\n",
       "      <td>2</td>\n",
       "      <td>(28.0, 38.0]</td>\n",
       "      <td>(39.688, 512.329]</td>\n",
       "    </tr>\n",
       "    <tr>\n",
       "      <th>4</th>\n",
       "      <td>5</td>\n",
       "      <td>0</td>\n",
       "      <td>3</td>\n",
       "      <td>Allen, Mr. William Henry</td>\n",
       "      <td>male</td>\n",
       "      <td>3.0</td>\n",
       "      <td>0</td>\n",
       "      <td>0</td>\n",
       "      <td>373450</td>\n",
       "      <td>1.0</td>\n",
       "      <td>NaN</td>\n",
       "      <td>S</td>\n",
       "      <td>1</td>\n",
       "      <td>(28.0, 38.0]</td>\n",
       "      <td>(7.854, 10.5]</td>\n",
       "    </tr>\n",
       "  </tbody>\n",
       "</table>\n",
       "</div>"
      ],
      "text/plain": [
       "   PassengerId  Survived  Pclass  \\\n",
       "0            1         0       3   \n",
       "1            2         1       1   \n",
       "2            3         1       3   \n",
       "3            4         1       1   \n",
       "4            5         0       3   \n",
       "\n",
       "                                                Name     Sex  Age  SibSp  \\\n",
       "0                            Braund, Mr. Owen Harris    male  1.0      1   \n",
       "1  Cumings, Mrs. John Bradley (Florence Briggs Th...  female  3.0      1   \n",
       "2                             Heikkinen, Miss. Laina  female  2.0      0   \n",
       "3       Futrelle, Mrs. Jacques Heath (Lily May Peel)  female  3.0      1   \n",
       "4                           Allen, Mr. William Henry    male  3.0      0   \n",
       "\n",
       "   Parch            Ticket  Fare Cabin Embarked  FamSize         Age_Cut  \\\n",
       "0      0         A/5 21171   0.0   NaN        S        2  (20.125, 28.0]   \n",
       "1      0          PC 17599   4.0   C85        C        2    (28.0, 38.0]   \n",
       "2      0  STON/O2. 3101282   1.0   NaN        S        1  (20.125, 28.0]   \n",
       "3      0            113803   4.0  C123        S        2    (28.0, 38.0]   \n",
       "4      0            373450   1.0   NaN        S        1    (28.0, 38.0]   \n",
       "\n",
       "            Fare_Cut  \n",
       "0    (-0.001, 7.854]  \n",
       "1  (39.688, 512.329]  \n",
       "2      (7.854, 10.5]  \n",
       "3  (39.688, 512.329]  \n",
       "4      (7.854, 10.5]  "
      ]
     },
     "execution_count": 21,
     "metadata": {},
     "output_type": "execute_result"
    }
   ],
   "source": [
    "train_data.head()"
   ]
  },
  {
   "cell_type": "markdown",
   "id": "11022703",
   "metadata": {
    "papermill": {
     "duration": 0.029155,
     "end_time": "2024-05-11T20:09:47.564655",
     "exception": false,
     "start_time": "2024-05-11T20:09:47.535500",
     "status": "completed"
    },
    "tags": []
   },
   "source": [
    "There's a lot we could extract from names. The most obvious would be the title (Mrs, Sir...) which could indicate class, marital situation, gender. We start by extracting the titles: "
   ]
  },
  {
   "cell_type": "code",
   "execution_count": 22,
   "id": "a93c3e1e",
   "metadata": {
    "execution": {
     "iopub.execute_input": "2024-05-11T20:09:47.620589Z",
     "iopub.status.busy": "2024-05-11T20:09:47.620196Z",
     "iopub.status.idle": "2024-05-11T20:09:47.633897Z",
     "shell.execute_reply": "2024-05-11T20:09:47.632324Z"
    },
    "papermill": {
     "duration": 0.045337,
     "end_time": "2024-05-11T20:09:47.636231",
     "exception": false,
     "start_time": "2024-05-11T20:09:47.590894",
     "status": "completed"
    },
    "tags": []
   },
   "outputs": [],
   "source": [
    "train_data['Title'] = train_data['Name'].str.split(pat = ',', expand = True)[1].str.split(pat = '.', expand = True)[0]\n",
    "test_data['Title'] = test_data['Name'].str.split(pat = ',', expand = True)[1].str.split(pat = '.', expand = True)[0]"
   ]
  },
  {
   "cell_type": "code",
   "execution_count": 23,
   "id": "8dcf1ee5",
   "metadata": {
    "execution": {
     "iopub.execute_input": "2024-05-11T20:09:47.694830Z",
     "iopub.status.busy": "2024-05-11T20:09:47.694216Z",
     "iopub.status.idle": "2024-05-11T20:09:47.708877Z",
     "shell.execute_reply": "2024-05-11T20:09:47.707655Z"
    },
    "papermill": {
     "duration": 0.045699,
     "end_time": "2024-05-11T20:09:47.711072",
     "exception": false,
     "start_time": "2024-05-11T20:09:47.665373",
     "status": "completed"
    },
    "tags": []
   },
   "outputs": [
    {
     "data": {
      "text/html": [
       "<div>\n",
       "<style scoped>\n",
       "    .dataframe tbody tr th:only-of-type {\n",
       "        vertical-align: middle;\n",
       "    }\n",
       "\n",
       "    .dataframe tbody tr th {\n",
       "        vertical-align: top;\n",
       "    }\n",
       "\n",
       "    .dataframe thead th {\n",
       "        text-align: right;\n",
       "    }\n",
       "</style>\n",
       "<table border=\"1\" class=\"dataframe\">\n",
       "  <thead>\n",
       "    <tr style=\"text-align: right;\">\n",
       "      <th></th>\n",
       "      <th>Title</th>\n",
       "      <th>Survived</th>\n",
       "    </tr>\n",
       "  </thead>\n",
       "  <tbody>\n",
       "    <tr>\n",
       "      <th>0</th>\n",
       "      <td>Capt</td>\n",
       "      <td>0.000000</td>\n",
       "    </tr>\n",
       "    <tr>\n",
       "      <th>1</th>\n",
       "      <td>Col</td>\n",
       "      <td>0.500000</td>\n",
       "    </tr>\n",
       "    <tr>\n",
       "      <th>2</th>\n",
       "      <td>Don</td>\n",
       "      <td>0.000000</td>\n",
       "    </tr>\n",
       "    <tr>\n",
       "      <th>3</th>\n",
       "      <td>Dr</td>\n",
       "      <td>0.428571</td>\n",
       "    </tr>\n",
       "    <tr>\n",
       "      <th>4</th>\n",
       "      <td>Jonkheer</td>\n",
       "      <td>0.000000</td>\n",
       "    </tr>\n",
       "    <tr>\n",
       "      <th>5</th>\n",
       "      <td>Lady</td>\n",
       "      <td>1.000000</td>\n",
       "    </tr>\n",
       "    <tr>\n",
       "      <th>6</th>\n",
       "      <td>Major</td>\n",
       "      <td>0.500000</td>\n",
       "    </tr>\n",
       "    <tr>\n",
       "      <th>7</th>\n",
       "      <td>Master</td>\n",
       "      <td>0.575000</td>\n",
       "    </tr>\n",
       "    <tr>\n",
       "      <th>8</th>\n",
       "      <td>Miss</td>\n",
       "      <td>0.697802</td>\n",
       "    </tr>\n",
       "    <tr>\n",
       "      <th>9</th>\n",
       "      <td>Mlle</td>\n",
       "      <td>1.000000</td>\n",
       "    </tr>\n",
       "    <tr>\n",
       "      <th>10</th>\n",
       "      <td>Mme</td>\n",
       "      <td>1.000000</td>\n",
       "    </tr>\n",
       "    <tr>\n",
       "      <th>11</th>\n",
       "      <td>Mr</td>\n",
       "      <td>0.156673</td>\n",
       "    </tr>\n",
       "    <tr>\n",
       "      <th>12</th>\n",
       "      <td>Mrs</td>\n",
       "      <td>0.792000</td>\n",
       "    </tr>\n",
       "    <tr>\n",
       "      <th>13</th>\n",
       "      <td>Ms</td>\n",
       "      <td>1.000000</td>\n",
       "    </tr>\n",
       "    <tr>\n",
       "      <th>14</th>\n",
       "      <td>Rev</td>\n",
       "      <td>0.000000</td>\n",
       "    </tr>\n",
       "    <tr>\n",
       "      <th>15</th>\n",
       "      <td>Sir</td>\n",
       "      <td>1.000000</td>\n",
       "    </tr>\n",
       "    <tr>\n",
       "      <th>16</th>\n",
       "      <td>the Countess</td>\n",
       "      <td>1.000000</td>\n",
       "    </tr>\n",
       "  </tbody>\n",
       "</table>\n",
       "</div>"
      ],
      "text/plain": [
       "            Title  Survived\n",
       "0            Capt  0.000000\n",
       "1             Col  0.500000\n",
       "2             Don  0.000000\n",
       "3              Dr  0.428571\n",
       "4        Jonkheer  0.000000\n",
       "5            Lady  1.000000\n",
       "6           Major  0.500000\n",
       "7          Master  0.575000\n",
       "8            Miss  0.697802\n",
       "9            Mlle  1.000000\n",
       "10            Mme  1.000000\n",
       "11             Mr  0.156673\n",
       "12            Mrs  0.792000\n",
       "13             Ms  1.000000\n",
       "14            Rev  0.000000\n",
       "15            Sir  1.000000\n",
       "16   the Countess  1.000000"
      ]
     },
     "execution_count": 23,
     "metadata": {},
     "output_type": "execute_result"
    }
   ],
   "source": [
    "train_data.groupby(['Title'], as_index = False, observed = False)['Survived'].mean()"
   ]
  },
  {
   "cell_type": "markdown",
   "id": "00d9a51e",
   "metadata": {
    "papermill": {
     "duration": 0.027572,
     "end_time": "2024-05-11T20:09:47.766423",
     "exception": false,
     "start_time": "2024-05-11T20:09:47.738851",
     "status": "completed"
    },
    "tags": []
   },
   "source": [
    "Cool, but too much. We can split it as so: Nobility, Military, Unmarried female, etc"
   ]
  },
  {
   "cell_type": "code",
   "execution_count": 24,
   "id": "751319aa",
   "metadata": {
    "execution": {
     "iopub.execute_input": "2024-05-11T20:09:47.825075Z",
     "iopub.status.busy": "2024-05-11T20:09:47.824395Z",
     "iopub.status.idle": "2024-05-11T20:09:47.839080Z",
     "shell.execute_reply": "2024-05-11T20:09:47.838170Z"
    },
    "papermill": {
     "duration": 0.048396,
     "end_time": "2024-05-11T20:09:47.841472",
     "exception": false,
     "start_time": "2024-05-11T20:09:47.793076",
     "status": "completed"
    },
    "tags": []
   },
   "outputs": [],
   "source": [
    "train_data['Title'] = train_data['Title'].str.strip()\n",
    "train_data['Title'] = train_data['Title'].replace({\n",
    "    'Capt' : 'Military',\n",
    "    'Col' : 'Military',\n",
    "    'Major' : 'Military',\n",
    "    \n",
    "    'Jonkheer' : 'Noble',\n",
    "    'Lady' : 'Noble',\n",
    "    'Sir' : 'Noble',\n",
    "    'Don' : 'Noble',\n",
    "    'the Countess' : 'Noble',\n",
    "    \n",
    "    'Miss' : 'Unmarried_Female',\n",
    "    'Ms' : 'Unmarried_Female',\n",
    "    'Mlle' : 'Unmarried_Female',\n",
    "    \n",
    "    'Mrs' : 'Married_Female',\n",
    "    'Mme' : 'Married_Female'\n",
    "})\n",
    "\n",
    "test_data['Title'] = test_data['Title'].str.strip()\n",
    "test_data['Title'] = test_data['Title'].replace({\n",
    "    'Capt' : 'Military',\n",
    "    'Col' : 'Military',\n",
    "    'Major' : 'Military',\n",
    "    \n",
    "    'Jonkheer' : 'Noble',\n",
    "    'Lady' : 'Noble',\n",
    "    'Sir' : 'Noble',\n",
    "    'Don' : 'Noble',\n",
    "    'the Countess' : 'Noble',\n",
    "    \n",
    "    'Miss' : 'Unmarried_Female',\n",
    "    'Ms' : 'Unmarried_Female',\n",
    "    'Mlle' : 'Unmarried_Female',\n",
    "    \n",
    "    'Mrs' : 'Married_Female',\n",
    "    'Mme' : 'Married_Female'\n",
    "})"
   ]
  },
  {
   "cell_type": "code",
   "execution_count": 25,
   "id": "4b2cf9ad",
   "metadata": {
    "execution": {
     "iopub.execute_input": "2024-05-11T20:09:47.898774Z",
     "iopub.status.busy": "2024-05-11T20:09:47.898385Z",
     "iopub.status.idle": "2024-05-11T20:09:47.912669Z",
     "shell.execute_reply": "2024-05-11T20:09:47.910901Z"
    },
    "papermill": {
     "duration": 0.045351,
     "end_time": "2024-05-11T20:09:47.915072",
     "exception": false,
     "start_time": "2024-05-11T20:09:47.869721",
     "status": "completed"
    },
    "tags": []
   },
   "outputs": [
    {
     "data": {
      "text/html": [
       "<div>\n",
       "<style scoped>\n",
       "    .dataframe tbody tr th:only-of-type {\n",
       "        vertical-align: middle;\n",
       "    }\n",
       "\n",
       "    .dataframe tbody tr th {\n",
       "        vertical-align: top;\n",
       "    }\n",
       "\n",
       "    .dataframe thead th {\n",
       "        text-align: right;\n",
       "    }\n",
       "</style>\n",
       "<table border=\"1\" class=\"dataframe\">\n",
       "  <thead>\n",
       "    <tr style=\"text-align: right;\">\n",
       "      <th></th>\n",
       "      <th>Title</th>\n",
       "      <th>count</th>\n",
       "      <th>mean</th>\n",
       "    </tr>\n",
       "  </thead>\n",
       "  <tbody>\n",
       "    <tr>\n",
       "      <th>0</th>\n",
       "      <td>Dr</td>\n",
       "      <td>7</td>\n",
       "      <td>0.428571</td>\n",
       "    </tr>\n",
       "    <tr>\n",
       "      <th>1</th>\n",
       "      <td>Married_Female</td>\n",
       "      <td>126</td>\n",
       "      <td>0.793651</td>\n",
       "    </tr>\n",
       "    <tr>\n",
       "      <th>2</th>\n",
       "      <td>Master</td>\n",
       "      <td>40</td>\n",
       "      <td>0.575000</td>\n",
       "    </tr>\n",
       "    <tr>\n",
       "      <th>3</th>\n",
       "      <td>Military</td>\n",
       "      <td>5</td>\n",
       "      <td>0.400000</td>\n",
       "    </tr>\n",
       "    <tr>\n",
       "      <th>4</th>\n",
       "      <td>Mr</td>\n",
       "      <td>517</td>\n",
       "      <td>0.156673</td>\n",
       "    </tr>\n",
       "    <tr>\n",
       "      <th>5</th>\n",
       "      <td>Noble</td>\n",
       "      <td>5</td>\n",
       "      <td>0.600000</td>\n",
       "    </tr>\n",
       "    <tr>\n",
       "      <th>6</th>\n",
       "      <td>Rev</td>\n",
       "      <td>6</td>\n",
       "      <td>0.000000</td>\n",
       "    </tr>\n",
       "    <tr>\n",
       "      <th>7</th>\n",
       "      <td>Unmarried_Female</td>\n",
       "      <td>185</td>\n",
       "      <td>0.702703</td>\n",
       "    </tr>\n",
       "  </tbody>\n",
       "</table>\n",
       "</div>"
      ],
      "text/plain": [
       "              Title  count      mean\n",
       "0                Dr      7  0.428571\n",
       "1    Married_Female    126  0.793651\n",
       "2            Master     40  0.575000\n",
       "3          Military      5  0.400000\n",
       "4                Mr    517  0.156673\n",
       "5             Noble      5  0.600000\n",
       "6               Rev      6  0.000000\n",
       "7  Unmarried_Female    185  0.702703"
      ]
     },
     "execution_count": 25,
     "metadata": {},
     "output_type": "execute_result"
    }
   ],
   "source": [
    "train_data.groupby(['Title'], as_index = False, observed = False)['Survived'].agg(['count','mean'])"
   ]
  },
  {
   "cell_type": "markdown",
   "id": "aa1af908",
   "metadata": {
    "papermill": {
     "duration": 0.029128,
     "end_time": "2024-05-11T20:09:47.973591",
     "exception": false,
     "start_time": "2024-05-11T20:09:47.944463",
     "status": "completed"
    },
    "tags": []
   },
   "source": [
    "Easier to read eh. Now we'll extract the name length. The logic is if someone's name is longer, they might be more important. I don't know if I agree personally with the logic but let's see if it leads somewhere."
   ]
  },
  {
   "cell_type": "code",
   "execution_count": 26,
   "id": "667e411d",
   "metadata": {
    "execution": {
     "iopub.execute_input": "2024-05-11T20:09:48.033429Z",
     "iopub.status.busy": "2024-05-11T20:09:48.032965Z",
     "iopub.status.idle": "2024-05-11T20:09:48.040443Z",
     "shell.execute_reply": "2024-05-11T20:09:48.039472Z"
    },
    "papermill": {
     "duration": 0.039415,
     "end_time": "2024-05-11T20:09:48.042686",
     "exception": false,
     "start_time": "2024-05-11T20:09:48.003271",
     "status": "completed"
    },
    "tags": []
   },
   "outputs": [],
   "source": [
    "train_data['Name_Length'] = train_data['Name'].apply(lambda x:len(x))\n",
    "test_data['Name_Length'] = test_data['Name'].apply(lambda x:len(x))"
   ]
  },
  {
   "cell_type": "code",
   "execution_count": 27,
   "id": "e38a34cc",
   "metadata": {
    "execution": {
     "iopub.execute_input": "2024-05-11T20:09:48.100195Z",
     "iopub.status.busy": "2024-05-11T20:09:48.099786Z",
     "iopub.status.idle": "2024-05-11T20:09:48.464731Z",
     "shell.execute_reply": "2024-05-11T20:09:48.463077Z"
    },
    "papermill": {
     "duration": 0.396856,
     "end_time": "2024-05-11T20:09:48.467418",
     "exception": false,
     "start_time": "2024-05-11T20:09:48.070562",
     "status": "completed"
    },
    "tags": []
   },
   "outputs": [
    {
     "name": "stderr",
     "output_type": "stream",
     "text": [
      "/opt/conda/lib/python3.10/site-packages/seaborn/_oldcore.py:1119: FutureWarning: use_inf_as_na option is deprecated and will be removed in a future version. Convert inf values to NaN before operating instead.\n",
      "  with pd.option_context('mode.use_inf_as_na', True):\n",
      "/opt/conda/lib/python3.10/site-packages/seaborn/_oldcore.py:1119: FutureWarning: use_inf_as_na option is deprecated and will be removed in a future version. Convert inf values to NaN before operating instead.\n",
      "  with pd.option_context('mode.use_inf_as_na', True):\n"
     ]
    },
    {
     "data": {
      "image/png": "[encoded data removed]",
      "text/plain": [
       "<Figure size 640x480 with 1 Axes>"
      ]
     },
     "metadata": {},
     "output_type": "display_data"
    }
   ],
   "source": [
    "g = sns.kdeplot(train_data['Name_Length'][(train_data['Survived']==0) & (train_data['Name_Length'].notnull())], color = 'Red', fill = True)\n",
    "g = sns.kdeplot(train_data['Name_Length'][(train_data['Survived']==1) & (train_data['Name_Length'].notnull())], ax = g, color = 'Blue', fill = True)\n",
    "g.set_xlabel('Name_Length')\n",
    "g.set_ylabel('Frequency')\n",
    "g = g.legend(['Not Survived', 'Survived'])"
   ]
  },
  {
   "cell_type": "markdown",
   "id": "f64c0b31",
   "metadata": {
    "papermill": {
     "duration": 0.034713,
     "end_time": "2024-05-11T20:09:48.530547",
     "exception": false,
     "start_time": "2024-05-11T20:09:48.495834",
     "status": "completed"
    },
    "tags": []
   },
   "source": [
    "It looks like name length does matter. Time for another qcut then"
   ]
  },
  {
   "cell_type": "code",
   "execution_count": 28,
   "id": "a6d92509",
   "metadata": {
    "execution": {
     "iopub.execute_input": "2024-05-11T20:09:48.598901Z",
     "iopub.status.busy": "2024-05-11T20:09:48.598519Z",
     "iopub.status.idle": "2024-05-11T20:09:48.622325Z",
     "shell.execute_reply": "2024-05-11T20:09:48.620487Z"
    },
    "papermill": {
     "duration": 0.058747,
     "end_time": "2024-05-11T20:09:48.625023",
     "exception": false,
     "start_time": "2024-05-11T20:09:48.566276",
     "status": "completed"
    },
    "tags": []
   },
   "outputs": [
    {
     "data": {
      "text/html": [
       "<div>\n",
       "<style scoped>\n",
       "    .dataframe tbody tr th:only-of-type {\n",
       "        vertical-align: middle;\n",
       "    }\n",
       "\n",
       "    .dataframe tbody tr th {\n",
       "        vertical-align: top;\n",
       "    }\n",
       "\n",
       "    .dataframe thead th {\n",
       "        text-align: right;\n",
       "    }\n",
       "</style>\n",
       "<table border=\"1\" class=\"dataframe\">\n",
       "  <thead>\n",
       "    <tr style=\"text-align: right;\">\n",
       "      <th></th>\n",
       "      <th>PassengerId</th>\n",
       "      <th>Survived</th>\n",
       "      <th>Pclass</th>\n",
       "      <th>Name</th>\n",
       "      <th>Sex</th>\n",
       "      <th>Age</th>\n",
       "      <th>SibSp</th>\n",
       "      <th>Parch</th>\n",
       "      <th>Ticket</th>\n",
       "      <th>Fare</th>\n",
       "      <th>Cabin</th>\n",
       "      <th>Embarked</th>\n",
       "      <th>FamSize</th>\n",
       "      <th>Age_Cut</th>\n",
       "      <th>Fare_Cut</th>\n",
       "      <th>Title</th>\n",
       "      <th>Name_Length</th>\n",
       "    </tr>\n",
       "  </thead>\n",
       "  <tbody>\n",
       "    <tr>\n",
       "      <th>0</th>\n",
       "      <td>1</td>\n",
       "      <td>0</td>\n",
       "      <td>3</td>\n",
       "      <td>Braund, Mr. Owen Harris</td>\n",
       "      <td>male</td>\n",
       "      <td>1.0</td>\n",
       "      <td>1</td>\n",
       "      <td>0</td>\n",
       "      <td>A/5 21171</td>\n",
       "      <td>0.0</td>\n",
       "      <td>NaN</td>\n",
       "      <td>S</td>\n",
       "      <td>2</td>\n",
       "      <td>(20.125, 28.0]</td>\n",
       "      <td>(-0.001, 7.854]</td>\n",
       "      <td>Mr</td>\n",
       "      <td>23</td>\n",
       "    </tr>\n",
       "    <tr>\n",
       "      <th>1</th>\n",
       "      <td>2</td>\n",
       "      <td>1</td>\n",
       "      <td>1</td>\n",
       "      <td>Cumings, Mrs. John Bradley (Florence Briggs Th...</td>\n",
       "      <td>female</td>\n",
       "      <td>3.0</td>\n",
       "      <td>1</td>\n",
       "      <td>0</td>\n",
       "      <td>PC 17599</td>\n",
       "      <td>4.0</td>\n",
       "      <td>C85</td>\n",
       "      <td>C</td>\n",
       "      <td>2</td>\n",
       "      <td>(28.0, 38.0]</td>\n",
       "      <td>(39.688, 512.329]</td>\n",
       "      <td>Married_Female</td>\n",
       "      <td>51</td>\n",
       "    </tr>\n",
       "    <tr>\n",
       "      <th>2</th>\n",
       "      <td>3</td>\n",
       "      <td>1</td>\n",
       "      <td>3</td>\n",
       "      <td>Heikkinen, Miss. Laina</td>\n",
       "      <td>female</td>\n",
       "      <td>2.0</td>\n",
       "      <td>0</td>\n",
       "      <td>0</td>\n",
       "      <td>STON/O2. 3101282</td>\n",
       "      <td>1.0</td>\n",
       "      <td>NaN</td>\n",
       "      <td>S</td>\n",
       "      <td>1</td>\n",
       "      <td>(20.125, 28.0]</td>\n",
       "      <td>(7.854, 10.5]</td>\n",
       "      <td>Unmarried_Female</td>\n",
       "      <td>22</td>\n",
       "    </tr>\n",
       "    <tr>\n",
       "      <th>3</th>\n",
       "      <td>4</td>\n",
       "      <td>1</td>\n",
       "      <td>1</td>\n",
       "      <td>Futrelle, Mrs. Jacques Heath (Lily May Peel)</td>\n",
       "      <td>female</td>\n",
       "      <td>3.0</td>\n",
       "      <td>1</td>\n",
       "      <td>0</td>\n",
       "      <td>113803</td>\n",
       "      <td>4.0</td>\n",
       "      <td>C123</td>\n",
       "      <td>S</td>\n",
       "      <td>2</td>\n",
       "      <td>(28.0, 38.0]</td>\n",
       "      <td>(39.688, 512.329]</td>\n",
       "      <td>Married_Female</td>\n",
       "      <td>44</td>\n",
       "    </tr>\n",
       "    <tr>\n",
       "      <th>4</th>\n",
       "      <td>5</td>\n",
       "      <td>0</td>\n",
       "      <td>3</td>\n",
       "      <td>Allen, Mr. William Henry</td>\n",
       "      <td>male</td>\n",
       "      <td>3.0</td>\n",
       "      <td>0</td>\n",
       "      <td>0</td>\n",
       "      <td>373450</td>\n",
       "      <td>1.0</td>\n",
       "      <td>NaN</td>\n",
       "      <td>S</td>\n",
       "      <td>1</td>\n",
       "      <td>(28.0, 38.0]</td>\n",
       "      <td>(7.854, 10.5]</td>\n",
       "      <td>Mr</td>\n",
       "      <td>24</td>\n",
       "    </tr>\n",
       "  </tbody>\n",
       "</table>\n",
       "</div>"
      ],
      "text/plain": [
       "   PassengerId  Survived  Pclass  \\\n",
       "0            1         0       3   \n",
       "1            2         1       1   \n",
       "2            3         1       3   \n",
       "3            4         1       1   \n",
       "4            5         0       3   \n",
       "\n",
       "                                                Name     Sex  Age  SibSp  \\\n",
       "0                            Braund, Mr. Owen Harris    male  1.0      1   \n",
       "1  Cumings, Mrs. John Bradley (Florence Briggs Th...  female  3.0      1   \n",
       "2                             Heikkinen, Miss. Laina  female  2.0      0   \n",
       "3       Futrelle, Mrs. Jacques Heath (Lily May Peel)  female  3.0      1   \n",
       "4                           Allen, Mr. William Henry    male  3.0      0   \n",
       "\n",
       "   Parch            Ticket  Fare Cabin Embarked  FamSize         Age_Cut  \\\n",
       "0      0         A/5 21171   0.0   NaN        S        2  (20.125, 28.0]   \n",
       "1      0          PC 17599   4.0   C85        C        2    (28.0, 38.0]   \n",
       "2      0  STON/O2. 3101282   1.0   NaN        S        1  (20.125, 28.0]   \n",
       "3      0            113803   4.0  C123        S        2    (28.0, 38.0]   \n",
       "4      0            373450   1.0   NaN        S        1    (28.0, 38.0]   \n",
       "\n",
       "            Fare_Cut             Title  Name_Length  \n",
       "0    (-0.001, 7.854]                Mr           23  \n",
       "1  (39.688, 512.329]    Married_Female           51  \n",
       "2      (7.854, 10.5]  Unmarried_Female           22  \n",
       "3  (39.688, 512.329]    Married_Female           44  \n",
       "4      (7.854, 10.5]                Mr           24  "
      ]
     },
     "execution_count": 28,
     "metadata": {},
     "output_type": "execute_result"
    }
   ],
   "source": [
    "train_data.head()"
   ]
  },
  {
   "cell_type": "code",
   "execution_count": 29,
   "id": "526ccd4b",
   "metadata": {
    "execution": {
     "iopub.execute_input": "2024-05-11T20:09:48.685090Z",
     "iopub.status.busy": "2024-05-11T20:09:48.684076Z",
     "iopub.status.idle": "2024-05-11T20:09:48.698837Z",
     "shell.execute_reply": "2024-05-11T20:09:48.697586Z"
    },
    "papermill": {
     "duration": 0.047542,
     "end_time": "2024-05-11T20:09:48.702288",
     "exception": false,
     "start_time": "2024-05-11T20:09:48.654746",
     "status": "completed"
    },
    "tags": []
   },
   "outputs": [],
   "source": [
    "train_data['Name_LengthGB'] = pd.qcut(train_data['Name_Length'], 3)\n",
    "test_data['Name_LengthGB'] = pd.qcut(test_data['Name_Length'], 3)"
   ]
  },
  {
   "cell_type": "code",
   "execution_count": 30,
   "id": "8f0af00c",
   "metadata": {
    "execution": {
     "iopub.execute_input": "2024-05-11T20:09:48.759180Z",
     "iopub.status.busy": "2024-05-11T20:09:48.758759Z",
     "iopub.status.idle": "2024-05-11T20:09:48.771720Z",
     "shell.execute_reply": "2024-05-11T20:09:48.770600Z"
    },
    "papermill": {
     "duration": 0.044167,
     "end_time": "2024-05-11T20:09:48.773925",
     "exception": false,
     "start_time": "2024-05-11T20:09:48.729758",
     "status": "completed"
    },
    "tags": []
   },
   "outputs": [
    {
     "data": {
      "text/html": [
       "<div>\n",
       "<style scoped>\n",
       "    .dataframe tbody tr th:only-of-type {\n",
       "        vertical-align: middle;\n",
       "    }\n",
       "\n",
       "    .dataframe tbody tr th {\n",
       "        vertical-align: top;\n",
       "    }\n",
       "\n",
       "    .dataframe thead th {\n",
       "        text-align: right;\n",
       "    }\n",
       "</style>\n",
       "<table border=\"1\" class=\"dataframe\">\n",
       "  <thead>\n",
       "    <tr style=\"text-align: right;\">\n",
       "      <th></th>\n",
       "      <th>Name_LengthGB</th>\n",
       "      <th>Survived</th>\n",
       "    </tr>\n",
       "  </thead>\n",
       "  <tbody>\n",
       "    <tr>\n",
       "      <th>0</th>\n",
       "      <td>(11.999, 22.0]</td>\n",
       "      <td>0.252336</td>\n",
       "    </tr>\n",
       "    <tr>\n",
       "      <th>1</th>\n",
       "      <td>(22.0, 28.0]</td>\n",
       "      <td>0.322581</td>\n",
       "    </tr>\n",
       "    <tr>\n",
       "      <th>2</th>\n",
       "      <td>(28.0, 82.0]</td>\n",
       "      <td>0.587629</td>\n",
       "    </tr>\n",
       "  </tbody>\n",
       "</table>\n",
       "</div>"
      ],
      "text/plain": [
       "    Name_LengthGB  Survived\n",
       "0  (11.999, 22.0]  0.252336\n",
       "1    (22.0, 28.0]  0.322581\n",
       "2    (28.0, 82.0]  0.587629"
      ]
     },
     "execution_count": 30,
     "metadata": {},
     "output_type": "execute_result"
    }
   ],
   "source": [
    "train_data.groupby(['Name_LengthGB'], as_index = False, observed = False)['Survived'].mean()"
   ]
  },
  {
   "cell_type": "code",
   "execution_count": 31,
   "id": "6e538591",
   "metadata": {
    "execution": {
     "iopub.execute_input": "2024-05-11T20:09:48.842319Z",
     "iopub.status.busy": "2024-05-11T20:09:48.841913Z",
     "iopub.status.idle": "2024-05-11T20:09:48.861731Z",
     "shell.execute_reply": "2024-05-11T20:09:48.860510Z"
    },
    "papermill": {
     "duration": 0.054428,
     "end_time": "2024-05-11T20:09:48.863923",
     "exception": false,
     "start_time": "2024-05-11T20:09:48.809495",
     "status": "completed"
    },
    "tags": []
   },
   "outputs": [
    {
     "data": {
      "text/plain": [
       "Series([], Name: Name_Size, dtype: float64)"
      ]
     },
     "execution_count": 31,
     "metadata": {},
     "output_type": "execute_result"
    }
   ],
   "source": [
    "train_data.loc[train_data['Name_Length'] <= 22, 'Name_Size'] = 0\n",
    "train_data.loc[(train_data['Name_Length'] > 22) & (train_data['Name_Length'] <= 28), 'Name_Size'] = 1\n",
    "train_data.loc[(train_data['Name_Length'] > 28) & (train_data['Name_Length'] <= 82), 'Name_Size'] = 2\n",
    "train_data.loc[train_data['Name_Length'] > 82, 'Name_Size'] \n",
    "\n",
    "test_data.loc[test_data['Name_Length'] <= 22, 'Name_Size'] = 0\n",
    "test_data.loc[(test_data['Name_Length'] > 22) & (test_data['Name_Length'] <= 28), 'Name_Size'] = 1\n",
    "test_data.loc[(test_data['Name_Length'] > 28) & (test_data['Name_Length'] <= 82), 'Name_Size'] = 2\n",
    "test_data.loc[test_data['Name_Length'] > 82, 'Name_Size'] "
   ]
  },
  {
   "cell_type": "code",
   "execution_count": 32,
   "id": "fb37db2a",
   "metadata": {
    "execution": {
     "iopub.execute_input": "2024-05-11T20:09:48.929209Z",
     "iopub.status.busy": "2024-05-11T20:09:48.928803Z",
     "iopub.status.idle": "2024-05-11T20:09:48.953791Z",
     "shell.execute_reply": "2024-05-11T20:09:48.952526Z"
    },
    "papermill": {
     "duration": 0.058521,
     "end_time": "2024-05-11T20:09:48.956236",
     "exception": false,
     "start_time": "2024-05-11T20:09:48.897715",
     "status": "completed"
    },
    "tags": []
   },
   "outputs": [
    {
     "data": {
      "text/html": [
       "<div>\n",
       "<style scoped>\n",
       "    .dataframe tbody tr th:only-of-type {\n",
       "        vertical-align: middle;\n",
       "    }\n",
       "\n",
       "    .dataframe tbody tr th {\n",
       "        vertical-align: top;\n",
       "    }\n",
       "\n",
       "    .dataframe thead th {\n",
       "        text-align: right;\n",
       "    }\n",
       "</style>\n",
       "<table border=\"1\" class=\"dataframe\">\n",
       "  <thead>\n",
       "    <tr style=\"text-align: right;\">\n",
       "      <th></th>\n",
       "      <th>PassengerId</th>\n",
       "      <th>Survived</th>\n",
       "      <th>Pclass</th>\n",
       "      <th>Name</th>\n",
       "      <th>Sex</th>\n",
       "      <th>Age</th>\n",
       "      <th>SibSp</th>\n",
       "      <th>Parch</th>\n",
       "      <th>Ticket</th>\n",
       "      <th>Fare</th>\n",
       "      <th>Cabin</th>\n",
       "      <th>Embarked</th>\n",
       "      <th>FamSize</th>\n",
       "      <th>Age_Cut</th>\n",
       "      <th>Fare_Cut</th>\n",
       "      <th>Title</th>\n",
       "      <th>Name_Length</th>\n",
       "      <th>Name_LengthGB</th>\n",
       "      <th>Name_Size</th>\n",
       "    </tr>\n",
       "  </thead>\n",
       "  <tbody>\n",
       "    <tr>\n",
       "      <th>0</th>\n",
       "      <td>1</td>\n",
       "      <td>0</td>\n",
       "      <td>3</td>\n",
       "      <td>Braund, Mr. Owen Harris</td>\n",
       "      <td>male</td>\n",
       "      <td>1.0</td>\n",
       "      <td>1</td>\n",
       "      <td>0</td>\n",
       "      <td>A/5 21171</td>\n",
       "      <td>0.0</td>\n",
       "      <td>NaN</td>\n",
       "      <td>S</td>\n",
       "      <td>2</td>\n",
       "      <td>(20.125, 28.0]</td>\n",
       "      <td>(-0.001, 7.854]</td>\n",
       "      <td>Mr</td>\n",
       "      <td>23</td>\n",
       "      <td>(22.0, 28.0]</td>\n",
       "      <td>1.0</td>\n",
       "    </tr>\n",
       "    <tr>\n",
       "      <th>1</th>\n",
       "      <td>2</td>\n",
       "      <td>1</td>\n",
       "      <td>1</td>\n",
       "      <td>Cumings, Mrs. John Bradley (Florence Briggs Th...</td>\n",
       "      <td>female</td>\n",
       "      <td>3.0</td>\n",
       "      <td>1</td>\n",
       "      <td>0</td>\n",
       "      <td>PC 17599</td>\n",
       "      <td>4.0</td>\n",
       "      <td>C85</td>\n",
       "      <td>C</td>\n",
       "      <td>2</td>\n",
       "      <td>(28.0, 38.0]</td>\n",
       "      <td>(39.688, 512.329]</td>\n",
       "      <td>Married_Female</td>\n",
       "      <td>51</td>\n",
       "      <td>(28.0, 82.0]</td>\n",
       "      <td>2.0</td>\n",
       "    </tr>\n",
       "    <tr>\n",
       "      <th>2</th>\n",
       "      <td>3</td>\n",
       "      <td>1</td>\n",
       "      <td>3</td>\n",
       "      <td>Heikkinen, Miss. Laina</td>\n",
       "      <td>female</td>\n",
       "      <td>2.0</td>\n",
       "      <td>0</td>\n",
       "      <td>0</td>\n",
       "      <td>STON/O2. 3101282</td>\n",
       "      <td>1.0</td>\n",
       "      <td>NaN</td>\n",
       "      <td>S</td>\n",
       "      <td>1</td>\n",
       "      <td>(20.125, 28.0]</td>\n",
       "      <td>(7.854, 10.5]</td>\n",
       "      <td>Unmarried_Female</td>\n",
       "      <td>22</td>\n",
       "      <td>(11.999, 22.0]</td>\n",
       "      <td>0.0</td>\n",
       "    </tr>\n",
       "    <tr>\n",
       "      <th>3</th>\n",
       "      <td>4</td>\n",
       "      <td>1</td>\n",
       "      <td>1</td>\n",
       "      <td>Futrelle, Mrs. Jacques Heath (Lily May Peel)</td>\n",
       "      <td>female</td>\n",
       "      <td>3.0</td>\n",
       "      <td>1</td>\n",
       "      <td>0</td>\n",
       "      <td>113803</td>\n",
       "      <td>4.0</td>\n",
       "      <td>C123</td>\n",
       "      <td>S</td>\n",
       "      <td>2</td>\n",
       "      <td>(28.0, 38.0]</td>\n",
       "      <td>(39.688, 512.329]</td>\n",
       "      <td>Married_Female</td>\n",
       "      <td>44</td>\n",
       "      <td>(28.0, 82.0]</td>\n",
       "      <td>2.0</td>\n",
       "    </tr>\n",
       "    <tr>\n",
       "      <th>4</th>\n",
       "      <td>5</td>\n",
       "      <td>0</td>\n",
       "      <td>3</td>\n",
       "      <td>Allen, Mr. William Henry</td>\n",
       "      <td>male</td>\n",
       "      <td>3.0</td>\n",
       "      <td>0</td>\n",
       "      <td>0</td>\n",
       "      <td>373450</td>\n",
       "      <td>1.0</td>\n",
       "      <td>NaN</td>\n",
       "      <td>S</td>\n",
       "      <td>1</td>\n",
       "      <td>(28.0, 38.0]</td>\n",
       "      <td>(7.854, 10.5]</td>\n",
       "      <td>Mr</td>\n",
       "      <td>24</td>\n",
       "      <td>(22.0, 28.0]</td>\n",
       "      <td>1.0</td>\n",
       "    </tr>\n",
       "  </tbody>\n",
       "</table>\n",
       "</div>"
      ],
      "text/plain": [
       "   PassengerId  Survived  Pclass  \\\n",
       "0            1         0       3   \n",
       "1            2         1       1   \n",
       "2            3         1       3   \n",
       "3            4         1       1   \n",
       "4            5         0       3   \n",
       "\n",
       "                                                Name     Sex  Age  SibSp  \\\n",
       "0                            Braund, Mr. Owen Harris    male  1.0      1   \n",
       "1  Cumings, Mrs. John Bradley (Florence Briggs Th...  female  3.0      1   \n",
       "2                             Heikkinen, Miss. Laina  female  2.0      0   \n",
       "3       Futrelle, Mrs. Jacques Heath (Lily May Peel)  female  3.0      1   \n",
       "4                           Allen, Mr. William Henry    male  3.0      0   \n",
       "\n",
       "   Parch            Ticket  Fare Cabin Embarked  FamSize         Age_Cut  \\\n",
       "0      0         A/5 21171   0.0   NaN        S        2  (20.125, 28.0]   \n",
       "1      0          PC 17599   4.0   C85        C        2    (28.0, 38.0]   \n",
       "2      0  STON/O2. 3101282   1.0   NaN        S        1  (20.125, 28.0]   \n",
       "3      0            113803   4.0  C123        S        2    (28.0, 38.0]   \n",
       "4      0            373450   1.0   NaN        S        1    (28.0, 38.0]   \n",
       "\n",
       "            Fare_Cut             Title  Name_Length   Name_LengthGB  Name_Size  \n",
       "0    (-0.001, 7.854]                Mr           23    (22.0, 28.0]        1.0  \n",
       "1  (39.688, 512.329]    Married_Female           51    (28.0, 82.0]        2.0  \n",
       "2      (7.854, 10.5]  Unmarried_Female           22  (11.999, 22.0]        0.0  \n",
       "3  (39.688, 512.329]    Married_Female           44    (28.0, 82.0]        2.0  \n",
       "4      (7.854, 10.5]                Mr           24    (22.0, 28.0]        1.0  "
      ]
     },
     "execution_count": 32,
     "metadata": {},
     "output_type": "execute_result"
    }
   ],
   "source": [
    "train_data.head()"
   ]
  },
  {
   "cell_type": "markdown",
   "id": "0c216b12",
   "metadata": {
    "papermill": {
     "duration": 0.029501,
     "end_time": "2024-05-11T20:09:49.014687",
     "exception": false,
     "start_time": "2024-05-11T20:09:48.985186",
     "status": "completed"
    },
    "tags": []
   },
   "source": [
    "Now let's look at ticket price"
   ]
  },
  {
   "cell_type": "code",
   "execution_count": 33,
   "id": "f553d7bb",
   "metadata": {
    "execution": {
     "iopub.execute_input": "2024-05-11T20:09:49.075510Z",
     "iopub.status.busy": "2024-05-11T20:09:49.075144Z",
     "iopub.status.idle": "2024-05-11T20:09:49.365105Z",
     "shell.execute_reply": "2024-05-11T20:09:49.364261Z"
    },
    "papermill": {
     "duration": 0.32389,
     "end_time": "2024-05-11T20:09:49.367539",
     "exception": false,
     "start_time": "2024-05-11T20:09:49.043649",
     "status": "completed"
    },
    "tags": []
   },
   "outputs": [],
   "source": [
    "train_data['Ticket_Num'] = train_data['Ticket'].apply(lambda x : pd.Series({'Ticket' : x.split()[-1]}))\n",
    "test_data['Ticket_Num'] = test_data['Ticket'].apply(lambda x : pd.Series({'Ticket' : x.split()[-1]}))"
   ]
  },
  {
   "cell_type": "code",
   "execution_count": 34,
   "id": "00978f3c",
   "metadata": {
    "execution": {
     "iopub.execute_input": "2024-05-11T20:09:49.429547Z",
     "iopub.status.busy": "2024-05-11T20:09:49.428780Z",
     "iopub.status.idle": "2024-05-11T20:09:49.446864Z",
     "shell.execute_reply": "2024-05-11T20:09:49.446069Z"
    },
    "papermill": {
     "duration": 0.051048,
     "end_time": "2024-05-11T20:09:49.449143",
     "exception": false,
     "start_time": "2024-05-11T20:09:49.398095",
     "status": "completed"
    },
    "tags": []
   },
   "outputs": [
    {
     "data": {
      "text/html": [
       "<div>\n",
       "<style scoped>\n",
       "    .dataframe tbody tr th:only-of-type {\n",
       "        vertical-align: middle;\n",
       "    }\n",
       "\n",
       "    .dataframe tbody tr th {\n",
       "        vertical-align: top;\n",
       "    }\n",
       "\n",
       "    .dataframe thead th {\n",
       "        text-align: right;\n",
       "    }\n",
       "</style>\n",
       "<table border=\"1\" class=\"dataframe\">\n",
       "  <thead>\n",
       "    <tr style=\"text-align: right;\">\n",
       "      <th></th>\n",
       "      <th>Ticket_Num</th>\n",
       "      <th>count</th>\n",
       "      <th>mean</th>\n",
       "    </tr>\n",
       "  </thead>\n",
       "  <tbody>\n",
       "    <tr>\n",
       "      <th>464</th>\n",
       "      <td>347082</td>\n",
       "      <td>7</td>\n",
       "      <td>0.000000</td>\n",
       "    </tr>\n",
       "    <tr>\n",
       "      <th>196</th>\n",
       "      <td>2343</td>\n",
       "      <td>7</td>\n",
       "      <td>0.000000</td>\n",
       "    </tr>\n",
       "    <tr>\n",
       "      <th>94</th>\n",
       "      <td>1601</td>\n",
       "      <td>7</td>\n",
       "      <td>0.714286</td>\n",
       "    </tr>\n",
       "    <tr>\n",
       "      <th>168</th>\n",
       "      <td>2144</td>\n",
       "      <td>6</td>\n",
       "      <td>0.000000</td>\n",
       "    </tr>\n",
       "    <tr>\n",
       "      <th>468</th>\n",
       "      <td>347088</td>\n",
       "      <td>6</td>\n",
       "      <td>0.000000</td>\n",
       "    </tr>\n",
       "    <tr>\n",
       "      <th>...</th>\n",
       "      <td>...</td>\n",
       "      <td>...</td>\n",
       "      <td>...</td>\n",
       "    </tr>\n",
       "    <tr>\n",
       "      <th>271</th>\n",
       "      <td>2662</td>\n",
       "      <td>1</td>\n",
       "      <td>0.000000</td>\n",
       "    </tr>\n",
       "    <tr>\n",
       "      <th>272</th>\n",
       "      <td>2663</td>\n",
       "      <td>1</td>\n",
       "      <td>1.000000</td>\n",
       "    </tr>\n",
       "    <tr>\n",
       "      <th>273</th>\n",
       "      <td>2664</td>\n",
       "      <td>1</td>\n",
       "      <td>0.000000</td>\n",
       "    </tr>\n",
       "    <tr>\n",
       "      <th>276</th>\n",
       "      <td>2667</td>\n",
       "      <td>1</td>\n",
       "      <td>1.000000</td>\n",
       "    </tr>\n",
       "    <tr>\n",
       "      <th>339</th>\n",
       "      <td>3101274</td>\n",
       "      <td>1</td>\n",
       "      <td>0.000000</td>\n",
       "    </tr>\n",
       "  </tbody>\n",
       "</table>\n",
       "<p>679 rows × 3 columns</p>\n",
       "</div>"
      ],
      "text/plain": [
       "    Ticket_Num  count      mean\n",
       "464     347082      7  0.000000\n",
       "196       2343      7  0.000000\n",
       "94        1601      7  0.714286\n",
       "168       2144      6  0.000000\n",
       "468     347088      6  0.000000\n",
       "..         ...    ...       ...\n",
       "271       2662      1  0.000000\n",
       "272       2663      1  1.000000\n",
       "273       2664      1  0.000000\n",
       "276       2667      1  1.000000\n",
       "339    3101274      1  0.000000\n",
       "\n",
       "[679 rows x 3 columns]"
      ]
     },
     "execution_count": 34,
     "metadata": {},
     "output_type": "execute_result"
    }
   ],
   "source": [
    "train_data.groupby(['Ticket_Num'], as_index = False, observed = False)['Survived'].agg(['count','mean']).sort_values('count', ascending = False)"
   ]
  },
  {
   "cell_type": "markdown",
   "id": "92cd2dde",
   "metadata": {
    "papermill": {
     "duration": 0.029348,
     "end_time": "2024-05-11T20:09:49.508099",
     "exception": false,
     "start_time": "2024-05-11T20:09:49.478751",
     "status": "completed"
    },
    "tags": []
   },
   "source": [
    "Some ticket numbers are more common than others, let's create a count on our dataframe"
   ]
  },
  {
   "cell_type": "code",
   "execution_count": 35,
   "id": "f0eff21c",
   "metadata": {
    "execution": {
     "iopub.execute_input": "2024-05-11T20:09:49.570689Z",
     "iopub.status.busy": "2024-05-11T20:09:49.570296Z",
     "iopub.status.idle": "2024-05-11T20:09:49.581149Z",
     "shell.execute_reply": "2024-05-11T20:09:49.579831Z"
    },
    "papermill": {
     "duration": 0.044794,
     "end_time": "2024-05-11T20:09:49.583630",
     "exception": false,
     "start_time": "2024-05-11T20:09:49.538836",
     "status": "completed"
    },
    "tags": []
   },
   "outputs": [
    {
     "data": {
      "text/plain": [
       "0      1\n",
       "1      1\n",
       "2      1\n",
       "3      2\n",
       "4      1\n",
       "      ..\n",
       "886    1\n",
       "887    1\n",
       "888    2\n",
       "889    1\n",
       "890    1\n",
       "Name: Ticket_Num, Length: 891, dtype: int64"
      ]
     },
     "execution_count": 35,
     "metadata": {},
     "output_type": "execute_result"
    }
   ],
   "source": [
    "train_data.groupby('Ticket_Num')['Ticket_Num'].transform('count')"
   ]
  },
  {
   "cell_type": "code",
   "execution_count": 36,
   "id": "1908a268",
   "metadata": {
    "execution": {
     "iopub.execute_input": "2024-05-11T20:09:49.647012Z",
     "iopub.status.busy": "2024-05-11T20:09:49.646613Z",
     "iopub.status.idle": "2024-05-11T20:09:49.656809Z",
     "shell.execute_reply": "2024-05-11T20:09:49.655649Z"
    },
    "papermill": {
     "duration": 0.044182,
     "end_time": "2024-05-11T20:09:49.659380",
     "exception": false,
     "start_time": "2024-05-11T20:09:49.615198",
     "status": "completed"
    },
    "tags": []
   },
   "outputs": [],
   "source": [
    "train_data['Ticket_Num_Counts'] = train_data.groupby('Ticket_Num')['Ticket_Num'].transform('count')\n",
    "test_data['Ticket_Num_Counts'] = test_data.groupby('Ticket_Num')['Ticket_Num'].transform('count')"
   ]
  },
  {
   "cell_type": "code",
   "execution_count": 37,
   "id": "f897eabd",
   "metadata": {
    "execution": {
     "iopub.execute_input": "2024-05-11T20:09:49.719323Z",
     "iopub.status.busy": "2024-05-11T20:09:49.718956Z",
     "iopub.status.idle": "2024-05-11T20:09:49.731923Z",
     "shell.execute_reply": "2024-05-11T20:09:49.731093Z"
    },
    "papermill": {
     "duration": 0.045716,
     "end_time": "2024-05-11T20:09:49.734072",
     "exception": false,
     "start_time": "2024-05-11T20:09:49.688356",
     "status": "completed"
    },
    "tags": []
   },
   "outputs": [
    {
     "data": {
      "text/html": [
       "<div>\n",
       "<style scoped>\n",
       "    .dataframe tbody tr th:only-of-type {\n",
       "        vertical-align: middle;\n",
       "    }\n",
       "\n",
       "    .dataframe tbody tr th {\n",
       "        vertical-align: top;\n",
       "    }\n",
       "\n",
       "    .dataframe thead th {\n",
       "        text-align: right;\n",
       "    }\n",
       "</style>\n",
       "<table border=\"1\" class=\"dataframe\">\n",
       "  <thead>\n",
       "    <tr style=\"text-align: right;\">\n",
       "      <th></th>\n",
       "      <th>Ticket_Num_Counts</th>\n",
       "      <th>count</th>\n",
       "      <th>mean</th>\n",
       "    </tr>\n",
       "  </thead>\n",
       "  <tbody>\n",
       "    <tr>\n",
       "      <th>0</th>\n",
       "      <td>1</td>\n",
       "      <td>544</td>\n",
       "      <td>0.295956</td>\n",
       "    </tr>\n",
       "    <tr>\n",
       "      <th>1</th>\n",
       "      <td>2</td>\n",
       "      <td>188</td>\n",
       "      <td>0.569149</td>\n",
       "    </tr>\n",
       "    <tr>\n",
       "      <th>2</th>\n",
       "      <td>3</td>\n",
       "      <td>66</td>\n",
       "      <td>0.712121</td>\n",
       "    </tr>\n",
       "    <tr>\n",
       "      <th>3</th>\n",
       "      <td>4</td>\n",
       "      <td>44</td>\n",
       "      <td>0.500000</td>\n",
       "    </tr>\n",
       "    <tr>\n",
       "      <th>6</th>\n",
       "      <td>7</td>\n",
       "      <td>21</td>\n",
       "      <td>0.238095</td>\n",
       "    </tr>\n",
       "    <tr>\n",
       "      <th>5</th>\n",
       "      <td>6</td>\n",
       "      <td>18</td>\n",
       "      <td>0.000000</td>\n",
       "    </tr>\n",
       "    <tr>\n",
       "      <th>4</th>\n",
       "      <td>5</td>\n",
       "      <td>10</td>\n",
       "      <td>0.000000</td>\n",
       "    </tr>\n",
       "  </tbody>\n",
       "</table>\n",
       "</div>"
      ],
      "text/plain": [
       "   Ticket_Num_Counts  count      mean\n",
       "0                  1    544  0.295956\n",
       "1                  2    188  0.569149\n",
       "2                  3     66  0.712121\n",
       "3                  4     44  0.500000\n",
       "6                  7     21  0.238095\n",
       "5                  6     18  0.000000\n",
       "4                  5     10  0.000000"
      ]
     },
     "execution_count": 37,
     "metadata": {},
     "output_type": "execute_result"
    }
   ],
   "source": [
    "train_data.groupby(['Ticket_Num_Counts'], as_index = False, observed = False)['Survived'].agg(['count','mean']).sort_values('count', ascending = False)"
   ]
  },
  {
   "cell_type": "markdown",
   "id": "6476eacd",
   "metadata": {
    "papermill": {
     "duration": 0.029987,
     "end_time": "2024-05-11T20:09:49.793354",
     "exception": false,
     "start_time": "2024-05-11T20:09:49.763367",
     "status": "completed"
    },
    "tags": []
   },
   "source": [
    "Maybe a little hard to figure out what this might mean, leave it for the improvements"
   ]
  },
  {
   "cell_type": "code",
   "execution_count": 38,
   "id": "c735de3e",
   "metadata": {
    "execution": {
     "iopub.execute_input": "2024-05-11T20:09:49.853889Z",
     "iopub.status.busy": "2024-05-11T20:09:49.853534Z",
     "iopub.status.idle": "2024-05-11T20:09:49.868163Z",
     "shell.execute_reply": "2024-05-11T20:09:49.867109Z"
    },
    "papermill": {
     "duration": 0.048093,
     "end_time": "2024-05-11T20:09:49.870748",
     "exception": false,
     "start_time": "2024-05-11T20:09:49.822655",
     "status": "completed"
    },
    "tags": []
   },
   "outputs": [
    {
     "data": {
      "text/html": [
       "<div>\n",
       "<style scoped>\n",
       "    .dataframe tbody tr th:only-of-type {\n",
       "        vertical-align: middle;\n",
       "    }\n",
       "\n",
       "    .dataframe tbody tr th {\n",
       "        vertical-align: top;\n",
       "    }\n",
       "\n",
       "    .dataframe thead th {\n",
       "        text-align: right;\n",
       "    }\n",
       "</style>\n",
       "<table border=\"1\" class=\"dataframe\">\n",
       "  <thead>\n",
       "    <tr style=\"text-align: right;\">\n",
       "      <th></th>\n",
       "      <th>0</th>\n",
       "      <th>1</th>\n",
       "      <th>2</th>\n",
       "    </tr>\n",
       "  </thead>\n",
       "  <tbody>\n",
       "    <tr>\n",
       "      <th>0</th>\n",
       "      <td>A/5</td>\n",
       "      <td>21171</td>\n",
       "      <td>None</td>\n",
       "    </tr>\n",
       "    <tr>\n",
       "      <th>1</th>\n",
       "      <td>PC</td>\n",
       "      <td>17599</td>\n",
       "      <td>None</td>\n",
       "    </tr>\n",
       "    <tr>\n",
       "      <th>2</th>\n",
       "      <td>STON/O2.</td>\n",
       "      <td>3101282</td>\n",
       "      <td>None</td>\n",
       "    </tr>\n",
       "    <tr>\n",
       "      <th>3</th>\n",
       "      <td>113803</td>\n",
       "      <td>None</td>\n",
       "      <td>None</td>\n",
       "    </tr>\n",
       "    <tr>\n",
       "      <th>4</th>\n",
       "      <td>373450</td>\n",
       "      <td>None</td>\n",
       "      <td>None</td>\n",
       "    </tr>\n",
       "    <tr>\n",
       "      <th>...</th>\n",
       "      <td>...</td>\n",
       "      <td>...</td>\n",
       "      <td>...</td>\n",
       "    </tr>\n",
       "    <tr>\n",
       "      <th>886</th>\n",
       "      <td>211536</td>\n",
       "      <td>None</td>\n",
       "      <td>None</td>\n",
       "    </tr>\n",
       "    <tr>\n",
       "      <th>887</th>\n",
       "      <td>112053</td>\n",
       "      <td>None</td>\n",
       "      <td>None</td>\n",
       "    </tr>\n",
       "    <tr>\n",
       "      <th>888</th>\n",
       "      <td>W./C.</td>\n",
       "      <td>6607</td>\n",
       "      <td>None</td>\n",
       "    </tr>\n",
       "    <tr>\n",
       "      <th>889</th>\n",
       "      <td>111369</td>\n",
       "      <td>None</td>\n",
       "      <td>None</td>\n",
       "    </tr>\n",
       "    <tr>\n",
       "      <th>890</th>\n",
       "      <td>370376</td>\n",
       "      <td>None</td>\n",
       "      <td>None</td>\n",
       "    </tr>\n",
       "  </tbody>\n",
       "</table>\n",
       "<p>891 rows × 3 columns</p>\n",
       "</div>"
      ],
      "text/plain": [
       "            0        1     2\n",
       "0         A/5    21171  None\n",
       "1          PC    17599  None\n",
       "2    STON/O2.  3101282  None\n",
       "3      113803     None  None\n",
       "4      373450     None  None\n",
       "..        ...      ...   ...\n",
       "886    211536     None  None\n",
       "887    112053     None  None\n",
       "888     W./C.     6607  None\n",
       "889    111369     None  None\n",
       "890    370376     None  None\n",
       "\n",
       "[891 rows x 3 columns]"
      ]
     },
     "execution_count": 38,
     "metadata": {},
     "output_type": "execute_result"
    }
   ],
   "source": [
    "train_data['Ticket'].str.split(pat = \" \", expand = True)"
   ]
  },
  {
   "cell_type": "markdown",
   "id": "a5f95b79",
   "metadata": {
    "papermill": {
     "duration": 0.03081,
     "end_time": "2024-05-11T20:09:49.933727",
     "exception": false,
     "start_time": "2024-05-11T20:09:49.902917",
     "status": "completed"
    },
    "tags": []
   },
   "source": [
    "Tickets are not easy to extract info from, we'll move to cabin"
   ]
  },
  {
   "cell_type": "code",
   "execution_count": 39,
   "id": "48405022",
   "metadata": {
    "execution": {
     "iopub.execute_input": "2024-05-11T20:09:49.997029Z",
     "iopub.status.busy": "2024-05-11T20:09:49.995879Z",
     "iopub.status.idle": "2024-05-11T20:09:50.026621Z",
     "shell.execute_reply": "2024-05-11T20:09:50.025369Z"
    },
    "papermill": {
     "duration": 0.065478,
     "end_time": "2024-05-11T20:09:50.029321",
     "exception": false,
     "start_time": "2024-05-11T20:09:49.963843",
     "status": "completed"
    },
    "tags": []
   },
   "outputs": [
    {
     "data": {
      "text/html": [
       "<div>\n",
       "<style scoped>\n",
       "    .dataframe tbody tr th:only-of-type {\n",
       "        vertical-align: middle;\n",
       "    }\n",
       "\n",
       "    .dataframe tbody tr th {\n",
       "        vertical-align: top;\n",
       "    }\n",
       "\n",
       "    .dataframe thead th {\n",
       "        text-align: right;\n",
       "    }\n",
       "</style>\n",
       "<table border=\"1\" class=\"dataframe\">\n",
       "  <thead>\n",
       "    <tr style=\"text-align: right;\">\n",
       "      <th></th>\n",
       "      <th>PassengerId</th>\n",
       "      <th>Survived</th>\n",
       "      <th>Pclass</th>\n",
       "      <th>Name</th>\n",
       "      <th>Sex</th>\n",
       "      <th>Age</th>\n",
       "      <th>SibSp</th>\n",
       "      <th>Parch</th>\n",
       "      <th>Ticket</th>\n",
       "      <th>Fare</th>\n",
       "      <th>...</th>\n",
       "      <th>Embarked</th>\n",
       "      <th>FamSize</th>\n",
       "      <th>Age_Cut</th>\n",
       "      <th>Fare_Cut</th>\n",
       "      <th>Title</th>\n",
       "      <th>Name_Length</th>\n",
       "      <th>Name_LengthGB</th>\n",
       "      <th>Name_Size</th>\n",
       "      <th>Ticket_Num</th>\n",
       "      <th>Ticket_Num_Counts</th>\n",
       "    </tr>\n",
       "  </thead>\n",
       "  <tbody>\n",
       "    <tr>\n",
       "      <th>0</th>\n",
       "      <td>1</td>\n",
       "      <td>0</td>\n",
       "      <td>3</td>\n",
       "      <td>Braund, Mr. Owen Harris</td>\n",
       "      <td>male</td>\n",
       "      <td>1.0</td>\n",
       "      <td>1</td>\n",
       "      <td>0</td>\n",
       "      <td>A/5 21171</td>\n",
       "      <td>0.0</td>\n",
       "      <td>...</td>\n",
       "      <td>S</td>\n",
       "      <td>2</td>\n",
       "      <td>(20.125, 28.0]</td>\n",
       "      <td>(-0.001, 7.854]</td>\n",
       "      <td>Mr</td>\n",
       "      <td>23</td>\n",
       "      <td>(22.0, 28.0]</td>\n",
       "      <td>1.0</td>\n",
       "      <td>21171</td>\n",
       "      <td>1</td>\n",
       "    </tr>\n",
       "    <tr>\n",
       "      <th>1</th>\n",
       "      <td>2</td>\n",
       "      <td>1</td>\n",
       "      <td>1</td>\n",
       "      <td>Cumings, Mrs. John Bradley (Florence Briggs Th...</td>\n",
       "      <td>female</td>\n",
       "      <td>3.0</td>\n",
       "      <td>1</td>\n",
       "      <td>0</td>\n",
       "      <td>PC 17599</td>\n",
       "      <td>4.0</td>\n",
       "      <td>...</td>\n",
       "      <td>C</td>\n",
       "      <td>2</td>\n",
       "      <td>(28.0, 38.0]</td>\n",
       "      <td>(39.688, 512.329]</td>\n",
       "      <td>Married_Female</td>\n",
       "      <td>51</td>\n",
       "      <td>(28.0, 82.0]</td>\n",
       "      <td>2.0</td>\n",
       "      <td>17599</td>\n",
       "      <td>1</td>\n",
       "    </tr>\n",
       "    <tr>\n",
       "      <th>2</th>\n",
       "      <td>3</td>\n",
       "      <td>1</td>\n",
       "      <td>3</td>\n",
       "      <td>Heikkinen, Miss. Laina</td>\n",
       "      <td>female</td>\n",
       "      <td>2.0</td>\n",
       "      <td>0</td>\n",
       "      <td>0</td>\n",
       "      <td>STON/O2. 3101282</td>\n",
       "      <td>1.0</td>\n",
       "      <td>...</td>\n",
       "      <td>S</td>\n",
       "      <td>1</td>\n",
       "      <td>(20.125, 28.0]</td>\n",
       "      <td>(7.854, 10.5]</td>\n",
       "      <td>Unmarried_Female</td>\n",
       "      <td>22</td>\n",
       "      <td>(11.999, 22.0]</td>\n",
       "      <td>0.0</td>\n",
       "      <td>3101282</td>\n",
       "      <td>1</td>\n",
       "    </tr>\n",
       "    <tr>\n",
       "      <th>3</th>\n",
       "      <td>4</td>\n",
       "      <td>1</td>\n",
       "      <td>1</td>\n",
       "      <td>Futrelle, Mrs. Jacques Heath (Lily May Peel)</td>\n",
       "      <td>female</td>\n",
       "      <td>3.0</td>\n",
       "      <td>1</td>\n",
       "      <td>0</td>\n",
       "      <td>113803</td>\n",
       "      <td>4.0</td>\n",
       "      <td>...</td>\n",
       "      <td>S</td>\n",
       "      <td>2</td>\n",
       "      <td>(28.0, 38.0]</td>\n",
       "      <td>(39.688, 512.329]</td>\n",
       "      <td>Married_Female</td>\n",
       "      <td>44</td>\n",
       "      <td>(28.0, 82.0]</td>\n",
       "      <td>2.0</td>\n",
       "      <td>113803</td>\n",
       "      <td>2</td>\n",
       "    </tr>\n",
       "    <tr>\n",
       "      <th>4</th>\n",
       "      <td>5</td>\n",
       "      <td>0</td>\n",
       "      <td>3</td>\n",
       "      <td>Allen, Mr. William Henry</td>\n",
       "      <td>male</td>\n",
       "      <td>3.0</td>\n",
       "      <td>0</td>\n",
       "      <td>0</td>\n",
       "      <td>373450</td>\n",
       "      <td>1.0</td>\n",
       "      <td>...</td>\n",
       "      <td>S</td>\n",
       "      <td>1</td>\n",
       "      <td>(28.0, 38.0]</td>\n",
       "      <td>(7.854, 10.5]</td>\n",
       "      <td>Mr</td>\n",
       "      <td>24</td>\n",
       "      <td>(22.0, 28.0]</td>\n",
       "      <td>1.0</td>\n",
       "      <td>373450</td>\n",
       "      <td>1</td>\n",
       "    </tr>\n",
       "  </tbody>\n",
       "</table>\n",
       "<p>5 rows × 21 columns</p>\n",
       "</div>"
      ],
      "text/plain": [
       "   PassengerId  Survived  Pclass  \\\n",
       "0            1         0       3   \n",
       "1            2         1       1   \n",
       "2            3         1       3   \n",
       "3            4         1       1   \n",
       "4            5         0       3   \n",
       "\n",
       "                                                Name     Sex  Age  SibSp  \\\n",
       "0                            Braund, Mr. Owen Harris    male  1.0      1   \n",
       "1  Cumings, Mrs. John Bradley (Florence Briggs Th...  female  3.0      1   \n",
       "2                             Heikkinen, Miss. Laina  female  2.0      0   \n",
       "3       Futrelle, Mrs. Jacques Heath (Lily May Peel)  female  3.0      1   \n",
       "4                           Allen, Mr. William Henry    male  3.0      0   \n",
       "\n",
       "   Parch            Ticket  Fare  ... Embarked FamSize         Age_Cut  \\\n",
       "0      0         A/5 21171   0.0  ...        S       2  (20.125, 28.0]   \n",
       "1      0          PC 17599   4.0  ...        C       2    (28.0, 38.0]   \n",
       "2      0  STON/O2. 3101282   1.0  ...        S       1  (20.125, 28.0]   \n",
       "3      0            113803   4.0  ...        S       2    (28.0, 38.0]   \n",
       "4      0            373450   1.0  ...        S       1    (28.0, 38.0]   \n",
       "\n",
       "            Fare_Cut             Title Name_Length   Name_LengthGB Name_Size  \\\n",
       "0    (-0.001, 7.854]                Mr          23    (22.0, 28.0]       1.0   \n",
       "1  (39.688, 512.329]    Married_Female          51    (28.0, 82.0]       2.0   \n",
       "2      (7.854, 10.5]  Unmarried_Female          22  (11.999, 22.0]       0.0   \n",
       "3  (39.688, 512.329]    Married_Female          44    (28.0, 82.0]       2.0   \n",
       "4      (7.854, 10.5]                Mr          24    (22.0, 28.0]       1.0   \n",
       "\n",
       "   Ticket_Num Ticket_Num_Counts  \n",
       "0       21171                 1  \n",
       "1       17599                 1  \n",
       "2     3101282                 1  \n",
       "3      113803                 2  \n",
       "4      373450                 1  \n",
       "\n",
       "[5 rows x 21 columns]"
      ]
     },
     "execution_count": 39,
     "metadata": {},
     "output_type": "execute_result"
    }
   ],
   "source": [
    "train_data.head()"
   ]
  },
  {
   "cell_type": "code",
   "execution_count": 40,
   "id": "4e894d09",
   "metadata": {
    "execution": {
     "iopub.execute_input": "2024-05-11T20:09:50.093975Z",
     "iopub.status.busy": "2024-05-11T20:09:50.093251Z",
     "iopub.status.idle": "2024-05-11T20:09:50.100977Z",
     "shell.execute_reply": "2024-05-11T20:09:50.099883Z"
    },
    "papermill": {
     "duration": 0.042184,
     "end_time": "2024-05-11T20:09:50.103145",
     "exception": false,
     "start_time": "2024-05-11T20:09:50.060961",
     "status": "completed"
    },
    "tags": []
   },
   "outputs": [
    {
     "data": {
      "text/plain": [
       "0       NaN\n",
       "1       C85\n",
       "2       NaN\n",
       "3      C123\n",
       "4       NaN\n",
       "       ... \n",
       "886     NaN\n",
       "887     B42\n",
       "888     NaN\n",
       "889    C148\n",
       "890     NaN\n",
       "Name: Cabin, Length: 891, dtype: object"
      ]
     },
     "execution_count": 40,
     "metadata": {},
     "output_type": "execute_result"
    }
   ],
   "source": [
    "train_data['Cabin']"
   ]
  },
  {
   "cell_type": "code",
   "execution_count": 41,
   "id": "e45aac86",
   "metadata": {
    "execution": {
     "iopub.execute_input": "2024-05-11T20:09:50.164693Z",
     "iopub.status.busy": "2024-05-11T20:09:50.163973Z",
     "iopub.status.idle": "2024-05-11T20:09:50.173385Z",
     "shell.execute_reply": "2024-05-11T20:09:50.172351Z"
    },
    "papermill": {
     "duration": 0.04299,
     "end_time": "2024-05-11T20:09:50.175786",
     "exception": false,
     "start_time": "2024-05-11T20:09:50.132796",
     "status": "completed"
    },
    "tags": []
   },
   "outputs": [],
   "source": [
    "train_data['Cabin'] = train_data['Cabin'].fillna('U')\n",
    "train_data['Cabin'] = pd.Series([i[0] if not pd.isnull(i) else 'x' for i in train_data['Cabin']])\n",
    "\n",
    "test_data['Cabin'] = test_data['Cabin'].fillna('U')\n",
    "test_data['Cabin'] = pd.Series([i[0] if not pd.isnull(i) else 'x' for i in test_data['Cabin']])"
   ]
  },
  {
   "cell_type": "code",
   "execution_count": 42,
   "id": "a2b8e64d",
   "metadata": {
    "execution": {
     "iopub.execute_input": "2024-05-11T20:09:50.238545Z",
     "iopub.status.busy": "2024-05-11T20:09:50.238155Z",
     "iopub.status.idle": "2024-05-11T20:09:50.252528Z",
     "shell.execute_reply": "2024-05-11T20:09:50.250856Z"
    },
    "papermill": {
     "duration": 0.048881,
     "end_time": "2024-05-11T20:09:50.254970",
     "exception": false,
     "start_time": "2024-05-11T20:09:50.206089",
     "status": "completed"
    },
    "tags": []
   },
   "outputs": [
    {
     "data": {
      "text/html": [
       "<div>\n",
       "<style scoped>\n",
       "    .dataframe tbody tr th:only-of-type {\n",
       "        vertical-align: middle;\n",
       "    }\n",
       "\n",
       "    .dataframe tbody tr th {\n",
       "        vertical-align: top;\n",
       "    }\n",
       "\n",
       "    .dataframe thead th {\n",
       "        text-align: right;\n",
       "    }\n",
       "</style>\n",
       "<table border=\"1\" class=\"dataframe\">\n",
       "  <thead>\n",
       "    <tr style=\"text-align: right;\">\n",
       "      <th></th>\n",
       "      <th>Cabin</th>\n",
       "      <th>count</th>\n",
       "      <th>mean</th>\n",
       "    </tr>\n",
       "  </thead>\n",
       "  <tbody>\n",
       "    <tr>\n",
       "      <th>0</th>\n",
       "      <td>A</td>\n",
       "      <td>15</td>\n",
       "      <td>0.466667</td>\n",
       "    </tr>\n",
       "    <tr>\n",
       "      <th>1</th>\n",
       "      <td>B</td>\n",
       "      <td>47</td>\n",
       "      <td>0.744681</td>\n",
       "    </tr>\n",
       "    <tr>\n",
       "      <th>2</th>\n",
       "      <td>C</td>\n",
       "      <td>59</td>\n",
       "      <td>0.593220</td>\n",
       "    </tr>\n",
       "    <tr>\n",
       "      <th>3</th>\n",
       "      <td>D</td>\n",
       "      <td>33</td>\n",
       "      <td>0.757576</td>\n",
       "    </tr>\n",
       "    <tr>\n",
       "      <th>4</th>\n",
       "      <td>E</td>\n",
       "      <td>32</td>\n",
       "      <td>0.750000</td>\n",
       "    </tr>\n",
       "    <tr>\n",
       "      <th>5</th>\n",
       "      <td>F</td>\n",
       "      <td>13</td>\n",
       "      <td>0.615385</td>\n",
       "    </tr>\n",
       "    <tr>\n",
       "      <th>6</th>\n",
       "      <td>G</td>\n",
       "      <td>4</td>\n",
       "      <td>0.500000</td>\n",
       "    </tr>\n",
       "    <tr>\n",
       "      <th>7</th>\n",
       "      <td>T</td>\n",
       "      <td>1</td>\n",
       "      <td>0.000000</td>\n",
       "    </tr>\n",
       "    <tr>\n",
       "      <th>8</th>\n",
       "      <td>U</td>\n",
       "      <td>687</td>\n",
       "      <td>0.299854</td>\n",
       "    </tr>\n",
       "  </tbody>\n",
       "</table>\n",
       "</div>"
      ],
      "text/plain": [
       "  Cabin  count      mean\n",
       "0     A     15  0.466667\n",
       "1     B     47  0.744681\n",
       "2     C     59  0.593220\n",
       "3     D     33  0.757576\n",
       "4     E     32  0.750000\n",
       "5     F     13  0.615385\n",
       "6     G      4  0.500000\n",
       "7     T      1  0.000000\n",
       "8     U    687  0.299854"
      ]
     },
     "execution_count": 42,
     "metadata": {},
     "output_type": "execute_result"
    }
   ],
   "source": [
    "train_data.groupby(['Cabin'], as_index = False, observed = False)['Survived'].agg(['count','mean'])"
   ]
  },
  {
   "cell_type": "raw",
   "id": "c2f9308e",
   "metadata": {
    "papermill": {
     "duration": 0.030569,
     "end_time": "2024-05-11T20:09:50.316254",
     "exception": false,
     "start_time": "2024-05-11T20:09:50.285685",
     "status": "completed"
    },
    "tags": []
   },
   "source": [
    "Assigned cabins have much higher chance, Unassigned have very low chance. We can turn these 8 rows into a binary"
   ]
  },
  {
   "cell_type": "markdown",
   "id": "2b4da82b",
   "metadata": {
    "papermill": {
     "duration": 0.029856,
     "end_time": "2024-05-11T20:09:50.377072",
     "exception": false,
     "start_time": "2024-05-11T20:09:50.347216",
     "status": "completed"
    },
    "tags": []
   },
   "source": []
  },
  {
   "cell_type": "code",
   "execution_count": 43,
   "id": "2837a9f0",
   "metadata": {
    "execution": {
     "iopub.execute_input": "2024-05-11T20:09:50.442391Z",
     "iopub.status.busy": "2024-05-11T20:09:50.441412Z",
     "iopub.status.idle": "2024-05-11T20:09:50.448621Z",
     "shell.execute_reply": "2024-05-11T20:09:50.447686Z"
    },
    "papermill": {
     "duration": 0.044158,
     "end_time": "2024-05-11T20:09:50.450937",
     "exception": false,
     "start_time": "2024-05-11T20:09:50.406779",
     "status": "completed"
    },
    "tags": []
   },
   "outputs": [],
   "source": [
    "train_data['Cabin_Assigned'] = train_data['Cabin'].apply(lambda x : 0 if x in ['U'] else 1)\n",
    "test_data['Cabin_Assigned'] = test_data['Cabin'].apply(lambda x : 0 if x in ['U'] else 1)"
   ]
  },
  {
   "cell_type": "code",
   "execution_count": 44,
   "id": "6552ac51",
   "metadata": {
    "execution": {
     "iopub.execute_input": "2024-05-11T20:09:50.516301Z",
     "iopub.status.busy": "2024-05-11T20:09:50.515576Z",
     "iopub.status.idle": "2024-05-11T20:09:50.527604Z",
     "shell.execute_reply": "2024-05-11T20:09:50.526504Z"
    },
    "papermill": {
     "duration": 0.048112,
     "end_time": "2024-05-11T20:09:50.530405",
     "exception": false,
     "start_time": "2024-05-11T20:09:50.482293",
     "status": "completed"
    },
    "tags": []
   },
   "outputs": [
    {
     "data": {
      "text/html": [
       "<div>\n",
       "<style scoped>\n",
       "    .dataframe tbody tr th:only-of-type {\n",
       "        vertical-align: middle;\n",
       "    }\n",
       "\n",
       "    .dataframe tbody tr th {\n",
       "        vertical-align: top;\n",
       "    }\n",
       "\n",
       "    .dataframe thead th {\n",
       "        text-align: right;\n",
       "    }\n",
       "</style>\n",
       "<table border=\"1\" class=\"dataframe\">\n",
       "  <thead>\n",
       "    <tr style=\"text-align: right;\">\n",
       "      <th></th>\n",
       "      <th>Cabin_Assigned</th>\n",
       "      <th>count</th>\n",
       "      <th>mean</th>\n",
       "    </tr>\n",
       "  </thead>\n",
       "  <tbody>\n",
       "    <tr>\n",
       "      <th>0</th>\n",
       "      <td>0</td>\n",
       "      <td>687</td>\n",
       "      <td>0.299854</td>\n",
       "    </tr>\n",
       "    <tr>\n",
       "      <th>1</th>\n",
       "      <td>1</td>\n",
       "      <td>204</td>\n",
       "      <td>0.666667</td>\n",
       "    </tr>\n",
       "  </tbody>\n",
       "</table>\n",
       "</div>"
      ],
      "text/plain": [
       "   Cabin_Assigned  count      mean\n",
       "0               0    687  0.299854\n",
       "1               1    204  0.666667"
      ]
     },
     "execution_count": 44,
     "metadata": {},
     "output_type": "execute_result"
    }
   ],
   "source": [
    "train_data.groupby(['Cabin_Assigned'], as_index = False, observed = False)['Survived'].agg(['count','mean'])"
   ]
  },
  {
   "cell_type": "markdown",
   "id": "1cde3da3",
   "metadata": {
    "papermill": {
     "duration": 0.030249,
     "end_time": "2024-05-11T20:09:50.590233",
     "exception": false,
     "start_time": "2024-05-11T20:09:50.559984",
     "status": "completed"
    },
    "tags": []
   },
   "source": [
    "Clear results."
   ]
  },
  {
   "cell_type": "markdown",
   "id": "daaf0bfe",
   "metadata": {
    "papermill": {
     "duration": 0.029624,
     "end_time": "2024-05-11T20:09:50.649827",
     "exception": false,
     "start_time": "2024-05-11T20:09:50.620203",
     "status": "completed"
    },
    "tags": []
   },
   "source": [
    "> We're done with data exploration. Now we begin to clean and prepare for building our models"
   ]
  },
  {
   "cell_type": "code",
   "execution_count": 45,
   "id": "49b50593",
   "metadata": {
    "execution": {
     "iopub.execute_input": "2024-05-11T20:09:50.711411Z",
     "iopub.status.busy": "2024-05-11T20:09:50.710968Z",
     "iopub.status.idle": "2024-05-11T20:09:50.727535Z",
     "shell.execute_reply": "2024-05-11T20:09:50.726130Z"
    },
    "papermill": {
     "duration": 0.049897,
     "end_time": "2024-05-11T20:09:50.729757",
     "exception": false,
     "start_time": "2024-05-11T20:09:50.679860",
     "status": "completed"
    },
    "tags": []
   },
   "outputs": [
    {
     "name": "stdout",
     "output_type": "stream",
     "text": [
      "<class 'pandas.core.frame.DataFrame'>\n",
      "RangeIndex: 891 entries, 0 to 890\n",
      "Data columns (total 22 columns):\n",
      " #   Column             Non-Null Count  Dtype   \n",
      "---  ------             --------------  -----   \n",
      " 0   PassengerId        891 non-null    int64   \n",
      " 1   Survived           891 non-null    int64   \n",
      " 2   Pclass             891 non-null    int64   \n",
      " 3   Name               891 non-null    object  \n",
      " 4   Sex                891 non-null    object  \n",
      " 5   Age                714 non-null    float64 \n",
      " 6   SibSp              891 non-null    int64   \n",
      " 7   Parch              891 non-null    int64   \n",
      " 8   Ticket             891 non-null    object  \n",
      " 9   Fare               891 non-null    float64 \n",
      " 10  Cabin              891 non-null    object  \n",
      " 11  Embarked           889 non-null    object  \n",
      " 12  FamSize            891 non-null    int64   \n",
      " 13  Age_Cut            714 non-null    category\n",
      " 14  Fare_Cut           891 non-null    category\n",
      " 15  Title              891 non-null    object  \n",
      " 16  Name_Length        891 non-null    int64   \n",
      " 17  Name_LengthGB      891 non-null    category\n",
      " 18  Name_Size          891 non-null    float64 \n",
      " 19  Ticket_Num         891 non-null    object  \n",
      " 20  Ticket_Num_Counts  891 non-null    int64   \n",
      " 21  Cabin_Assigned     891 non-null    int64   \n",
      "dtypes: category(3), float64(3), int64(9), object(7)\n",
      "memory usage: 135.6+ KB\n"
     ]
    }
   ],
   "source": [
    "train_data.info()"
   ]
  },
  {
   "cell_type": "markdown",
   "id": "f191a74e",
   "metadata": {
    "papermill": {
     "duration": 0.030068,
     "end_time": "2024-05-11T20:09:50.789771",
     "exception": false,
     "start_time": "2024-05-11T20:09:50.759703",
     "status": "completed"
    },
    "tags": []
   },
   "source": [
    "Notice some of the columns have missing values. We need to fix that"
   ]
  },
  {
   "cell_type": "code",
   "execution_count": 46,
   "id": "e5dbe5b8",
   "metadata": {
    "execution": {
     "iopub.execute_input": "2024-05-11T20:09:50.853921Z",
     "iopub.status.busy": "2024-05-11T20:09:50.853575Z",
     "iopub.status.idle": "2024-05-11T20:09:50.859651Z",
     "shell.execute_reply": "2024-05-11T20:09:50.858811Z"
    },
    "papermill": {
     "duration": 0.040657,
     "end_time": "2024-05-11T20:09:50.861531",
     "exception": false,
     "start_time": "2024-05-11T20:09:50.820874",
     "status": "completed"
    },
    "tags": []
   },
   "outputs": [
    {
     "data": {
      "text/plain": [
       "Index(['PassengerId', 'Survived', 'Pclass', 'Name', 'Sex', 'Age', 'SibSp',\n",
       "       'Parch', 'Ticket', 'Fare', 'Cabin', 'Embarked', 'FamSize', 'Age_Cut',\n",
       "       'Fare_Cut', 'Title', 'Name_Length', 'Name_LengthGB', 'Name_Size',\n",
       "       'Ticket_Num', 'Ticket_Num_Counts', 'Cabin_Assigned'],\n",
       "      dtype='object')"
      ]
     },
     "execution_count": 46,
     "metadata": {},
     "output_type": "execute_result"
    }
   ],
   "source": [
    "train_data.columns"
   ]
  },
  {
   "cell_type": "code",
   "execution_count": 47,
   "id": "576e46a8",
   "metadata": {
    "execution": {
     "iopub.execute_input": "2024-05-11T20:09:50.925197Z",
     "iopub.status.busy": "2024-05-11T20:09:50.924487Z",
     "iopub.status.idle": "2024-05-11T20:09:50.937093Z",
     "shell.execute_reply": "2024-05-11T20:09:50.935930Z"
    },
    "papermill": {
     "duration": 0.047219,
     "end_time": "2024-05-11T20:09:50.939480",
     "exception": false,
     "start_time": "2024-05-11T20:09:50.892261",
     "status": "completed"
    },
    "tags": []
   },
   "outputs": [
    {
     "name": "stdout",
     "output_type": "stream",
     "text": [
      "<class 'pandas.core.frame.DataFrame'>\n",
      "RangeIndex: 418 entries, 0 to 417\n",
      "Data columns (total 20 columns):\n",
      " #   Column             Non-Null Count  Dtype   \n",
      "---  ------             --------------  -----   \n",
      " 0   PassengerId        418 non-null    int64   \n",
      " 1   Pclass             418 non-null    int64   \n",
      " 2   Name               418 non-null    object  \n",
      " 3   Sex                418 non-null    object  \n",
      " 4   Age                332 non-null    float64 \n",
      " 5   SibSp              418 non-null    int64   \n",
      " 6   Parch              418 non-null    int64   \n",
      " 7   Ticket             418 non-null    object  \n",
      " 8   Fare               417 non-null    float64 \n",
      " 9   Cabin              418 non-null    object  \n",
      " 10  Embarked           418 non-null    object  \n",
      " 11  FamSize            418 non-null    int64   \n",
      " 12  Fare_Cut           417 non-null    category\n",
      " 13  Title              418 non-null    object  \n",
      " 14  Name_Length        418 non-null    int64   \n",
      " 15  Name_LengthGB      418 non-null    category\n",
      " 16  Name_Size          418 non-null    float64 \n",
      " 17  Ticket_Num         418 non-null    object  \n",
      " 18  Ticket_Num_Counts  418 non-null    int64   \n",
      " 19  Cabin_Assigned     418 non-null    int64   \n",
      "dtypes: category(2), float64(3), int64(8), object(7)\n",
      "memory usage: 60.1+ KB\n"
     ]
    }
   ],
   "source": [
    "test_data.info()"
   ]
  },
  {
   "cell_type": "markdown",
   "id": "ffa6d7f3",
   "metadata": {
    "papermill": {
     "duration": 0.030112,
     "end_time": "2024-05-11T20:09:51.000778",
     "exception": false,
     "start_time": "2024-05-11T20:09:50.970666",
     "status": "completed"
    },
    "tags": []
   },
   "source": [
    "Let's fill the missing values for age with the mean age"
   ]
  },
  {
   "cell_type": "code",
   "execution_count": 48,
   "id": "3655bf4e",
   "metadata": {
    "execution": {
     "iopub.execute_input": "2024-05-11T20:09:51.067978Z",
     "iopub.status.busy": "2024-05-11T20:09:51.067605Z",
     "iopub.status.idle": "2024-05-11T20:09:51.076302Z",
     "shell.execute_reply": "2024-05-11T20:09:51.074513Z"
    },
    "papermill": {
     "duration": 0.044239,
     "end_time": "2024-05-11T20:09:51.078706",
     "exception": false,
     "start_time": "2024-05-11T20:09:51.034467",
     "status": "completed"
    },
    "tags": []
   },
   "outputs": [
    {
     "name": "stderr",
     "output_type": "stream",
     "text": [
      "/tmp/ipykernel_19/3169394202.py:1: FutureWarning: A value is trying to be set on a copy of a DataFrame or Series through chained assignment using an inplace method.\n",
      "The behavior will change in pandas 3.0. This inplace method will never work because the intermediate object on which we are setting values always behaves as a copy.\n",
      "\n",
      "For example, when doing 'df[col].method(value, inplace=True)', try using 'df.method({col: value}, inplace=True)' or df[col] = df[col].method(value) instead, to perform the operation inplace on the original object.\n",
      "\n",
      "\n",
      "  train_data['Age'].fillna(train_data['Age'].mean(), inplace = True)\n",
      "/tmp/ipykernel_19/3169394202.py:5: FutureWarning: A value is trying to be set on a copy of a DataFrame or Series through chained assignment using an inplace method.\n",
      "The behavior will change in pandas 3.0. This inplace method will never work because the intermediate object on which we are setting values always behaves as a copy.\n",
      "\n",
      "For example, when doing 'df[col].method(value, inplace=True)', try using 'df.method({col: value}, inplace=True)' or df[col] = df[col].method(value) instead, to perform the operation inplace on the original object.\n",
      "\n",
      "\n",
      "  test_data['Age'].fillna(test_data['Age'].mean(), inplace = True)\n",
      "/tmp/ipykernel_19/3169394202.py:7: FutureWarning: A value is trying to be set on a copy of a DataFrame or Series through chained assignment using an inplace method.\n",
      "The behavior will change in pandas 3.0. This inplace method will never work because the intermediate object on which we are setting values always behaves as a copy.\n",
      "\n",
      "For example, when doing 'df[col].method(value, inplace=True)', try using 'df.method({col: value}, inplace=True)' or df[col] = df[col].method(value) instead, to perform the operation inplace on the original object.\n",
      "\n",
      "\n",
      "  test_data['Fare'].fillna(test_data['Fare'].mean(), inplace = True)\n"
     ]
    }
   ],
   "source": [
    "train_data['Age'].fillna(train_data['Age'].mean(), inplace = True)\n",
    "\n",
    "\n",
    "\n",
    "test_data['Age'].fillna(test_data['Age'].mean(), inplace = True)\n",
    "\n",
    "test_data['Fare'].fillna(test_data['Fare'].mean(), inplace = True)"
   ]
  },
  {
   "cell_type": "code",
   "execution_count": 49,
   "id": "381a984d",
   "metadata": {
    "execution": {
     "iopub.execute_input": "2024-05-11T20:09:51.143716Z",
     "iopub.status.busy": "2024-05-11T20:09:51.143335Z",
     "iopub.status.idle": "2024-05-11T20:09:51.148897Z",
     "shell.execute_reply": "2024-05-11T20:09:51.147375Z"
    },
    "papermill": {
     "duration": 0.041553,
     "end_time": "2024-05-11T20:09:51.151353",
     "exception": false,
     "start_time": "2024-05-11T20:09:51.109800",
     "status": "completed"
    },
    "tags": []
   },
   "outputs": [],
   "source": [
    "ohe = OneHotEncoder(sparse_output = False)\n",
    "ode = OrdinalEncoder\n",
    "SI = SimpleImputer(strategy = 'most_frequent')"
   ]
  },
  {
   "cell_type": "markdown",
   "id": "d6cc9aa3",
   "metadata": {
    "papermill": {
     "duration": 0.029981,
     "end_time": "2024-05-11T20:09:51.213695",
     "exception": false,
     "start_time": "2024-05-11T20:09:51.183714",
     "status": "completed"
    },
    "tags": []
   },
   "source": [
    "Ordinal Encoder is if theres an inherent ranking on things. "
   ]
  },
  {
   "cell_type": "code",
   "execution_count": 50,
   "id": "6d48947e",
   "metadata": {
    "execution": {
     "iopub.execute_input": "2024-05-11T20:09:51.277345Z",
     "iopub.status.busy": "2024-05-11T20:09:51.276738Z",
     "iopub.status.idle": "2024-05-11T20:09:51.281642Z",
     "shell.execute_reply": "2024-05-11T20:09:51.280524Z"
    },
    "papermill": {
     "duration": 0.039768,
     "end_time": "2024-05-11T20:09:51.283745",
     "exception": false,
     "start_time": "2024-05-11T20:09:51.243977",
     "status": "completed"
    },
    "tags": []
   },
   "outputs": [],
   "source": [
    "ode_cols = ['FamSize']\n",
    "ohe_cols = ['Sex', 'Embarked']"
   ]
  },
  {
   "cell_type": "code",
   "execution_count": 51,
   "id": "0312e431",
   "metadata": {
    "execution": {
     "iopub.execute_input": "2024-05-11T20:09:51.348633Z",
     "iopub.status.busy": "2024-05-11T20:09:51.348262Z",
     "iopub.status.idle": "2024-05-11T20:09:51.375216Z",
     "shell.execute_reply": "2024-05-11T20:09:51.374100Z"
    },
    "papermill": {
     "duration": 0.062898,
     "end_time": "2024-05-11T20:09:51.377807",
     "exception": false,
     "start_time": "2024-05-11T20:09:51.314909",
     "status": "completed"
    },
    "tags": []
   },
   "outputs": [
    {
     "data": {
      "text/html": [
       "<div>\n",
       "<style scoped>\n",
       "    .dataframe tbody tr th:only-of-type {\n",
       "        vertical-align: middle;\n",
       "    }\n",
       "\n",
       "    .dataframe tbody tr th {\n",
       "        vertical-align: top;\n",
       "    }\n",
       "\n",
       "    .dataframe thead th {\n",
       "        text-align: right;\n",
       "    }\n",
       "</style>\n",
       "<table border=\"1\" class=\"dataframe\">\n",
       "  <thead>\n",
       "    <tr style=\"text-align: right;\">\n",
       "      <th></th>\n",
       "      <th>PassengerId</th>\n",
       "      <th>Pclass</th>\n",
       "      <th>Name</th>\n",
       "      <th>Sex</th>\n",
       "      <th>Age</th>\n",
       "      <th>SibSp</th>\n",
       "      <th>Parch</th>\n",
       "      <th>Ticket</th>\n",
       "      <th>Fare</th>\n",
       "      <th>Cabin</th>\n",
       "      <th>Embarked</th>\n",
       "      <th>FamSize</th>\n",
       "      <th>Fare_Cut</th>\n",
       "      <th>Title</th>\n",
       "      <th>Name_Length</th>\n",
       "      <th>Name_LengthGB</th>\n",
       "      <th>Name_Size</th>\n",
       "      <th>Ticket_Num</th>\n",
       "      <th>Ticket_Num_Counts</th>\n",
       "      <th>Cabin_Assigned</th>\n",
       "    </tr>\n",
       "  </thead>\n",
       "  <tbody>\n",
       "    <tr>\n",
       "      <th>0</th>\n",
       "      <td>892</td>\n",
       "      <td>3</td>\n",
       "      <td>Kelly, Mr. James</td>\n",
       "      <td>male</td>\n",
       "      <td>3.0</td>\n",
       "      <td>0</td>\n",
       "      <td>0</td>\n",
       "      <td>330911</td>\n",
       "      <td>0.0</td>\n",
       "      <td>U</td>\n",
       "      <td>Q</td>\n",
       "      <td>1</td>\n",
       "      <td>(7.796, 11.025]</td>\n",
       "      <td>Mr</td>\n",
       "      <td>16</td>\n",
       "      <td>(12.999, 22.0]</td>\n",
       "      <td>0.0</td>\n",
       "      <td>330911</td>\n",
       "      <td>1</td>\n",
       "      <td>0</td>\n",
       "    </tr>\n",
       "    <tr>\n",
       "      <th>1</th>\n",
       "      <td>893</td>\n",
       "      <td>3</td>\n",
       "      <td>Wilkes, Mrs. James (Ellen Needs)</td>\n",
       "      <td>female</td>\n",
       "      <td>4.0</td>\n",
       "      <td>1</td>\n",
       "      <td>0</td>\n",
       "      <td>363272</td>\n",
       "      <td>0.0</td>\n",
       "      <td>U</td>\n",
       "      <td>S</td>\n",
       "      <td>2</td>\n",
       "      <td>(-0.001, 7.796]</td>\n",
       "      <td>Married_Female</td>\n",
       "      <td>32</td>\n",
       "      <td>(28.0, 63.0]</td>\n",
       "      <td>2.0</td>\n",
       "      <td>363272</td>\n",
       "      <td>1</td>\n",
       "      <td>0</td>\n",
       "    </tr>\n",
       "    <tr>\n",
       "      <th>2</th>\n",
       "      <td>894</td>\n",
       "      <td>2</td>\n",
       "      <td>Myles, Mr. Thomas Francis</td>\n",
       "      <td>male</td>\n",
       "      <td>4.0</td>\n",
       "      <td>0</td>\n",
       "      <td>0</td>\n",
       "      <td>240276</td>\n",
       "      <td>1.0</td>\n",
       "      <td>U</td>\n",
       "      <td>Q</td>\n",
       "      <td>1</td>\n",
       "      <td>(7.796, 11.025]</td>\n",
       "      <td>Mr</td>\n",
       "      <td>25</td>\n",
       "      <td>(22.0, 28.0]</td>\n",
       "      <td>1.0</td>\n",
       "      <td>240276</td>\n",
       "      <td>1</td>\n",
       "      <td>0</td>\n",
       "    </tr>\n",
       "    <tr>\n",
       "      <th>3</th>\n",
       "      <td>895</td>\n",
       "      <td>3</td>\n",
       "      <td>Wirz, Mr. Albert</td>\n",
       "      <td>male</td>\n",
       "      <td>2.0</td>\n",
       "      <td>0</td>\n",
       "      <td>0</td>\n",
       "      <td>315154</td>\n",
       "      <td>1.0</td>\n",
       "      <td>U</td>\n",
       "      <td>S</td>\n",
       "      <td>1</td>\n",
       "      <td>(7.796, 11.025]</td>\n",
       "      <td>Mr</td>\n",
       "      <td>16</td>\n",
       "      <td>(12.999, 22.0]</td>\n",
       "      <td>0.0</td>\n",
       "      <td>315154</td>\n",
       "      <td>1</td>\n",
       "      <td>0</td>\n",
       "    </tr>\n",
       "    <tr>\n",
       "      <th>4</th>\n",
       "      <td>896</td>\n",
       "      <td>3</td>\n",
       "      <td>Hirvonen, Mrs. Alexander (Helga E Lindqvist)</td>\n",
       "      <td>female</td>\n",
       "      <td>1.0</td>\n",
       "      <td>1</td>\n",
       "      <td>1</td>\n",
       "      <td>3101298</td>\n",
       "      <td>2.0</td>\n",
       "      <td>U</td>\n",
       "      <td>S</td>\n",
       "      <td>3</td>\n",
       "      <td>(11.025, 21.438]</td>\n",
       "      <td>Married_Female</td>\n",
       "      <td>44</td>\n",
       "      <td>(28.0, 63.0]</td>\n",
       "      <td>2.0</td>\n",
       "      <td>3101298</td>\n",
       "      <td>1</td>\n",
       "      <td>0</td>\n",
       "    </tr>\n",
       "  </tbody>\n",
       "</table>\n",
       "</div>"
      ],
      "text/plain": [
       "   PassengerId  Pclass                                          Name     Sex  \\\n",
       "0          892       3                              Kelly, Mr. James    male   \n",
       "1          893       3              Wilkes, Mrs. James (Ellen Needs)  female   \n",
       "2          894       2                     Myles, Mr. Thomas Francis    male   \n",
       "3          895       3                              Wirz, Mr. Albert    male   \n",
       "4          896       3  Hirvonen, Mrs. Alexander (Helga E Lindqvist)  female   \n",
       "\n",
       "   Age  SibSp  Parch   Ticket  Fare Cabin Embarked  FamSize          Fare_Cut  \\\n",
       "0  3.0      0      0   330911   0.0     U        Q        1   (7.796, 11.025]   \n",
       "1  4.0      1      0   363272   0.0     U        S        2   (-0.001, 7.796]   \n",
       "2  4.0      0      0   240276   1.0     U        Q        1   (7.796, 11.025]   \n",
       "3  2.0      0      0   315154   1.0     U        S        1   (7.796, 11.025]   \n",
       "4  1.0      1      1  3101298   2.0     U        S        3  (11.025, 21.438]   \n",
       "\n",
       "            Title  Name_Length   Name_LengthGB  Name_Size Ticket_Num  \\\n",
       "0              Mr           16  (12.999, 22.0]        0.0     330911   \n",
       "1  Married_Female           32    (28.0, 63.0]        2.0     363272   \n",
       "2              Mr           25    (22.0, 28.0]        1.0     240276   \n",
       "3              Mr           16  (12.999, 22.0]        0.0     315154   \n",
       "4  Married_Female           44    (28.0, 63.0]        2.0    3101298   \n",
       "\n",
       "   Ticket_Num_Counts  Cabin_Assigned  \n",
       "0                  1               0  \n",
       "1                  1               0  \n",
       "2                  1               0  \n",
       "3                  1               0  \n",
       "4                  1               0  "
      ]
     },
     "execution_count": 51,
     "metadata": {},
     "output_type": "execute_result"
    }
   ],
   "source": [
    "test_data.head()"
   ]
  },
  {
   "cell_type": "code",
   "execution_count": 52,
   "id": "a33a5165",
   "metadata": {
    "execution": {
     "iopub.execute_input": "2024-05-11T20:09:51.446944Z",
     "iopub.status.busy": "2024-05-11T20:09:51.446432Z",
     "iopub.status.idle": "2024-05-11T20:09:51.455315Z",
     "shell.execute_reply": "2024-05-11T20:09:51.454365Z"
    },
    "papermill": {
     "duration": 0.046553,
     "end_time": "2024-05-11T20:09:51.457495",
     "exception": false,
     "start_time": "2024-05-11T20:09:51.410942",
     "status": "completed"
    },
    "tags": []
   },
   "outputs": [
    {
     "data": {
      "text/plain": [
       "Index(['PassengerId', 'Survived', 'Pclass', 'Name', 'Sex', 'Age', 'SibSp',\n",
       "       'Parch', 'Ticket', 'Fare', 'Cabin', 'Embarked', 'FamSize', 'Age_Cut',\n",
       "       'Fare_Cut', 'Title', 'Name_Length', 'Name_LengthGB', 'Name_Size',\n",
       "       'Ticket_Num', 'Ticket_Num_Counts', 'Cabin_Assigned'],\n",
       "      dtype='object')"
      ]
     },
     "execution_count": 52,
     "metadata": {},
     "output_type": "execute_result"
    }
   ],
   "source": [
    "train_data.columns"
   ]
  },
  {
   "cell_type": "code",
   "execution_count": 53,
   "id": "9e36ca94",
   "metadata": {
    "execution": {
     "iopub.execute_input": "2024-05-11T20:09:51.522397Z",
     "iopub.status.busy": "2024-05-11T20:09:51.521978Z",
     "iopub.status.idle": "2024-05-11T20:09:51.530961Z",
     "shell.execute_reply": "2024-05-11T20:09:51.529172Z"
    },
    "papermill": {
     "duration": 0.044544,
     "end_time": "2024-05-11T20:09:51.533700",
     "exception": false,
     "start_time": "2024-05-11T20:09:51.489156",
     "status": "completed"
    },
    "tags": []
   },
   "outputs": [],
   "source": [
    "X = train_data.drop(['Survived'], axis = 1)\n",
    "y = train_data['Survived']\n",
    "X_test = test_data.drop(['Fare_Cut'], axis = 1)"
   ]
  },
  {
   "cell_type": "markdown",
   "id": "7075b353",
   "metadata": {
    "papermill": {
     "duration": 0.030862,
     "end_time": "2024-05-11T20:09:51.597107",
     "exception": false,
     "start_time": "2024-05-11T20:09:51.566245",
     "status": "completed"
    },
    "tags": []
   },
   "source": [
    "Train test split"
   ]
  },
  {
   "cell_type": "code",
   "execution_count": 54,
   "id": "7bba80fd",
   "metadata": {
    "execution": {
     "iopub.execute_input": "2024-05-11T20:09:51.664917Z",
     "iopub.status.busy": "2024-05-11T20:09:51.664544Z",
     "iopub.status.idle": "2024-05-11T20:09:51.677068Z",
     "shell.execute_reply": "2024-05-11T20:09:51.675552Z"
    },
    "papermill": {
     "duration": 0.049399,
     "end_time": "2024-05-11T20:09:51.679845",
     "exception": false,
     "start_time": "2024-05-11T20:09:51.630446",
     "status": "completed"
    },
    "tags": []
   },
   "outputs": [],
   "source": [
    "X_train, X_valid, y_train, y_valid = train_test_split(X,y, test_size = 0.2, stratify = y, random_state = 21)"
   ]
  },
  {
   "cell_type": "markdown",
   "id": "3b6e39ab",
   "metadata": {
    "papermill": {
     "duration": 0.03147,
     "end_time": "2024-05-11T20:09:51.744540",
     "exception": false,
     "start_time": "2024-05-11T20:09:51.713070",
     "status": "completed"
    },
    "tags": []
   },
   "source": [
    "Now it's time to build pipelines..."
   ]
  },
  {
   "cell_type": "code",
   "execution_count": 55,
   "id": "19f8a189",
   "metadata": {
    "execution": {
     "iopub.execute_input": "2024-05-11T20:09:51.812649Z",
     "iopub.status.busy": "2024-05-11T20:09:51.812283Z",
     "iopub.status.idle": "2024-05-11T20:09:51.817983Z",
     "shell.execute_reply": "2024-05-11T20:09:51.816568Z"
    },
    "papermill": {
     "duration": 0.043583,
     "end_time": "2024-05-11T20:09:51.820380",
     "exception": false,
     "start_time": "2024-05-11T20:09:51.776797",
     "status": "completed"
    },
    "tags": []
   },
   "outputs": [],
   "source": [
    "ordinal_pipeline = Pipeline(steps=[\n",
    "    ('impute', SimpleImputer(strategy='most_frequent')),\n",
    "    ('ord', OrdinalEncoder(handle_unknown='use_encoded_value', unknown_value=-1))\n",
    "])"
   ]
  },
  {
   "cell_type": "code",
   "execution_count": 56,
   "id": "32f68a1c",
   "metadata": {
    "execution": {
     "iopub.execute_input": "2024-05-11T20:09:51.885418Z",
     "iopub.status.busy": "2024-05-11T20:09:51.885013Z",
     "iopub.status.idle": "2024-05-11T20:09:51.890857Z",
     "shell.execute_reply": "2024-05-11T20:09:51.889566Z"
    },
    "papermill": {
     "duration": 0.041083,
     "end_time": "2024-05-11T20:09:51.893243",
     "exception": false,
     "start_time": "2024-05-11T20:09:51.852160",
     "status": "completed"
    },
    "tags": []
   },
   "outputs": [],
   "source": [
    "ohe_pipeline = Pipeline(steps=[\n",
    "    ('impute', SimpleImputer(strategy='most_frequent')),\n",
    "    ('one-hot', OneHotEncoder(handle_unknown = 'ignore', sparse_output=False))\n",
    "])"
   ]
  },
  {
   "cell_type": "code",
   "execution_count": 57,
   "id": "8462c908",
   "metadata": {
    "execution": {
     "iopub.execute_input": "2024-05-11T20:09:51.960552Z",
     "iopub.status.busy": "2024-05-11T20:09:51.960193Z",
     "iopub.status.idle": "2024-05-11T20:09:51.965520Z",
     "shell.execute_reply": "2024-05-11T20:09:51.964647Z"
    },
    "papermill": {
     "duration": 0.040565,
     "end_time": "2024-05-11T20:09:51.967635",
     "exception": false,
     "start_time": "2024-05-11T20:09:51.927070",
     "status": "completed"
    },
    "tags": []
   },
   "outputs": [],
   "source": [
    "col_trans = ColumnTransformer(transformers=[\n",
    "    ('impute', SI, ['Age']),\n",
    "    ('ord_pipeline', ordinal_pipeline, ode_cols),\n",
    "    ('ohe_pipeline', ohe_pipeline, ohe_cols),\n",
    "     ('passthrough', 'passthrough', ['Pclass', 'Cabin_Assigned', 'Name_Size', 'Age', 'Fare', 'Ticket_Num_Counts'])\n",
    "    ],\n",
    "    remainder='drop',\n",
    "    n_jobs=-1)"
   ]
  },
  {
   "cell_type": "markdown",
   "id": "712e354b",
   "metadata": {
    "papermill": {
     "duration": 0.033754,
     "end_time": "2024-05-11T20:09:52.034059",
     "exception": false,
     "start_time": "2024-05-11T20:09:52.000305",
     "status": "completed"
    },
    "tags": []
   },
   "source": [
    "> Now we can look at our models. \n",
    "These are from Ryan Nolan's Titanic Notebook with changes to the parameter values"
   ]
  },
  {
   "cell_type": "markdown",
   "id": "7887a883",
   "metadata": {
    "papermill": {
     "duration": 0.030445,
     "end_time": "2024-05-11T20:09:52.098280",
     "exception": false,
     "start_time": "2024-05-11T20:09:52.067835",
     "status": "completed"
    },
    "tags": []
   },
   "source": [
    "Random Forest"
   ]
  },
  {
   "cell_type": "code",
   "execution_count": 58,
   "id": "10dcfac1",
   "metadata": {
    "execution": {
     "iopub.execute_input": "2024-05-11T20:09:52.165346Z",
     "iopub.status.busy": "2024-05-11T20:09:52.164974Z",
     "iopub.status.idle": "2024-05-11T20:09:52.169691Z",
     "shell.execute_reply": "2024-05-11T20:09:52.168792Z"
    },
    "papermill": {
     "duration": 0.04188,
     "end_time": "2024-05-11T20:09:52.171703",
     "exception": false,
     "start_time": "2024-05-11T20:09:52.129823",
     "status": "completed"
    },
    "tags": []
   },
   "outputs": [],
   "source": [
    "rfc = RandomForestClassifier()"
   ]
  },
  {
   "cell_type": "code",
   "execution_count": 59,
   "id": "a4fb1d3d",
   "metadata": {
    "execution": {
     "iopub.execute_input": "2024-05-11T20:09:52.239056Z",
     "iopub.status.busy": "2024-05-11T20:09:52.238669Z",
     "iopub.status.idle": "2024-05-11T20:09:52.244292Z",
     "shell.execute_reply": "2024-05-11T20:09:52.242958Z"
    },
    "papermill": {
     "duration": 0.041276,
     "end_time": "2024-05-11T20:09:52.246699",
     "exception": false,
     "start_time": "2024-05-11T20:09:52.205423",
     "status": "completed"
    },
    "tags": []
   },
   "outputs": [],
   "source": [
    "param_grid = {\n",
    "    'n_estimators': [150, 200, 300, 500],\n",
    "    'min_samples_split': [5, 10, 15],\n",
    "    'max_depth': [10, 13, 15, 17, 20],\n",
    "    'min_samples_leaf': [2, 4, 5, 6],\n",
    "    'criterion': ['gini', 'entropy'],\n",
    "}"
   ]
  },
  {
   "cell_type": "code",
   "execution_count": 60,
   "id": "99180c50",
   "metadata": {
    "execution": {
     "iopub.execute_input": "2024-05-11T20:09:52.314224Z",
     "iopub.status.busy": "2024-05-11T20:09:52.313822Z",
     "iopub.status.idle": "2024-05-11T20:09:52.318344Z",
     "shell.execute_reply": "2024-05-11T20:09:52.317500Z"
    },
    "papermill": {
     "duration": 0.039965,
     "end_time": "2024-05-11T20:09:52.320579",
     "exception": false,
     "start_time": "2024-05-11T20:09:52.280614",
     "status": "completed"
    },
    "tags": []
   },
   "outputs": [],
   "source": [
    "CV_rfc = GridSearchCV(estimator=rfc, param_grid=param_grid, cv=StratifiedKFold(n_splits=5))"
   ]
  },
  {
   "cell_type": "code",
   "execution_count": 61,
   "id": "ca8e3064",
   "metadata": {
    "execution": {
     "iopub.execute_input": "2024-05-11T20:09:52.385451Z",
     "iopub.status.busy": "2024-05-11T20:09:52.384463Z",
     "iopub.status.idle": "2024-05-11T20:09:52.390897Z",
     "shell.execute_reply": "2024-05-11T20:09:52.389257Z"
    },
    "papermill": {
     "duration": 0.041094,
     "end_time": "2024-05-11T20:09:52.393188",
     "exception": false,
     "start_time": "2024-05-11T20:09:52.352094",
     "status": "completed"
    },
    "tags": []
   },
   "outputs": [
    {
     "name": "stdout",
     "output_type": "stream",
     "text": [
      "Index(['PassengerId', 'Pclass', 'Name', 'Sex', 'Age', 'SibSp', 'Parch',\n",
      "       'Ticket', 'Fare', 'Cabin', 'Embarked', 'FamSize', 'Age_Cut', 'Fare_Cut',\n",
      "       'Title', 'Name_Length', 'Name_LengthGB', 'Name_Size', 'Ticket_Num',\n",
      "       'Ticket_Num_Counts', 'Cabin_Assigned'],\n",
      "      dtype='object')\n"
     ]
    }
   ],
   "source": [
    "print(X_train.columns)"
   ]
  },
  {
   "cell_type": "code",
   "execution_count": 62,
   "id": "d53afe76",
   "metadata": {
    "execution": {
     "iopub.execute_input": "2024-05-11T20:09:52.461497Z",
     "iopub.status.busy": "2024-05-11T20:09:52.461137Z",
     "iopub.status.idle": "2024-05-11T20:09:52.490646Z",
     "shell.execute_reply": "2024-05-11T20:09:52.489688Z"
    },
    "papermill": {
     "duration": 0.067302,
     "end_time": "2024-05-11T20:09:52.492787",
     "exception": false,
     "start_time": "2024-05-11T20:09:52.425485",
     "status": "completed"
    },
    "tags": []
   },
   "outputs": [
    {
     "data": {
      "text/html": [
       "<div>\n",
       "<style scoped>\n",
       "    .dataframe tbody tr th:only-of-type {\n",
       "        vertical-align: middle;\n",
       "    }\n",
       "\n",
       "    .dataframe tbody tr th {\n",
       "        vertical-align: top;\n",
       "    }\n",
       "\n",
       "    .dataframe thead th {\n",
       "        text-align: right;\n",
       "    }\n",
       "</style>\n",
       "<table border=\"1\" class=\"dataframe\">\n",
       "  <thead>\n",
       "    <tr style=\"text-align: right;\">\n",
       "      <th></th>\n",
       "      <th>PassengerId</th>\n",
       "      <th>Pclass</th>\n",
       "      <th>Name</th>\n",
       "      <th>Sex</th>\n",
       "      <th>Age</th>\n",
       "      <th>SibSp</th>\n",
       "      <th>Parch</th>\n",
       "      <th>Ticket</th>\n",
       "      <th>Fare</th>\n",
       "      <th>Cabin</th>\n",
       "      <th>...</th>\n",
       "      <th>FamSize</th>\n",
       "      <th>Age_Cut</th>\n",
       "      <th>Fare_Cut</th>\n",
       "      <th>Title</th>\n",
       "      <th>Name_Length</th>\n",
       "      <th>Name_LengthGB</th>\n",
       "      <th>Name_Size</th>\n",
       "      <th>Ticket_Num</th>\n",
       "      <th>Ticket_Num_Counts</th>\n",
       "      <th>Cabin_Assigned</th>\n",
       "    </tr>\n",
       "  </thead>\n",
       "  <tbody>\n",
       "    <tr>\n",
       "      <th>67</th>\n",
       "      <td>68</td>\n",
       "      <td>3</td>\n",
       "      <td>Crease, Mr. Ernest James</td>\n",
       "      <td>male</td>\n",
       "      <td>0.000000</td>\n",
       "      <td>0</td>\n",
       "      <td>0</td>\n",
       "      <td>S.P. 3464</td>\n",
       "      <td>1.0</td>\n",
       "      <td>U</td>\n",
       "      <td>...</td>\n",
       "      <td>1</td>\n",
       "      <td>(0.419, 20.125]</td>\n",
       "      <td>(7.854, 10.5]</td>\n",
       "      <td>Mr</td>\n",
       "      <td>24</td>\n",
       "      <td>(22.0, 28.0]</td>\n",
       "      <td>1.0</td>\n",
       "      <td>3464</td>\n",
       "      <td>1</td>\n",
       "      <td>0</td>\n",
       "    </tr>\n",
       "    <tr>\n",
       "      <th>154</th>\n",
       "      <td>155</td>\n",
       "      <td>3</td>\n",
       "      <td>Olsen, Mr. Ole Martin</td>\n",
       "      <td>male</td>\n",
       "      <td>1.948179</td>\n",
       "      <td>0</td>\n",
       "      <td>0</td>\n",
       "      <td>Fa 265302</td>\n",
       "      <td>0.0</td>\n",
       "      <td>U</td>\n",
       "      <td>...</td>\n",
       "      <td>1</td>\n",
       "      <td>NaN</td>\n",
       "      <td>(-0.001, 7.854]</td>\n",
       "      <td>Mr</td>\n",
       "      <td>21</td>\n",
       "      <td>(11.999, 22.0]</td>\n",
       "      <td>0.0</td>\n",
       "      <td>265302</td>\n",
       "      <td>1</td>\n",
       "      <td>0</td>\n",
       "    </tr>\n",
       "    <tr>\n",
       "      <th>883</th>\n",
       "      <td>884</td>\n",
       "      <td>2</td>\n",
       "      <td>Banfield, Mr. Frederick James</td>\n",
       "      <td>male</td>\n",
       "      <td>2.000000</td>\n",
       "      <td>0</td>\n",
       "      <td>0</td>\n",
       "      <td>C.A./SOTON 34068</td>\n",
       "      <td>1.0</td>\n",
       "      <td>U</td>\n",
       "      <td>...</td>\n",
       "      <td>1</td>\n",
       "      <td>(20.125, 28.0]</td>\n",
       "      <td>(7.854, 10.5]</td>\n",
       "      <td>Mr</td>\n",
       "      <td>29</td>\n",
       "      <td>(28.0, 82.0]</td>\n",
       "      <td>2.0</td>\n",
       "      <td>34068</td>\n",
       "      <td>1</td>\n",
       "      <td>0</td>\n",
       "    </tr>\n",
       "    <tr>\n",
       "      <th>499</th>\n",
       "      <td>500</td>\n",
       "      <td>3</td>\n",
       "      <td>Svensson, Mr. Olof</td>\n",
       "      <td>male</td>\n",
       "      <td>1.000000</td>\n",
       "      <td>0</td>\n",
       "      <td>0</td>\n",
       "      <td>350035</td>\n",
       "      <td>0.0</td>\n",
       "      <td>U</td>\n",
       "      <td>...</td>\n",
       "      <td>1</td>\n",
       "      <td>(20.125, 28.0]</td>\n",
       "      <td>(-0.001, 7.854]</td>\n",
       "      <td>Mr</td>\n",
       "      <td>18</td>\n",
       "      <td>(11.999, 22.0]</td>\n",
       "      <td>0.0</td>\n",
       "      <td>350035</td>\n",
       "      <td>1</td>\n",
       "      <td>0</td>\n",
       "    </tr>\n",
       "    <tr>\n",
       "      <th>519</th>\n",
       "      <td>520</td>\n",
       "      <td>3</td>\n",
       "      <td>Pavlovic, Mr. Stefo</td>\n",
       "      <td>male</td>\n",
       "      <td>3.000000</td>\n",
       "      <td>0</td>\n",
       "      <td>0</td>\n",
       "      <td>349242</td>\n",
       "      <td>1.0</td>\n",
       "      <td>U</td>\n",
       "      <td>...</td>\n",
       "      <td>1</td>\n",
       "      <td>(28.0, 38.0]</td>\n",
       "      <td>(7.854, 10.5]</td>\n",
       "      <td>Mr</td>\n",
       "      <td>19</td>\n",
       "      <td>(11.999, 22.0]</td>\n",
       "      <td>0.0</td>\n",
       "      <td>349242</td>\n",
       "      <td>1</td>\n",
       "      <td>0</td>\n",
       "    </tr>\n",
       "  </tbody>\n",
       "</table>\n",
       "<p>5 rows × 21 columns</p>\n",
       "</div>"
      ],
      "text/plain": [
       "     PassengerId  Pclass                           Name   Sex       Age  \\\n",
       "67            68       3       Crease, Mr. Ernest James  male  0.000000   \n",
       "154          155       3          Olsen, Mr. Ole Martin  male  1.948179   \n",
       "883          884       2  Banfield, Mr. Frederick James  male  2.000000   \n",
       "499          500       3             Svensson, Mr. Olof  male  1.000000   \n",
       "519          520       3            Pavlovic, Mr. Stefo  male  3.000000   \n",
       "\n",
       "     SibSp  Parch            Ticket  Fare Cabin  ... FamSize          Age_Cut  \\\n",
       "67       0      0         S.P. 3464   1.0     U  ...       1  (0.419, 20.125]   \n",
       "154      0      0         Fa 265302   0.0     U  ...       1              NaN   \n",
       "883      0      0  C.A./SOTON 34068   1.0     U  ...       1   (20.125, 28.0]   \n",
       "499      0      0            350035   0.0     U  ...       1   (20.125, 28.0]   \n",
       "519      0      0            349242   1.0     U  ...       1     (28.0, 38.0]   \n",
       "\n",
       "            Fare_Cut Title Name_Length   Name_LengthGB Name_Size  Ticket_Num  \\\n",
       "67     (7.854, 10.5]    Mr          24    (22.0, 28.0]       1.0        3464   \n",
       "154  (-0.001, 7.854]    Mr          21  (11.999, 22.0]       0.0      265302   \n",
       "883    (7.854, 10.5]    Mr          29    (28.0, 82.0]       2.0       34068   \n",
       "499  (-0.001, 7.854]    Mr          18  (11.999, 22.0]       0.0      350035   \n",
       "519    (7.854, 10.5]    Mr          19  (11.999, 22.0]       0.0      349242   \n",
       "\n",
       "    Ticket_Num_Counts  Cabin_Assigned  \n",
       "67                  1               0  \n",
       "154                 1               0  \n",
       "883                 1               0  \n",
       "499                 1               0  \n",
       "519                 1               0  \n",
       "\n",
       "[5 rows x 21 columns]"
      ]
     },
     "execution_count": 62,
     "metadata": {},
     "output_type": "execute_result"
    }
   ],
   "source": [
    "X_train.head()"
   ]
  },
  {
   "cell_type": "code",
   "execution_count": 63,
   "id": "96e81d4a",
   "metadata": {
    "execution": {
     "iopub.execute_input": "2024-05-11T20:09:52.559211Z",
     "iopub.status.busy": "2024-05-11T20:09:52.558796Z",
     "iopub.status.idle": "2024-05-11T20:32:13.405403Z",
     "shell.execute_reply": "2024-05-11T20:32:13.404431Z"
    },
    "papermill": {
     "duration": 1340.920954,
     "end_time": "2024-05-11T20:32:13.446485",
     "exception": false,
     "start_time": "2024-05-11T20:09:52.525531",
     "status": "completed"
    },
    "tags": []
   },
   "outputs": [
    {
     "data": {
      "text/html": [
       "<style>#sk-container-id-1 {color: black;background-color: white;}#sk-container-id-1 pre{padding: 0;}#sk-container-id-1 div.sk-toggleable {background-color: white;}#sk-container-id-1 label.sk-toggleable__label {cursor: pointer;display: block;width: 100%;margin-bottom: 0;padding: 0.3em;box-sizing: border-box;text-align: center;}#sk-container-id-1 label.sk-toggleable__label-arrow:before {content: \"▸\";float: left;margin-right: 0.25em;color: #696969;}#sk-container-id-1 label.sk-toggleable__label-arrow:hover:before {color: black;}#sk-container-id-1 div.sk-estimator:hover label.sk-toggleable__label-arrow:before {color: black;}#sk-container-id-1 div.sk-toggleable__content {max-height: 0;max-width: 0;overflow: hidden;text-align: left;background-color: #f0f8ff;}#sk-container-id-1 div.sk-toggleable__content pre {margin: 0.2em;color: black;border-radius: 0.25em;background-color: #f0f8ff;}#sk-container-id-1 input.sk-toggleable__control:checked~div.sk-toggleable__content {max-height: 200px;max-width: 100%;overflow: auto;}#sk-container-id-1 input.sk-toggleable__control:checked~label.sk-toggleable__label-arrow:before {content: \"▾\";}#sk-container-id-1 div.sk-estimator input.sk-toggleable__control:checked~label.sk-toggleable__label {background-color: #d4ebff;}#sk-container-id-1 div.sk-label input.sk-toggleable__control:checked~label.sk-toggleable__label {background-color: #d4ebff;}#sk-container-id-1 input.sk-hidden--visually {border: 0;clip: rect(1px 1px 1px 1px);clip: rect(1px, 1px, 1px, 1px);height: 1px;margin: -1px;overflow: hidden;padding: 0;position: absolute;width: 1px;}#sk-container-id-1 div.sk-estimator {font-family: monospace;background-color: #f0f8ff;border: 1px dotted black;border-radius: 0.25em;box-sizing: border-box;margin-bottom: 0.5em;}#sk-container-id-1 div.sk-estimator:hover {background-color: #d4ebff;}#sk-container-id-1 div.sk-parallel-item::after {content: \"\";width: 100%;border-bottom: 1px solid gray;flex-grow: 1;}#sk-container-id-1 div.sk-label:hover label.sk-toggleable__label {background-color: #d4ebff;}#sk-container-id-1 div.sk-serial::before {content: \"\";position: absolute;border-left: 1px solid gray;box-sizing: border-box;top: 0;bottom: 0;left: 50%;z-index: 0;}#sk-container-id-1 div.sk-serial {display: flex;flex-direction: column;align-items: center;background-color: white;padding-right: 0.2em;padding-left: 0.2em;position: relative;}#sk-container-id-1 div.sk-item {position: relative;z-index: 1;}#sk-container-id-1 div.sk-parallel {display: flex;align-items: stretch;justify-content: center;background-color: white;position: relative;}#sk-container-id-1 div.sk-item::before, #sk-container-id-1 div.sk-parallel-item::before {content: \"\";position: absolute;border-left: 1px solid gray;box-sizing: border-box;top: 0;bottom: 0;left: 50%;z-index: -1;}#sk-container-id-1 div.sk-parallel-item {display: flex;flex-direction: column;z-index: 1;position: relative;background-color: white;}#sk-container-id-1 div.sk-parallel-item:first-child::after {align-self: flex-end;width: 50%;}#sk-container-id-1 div.sk-parallel-item:last-child::after {align-self: flex-start;width: 50%;}#sk-container-id-1 div.sk-parallel-item:only-child::after {width: 0;}#sk-container-id-1 div.sk-dashed-wrapped {border: 1px dashed gray;margin: 0 0.4em 0.5em 0.4em;box-sizing: border-box;padding-bottom: 0.4em;background-color: white;}#sk-container-id-1 div.sk-label label {font-family: monospace;font-weight: bold;display: inline-block;line-height: 1.2em;}#sk-container-id-1 div.sk-label-container {text-align: center;}#sk-container-id-1 div.sk-container {/* jupyter's `normalize.less` sets `[hidden] { display: none; }` but bootstrap.min.css set `[hidden] { display: none !important; }` so we also need the `!important` here to be able to override the default hidden behavior on the sphinx rendered scikit-learn.org. See: https://github.com/scikit-learn/scikit-learn/issues/21755 */display: inline-block !important;position: relative;}#sk-container-id-1 div.sk-text-repr-fallback {display: none;}</style><div id=\"sk-container-id-1\" class=\"sk-top-container\"><div class=\"sk-text-repr-fallback\"><pre>Pipeline(steps=[(&#x27;columntransformer&#x27;,\n",
       "                 ColumnTransformer(n_jobs=-1,\n",
       "                                   transformers=[(&#x27;impute&#x27;,\n",
       "                                                  SimpleImputer(strategy=&#x27;most_frequent&#x27;),\n",
       "                                                  [&#x27;Age&#x27;]),\n",
       "                                                 (&#x27;ord_pipeline&#x27;,\n",
       "                                                  Pipeline(steps=[(&#x27;impute&#x27;,\n",
       "                                                                   SimpleImputer(strategy=&#x27;most_frequent&#x27;)),\n",
       "                                                                  (&#x27;ord&#x27;,\n",
       "                                                                   OrdinalEncoder(handle_unknown=&#x27;use_encoded_value&#x27;,\n",
       "                                                                                  unknown_value=-1))]),\n",
       "                                                  [&#x27;FamSize&#x27;]),\n",
       "                                                 (&#x27;ohe_pipeline&#x27;,\n",
       "                                                  Pipeline(steps=[(&#x27;impu...\n",
       "                                                  [&#x27;Pclass&#x27;, &#x27;Cabin_Assigned&#x27;,\n",
       "                                                   &#x27;Name_Size&#x27;, &#x27;Age&#x27;, &#x27;Fare&#x27;,\n",
       "                                                   &#x27;Ticket_Num_Counts&#x27;])])),\n",
       "                (&#x27;gridsearchcv&#x27;,\n",
       "                 GridSearchCV(cv=StratifiedKFold(n_splits=5, random_state=None, shuffle=False),\n",
       "                              estimator=RandomForestClassifier(),\n",
       "                              param_grid={&#x27;criterion&#x27;: [&#x27;gini&#x27;, &#x27;entropy&#x27;],\n",
       "                                          &#x27;max_depth&#x27;: [10, 13, 15, 17, 20],\n",
       "                                          &#x27;min_samples_leaf&#x27;: [2, 4, 5, 6],\n",
       "                                          &#x27;min_samples_split&#x27;: [5, 10, 15],\n",
       "                                          &#x27;n_estimators&#x27;: [150, 200, 300,\n",
       "                                                           500]}))])</pre><b>In a Jupyter environment, please rerun this cell to show the HTML representation or trust the notebook. <br />On GitHub, the HTML representation is unable to render, please try loading this page with nbviewer.org.</b></div><div class=\"sk-container\" hidden><div class=\"sk-item sk-dashed-wrapped\"><div class=\"sk-label-container\"><div class=\"sk-label sk-toggleable\"><input class=\"sk-toggleable__control sk-hidden--visually\" id=\"sk-estimator-id-1\" type=\"checkbox\" ><label for=\"sk-estimator-id-1\" class=\"sk-toggleable__label sk-toggleable__label-arrow\">Pipeline</label><div class=\"sk-toggleable__content\"><pre>Pipeline(steps=[(&#x27;columntransformer&#x27;,\n",
       "                 ColumnTransformer(n_jobs=-1,\n",
       "                                   transformers=[(&#x27;impute&#x27;,\n",
       "                                                  SimpleImputer(strategy=&#x27;most_frequent&#x27;),\n",
       "                                                  [&#x27;Age&#x27;]),\n",
       "                                                 (&#x27;ord_pipeline&#x27;,\n",
       "                                                  Pipeline(steps=[(&#x27;impute&#x27;,\n",
       "                                                                   SimpleImputer(strategy=&#x27;most_frequent&#x27;)),\n",
       "                                                                  (&#x27;ord&#x27;,\n",
       "                                                                   OrdinalEncoder(handle_unknown=&#x27;use_encoded_value&#x27;,\n",
       "                                                                                  unknown_value=-1))]),\n",
       "                                                  [&#x27;FamSize&#x27;]),\n",
       "                                                 (&#x27;ohe_pipeline&#x27;,\n",
       "                                                  Pipeline(steps=[(&#x27;impu...\n",
       "                                                  [&#x27;Pclass&#x27;, &#x27;Cabin_Assigned&#x27;,\n",
       "                                                   &#x27;Name_Size&#x27;, &#x27;Age&#x27;, &#x27;Fare&#x27;,\n",
       "                                                   &#x27;Ticket_Num_Counts&#x27;])])),\n",
       "                (&#x27;gridsearchcv&#x27;,\n",
       "                 GridSearchCV(cv=StratifiedKFold(n_splits=5, random_state=None, shuffle=False),\n",
       "                              estimator=RandomForestClassifier(),\n",
       "                              param_grid={&#x27;criterion&#x27;: [&#x27;gini&#x27;, &#x27;entropy&#x27;],\n",
       "                                          &#x27;max_depth&#x27;: [10, 13, 15, 17, 20],\n",
       "                                          &#x27;min_samples_leaf&#x27;: [2, 4, 5, 6],\n",
       "                                          &#x27;min_samples_split&#x27;: [5, 10, 15],\n",
       "                                          &#x27;n_estimators&#x27;: [150, 200, 300,\n",
       "                                                           500]}))])</pre></div></div></div><div class=\"sk-serial\"><div class=\"sk-item sk-dashed-wrapped\"><div class=\"sk-label-container\"><div class=\"sk-label sk-toggleable\"><input class=\"sk-toggleable__control sk-hidden--visually\" id=\"sk-estimator-id-2\" type=\"checkbox\" ><label for=\"sk-estimator-id-2\" class=\"sk-toggleable__label sk-toggleable__label-arrow\">columntransformer: ColumnTransformer</label><div class=\"sk-toggleable__content\"><pre>ColumnTransformer(n_jobs=-1,\n",
       "                  transformers=[(&#x27;impute&#x27;,\n",
       "                                 SimpleImputer(strategy=&#x27;most_frequent&#x27;),\n",
       "                                 [&#x27;Age&#x27;]),\n",
       "                                (&#x27;ord_pipeline&#x27;,\n",
       "                                 Pipeline(steps=[(&#x27;impute&#x27;,\n",
       "                                                  SimpleImputer(strategy=&#x27;most_frequent&#x27;)),\n",
       "                                                 (&#x27;ord&#x27;,\n",
       "                                                  OrdinalEncoder(handle_unknown=&#x27;use_encoded_value&#x27;,\n",
       "                                                                 unknown_value=-1))]),\n",
       "                                 [&#x27;FamSize&#x27;]),\n",
       "                                (&#x27;ohe_pipeline&#x27;,\n",
       "                                 Pipeline(steps=[(&#x27;impute&#x27;,\n",
       "                                                  SimpleImputer(strategy=&#x27;most_frequent&#x27;)),\n",
       "                                                 (&#x27;one-hot&#x27;,\n",
       "                                                  OneHotEncoder(handle_unknown=&#x27;ignore&#x27;,\n",
       "                                                                sparse_output=False))]),\n",
       "                                 [&#x27;Sex&#x27;, &#x27;Embarked&#x27;]),\n",
       "                                (&#x27;passthrough&#x27;, &#x27;passthrough&#x27;,\n",
       "                                 [&#x27;Pclass&#x27;, &#x27;Cabin_Assigned&#x27;, &#x27;Name_Size&#x27;,\n",
       "                                  &#x27;Age&#x27;, &#x27;Fare&#x27;, &#x27;Ticket_Num_Counts&#x27;])])</pre></div></div></div><div class=\"sk-parallel\"><div class=\"sk-parallel-item\"><div class=\"sk-item\"><div class=\"sk-label-container\"><div class=\"sk-label sk-toggleable\"><input class=\"sk-toggleable__control sk-hidden--visually\" id=\"sk-estimator-id-3\" type=\"checkbox\" ><label for=\"sk-estimator-id-3\" class=\"sk-toggleable__label sk-toggleable__label-arrow\">impute</label><div class=\"sk-toggleable__content\"><pre>[&#x27;Age&#x27;]</pre></div></div></div><div class=\"sk-serial\"><div class=\"sk-item\"><div class=\"sk-estimator sk-toggleable\"><input class=\"sk-toggleable__control sk-hidden--visually\" id=\"sk-estimator-id-4\" type=\"checkbox\" ><label for=\"sk-estimator-id-4\" class=\"sk-toggleable__label sk-toggleable__label-arrow\">SimpleImputer</label><div class=\"sk-toggleable__content\"><pre>SimpleImputer(strategy=&#x27;most_frequent&#x27;)</pre></div></div></div></div></div></div><div class=\"sk-parallel-item\"><div class=\"sk-item\"><div class=\"sk-label-container\"><div class=\"sk-label sk-toggleable\"><input class=\"sk-toggleable__control sk-hidden--visually\" id=\"sk-estimator-id-5\" type=\"checkbox\" ><label for=\"sk-estimator-id-5\" class=\"sk-toggleable__label sk-toggleable__label-arrow\">ord_pipeline</label><div class=\"sk-toggleable__content\"><pre>[&#x27;FamSize&#x27;]</pre></div></div></div><div class=\"sk-serial\"><div class=\"sk-item\"><div class=\"sk-serial\"><div class=\"sk-item\"><div class=\"sk-estimator sk-toggleable\"><input class=\"sk-toggleable__control sk-hidden--visually\" id=\"sk-estimator-id-6\" type=\"checkbox\" ><label for=\"sk-estimator-id-6\" class=\"sk-toggleable__label sk-toggleable__label-arrow\">SimpleImputer</label><div class=\"sk-toggleable__content\"><pre>SimpleImputer(strategy=&#x27;most_frequent&#x27;)</pre></div></div></div><div class=\"sk-item\"><div class=\"sk-estimator sk-toggleable\"><input class=\"sk-toggleable__control sk-hidden--visually\" id=\"sk-estimator-id-7\" type=\"checkbox\" ><label for=\"sk-estimator-id-7\" class=\"sk-toggleable__label sk-toggleable__label-arrow\">OrdinalEncoder</label><div class=\"sk-toggleable__content\"><pre>OrdinalEncoder(handle_unknown=&#x27;use_encoded_value&#x27;, unknown_value=-1)</pre></div></div></div></div></div></div></div></div><div class=\"sk-parallel-item\"><div class=\"sk-item\"><div class=\"sk-label-container\"><div class=\"sk-label sk-toggleable\"><input class=\"sk-toggleable__control sk-hidden--visually\" id=\"sk-estimator-id-8\" type=\"checkbox\" ><label for=\"sk-estimator-id-8\" class=\"sk-toggleable__label sk-toggleable__label-arrow\">ohe_pipeline</label><div class=\"sk-toggleable__content\"><pre>[&#x27;Sex&#x27;, &#x27;Embarked&#x27;]</pre></div></div></div><div class=\"sk-serial\"><div class=\"sk-item\"><div class=\"sk-serial\"><div class=\"sk-item\"><div class=\"sk-estimator sk-toggleable\"><input class=\"sk-toggleable__control sk-hidden--visually\" id=\"sk-estimator-id-9\" type=\"checkbox\" ><label for=\"sk-estimator-id-9\" class=\"sk-toggleable__label sk-toggleable__label-arrow\">SimpleImputer</label><div class=\"sk-toggleable__content\"><pre>SimpleImputer(strategy=&#x27;most_frequent&#x27;)</pre></div></div></div><div class=\"sk-item\"><div class=\"sk-estimator sk-toggleable\"><input class=\"sk-toggleable__control sk-hidden--visually\" id=\"sk-estimator-id-10\" type=\"checkbox\" ><label for=\"sk-estimator-id-10\" class=\"sk-toggleable__label sk-toggleable__label-arrow\">OneHotEncoder</label><div class=\"sk-toggleable__content\"><pre>OneHotEncoder(handle_unknown=&#x27;ignore&#x27;, sparse_output=False)</pre></div></div></div></div></div></div></div></div><div class=\"sk-parallel-item\"><div class=\"sk-item\"><div class=\"sk-label-container\"><div class=\"sk-label sk-toggleable\"><input class=\"sk-toggleable__control sk-hidden--visually\" id=\"sk-estimator-id-11\" type=\"checkbox\" ><label for=\"sk-estimator-id-11\" class=\"sk-toggleable__label sk-toggleable__label-arrow\">passthrough</label><div class=\"sk-toggleable__content\"><pre>[&#x27;Pclass&#x27;, &#x27;Cabin_Assigned&#x27;, &#x27;Name_Size&#x27;, &#x27;Age&#x27;, &#x27;Fare&#x27;, &#x27;Ticket_Num_Counts&#x27;]</pre></div></div></div><div class=\"sk-serial\"><div class=\"sk-item\"><div class=\"sk-estimator sk-toggleable\"><input class=\"sk-toggleable__control sk-hidden--visually\" id=\"sk-estimator-id-12\" type=\"checkbox\" ><label for=\"sk-estimator-id-12\" class=\"sk-toggleable__label sk-toggleable__label-arrow\">passthrough</label><div class=\"sk-toggleable__content\"><pre>passthrough</pre></div></div></div></div></div></div></div></div><div class=\"sk-item sk-dashed-wrapped\"><div class=\"sk-label-container\"><div class=\"sk-label sk-toggleable\"><input class=\"sk-toggleable__control sk-hidden--visually\" id=\"sk-estimator-id-13\" type=\"checkbox\" ><label for=\"sk-estimator-id-13\" class=\"sk-toggleable__label sk-toggleable__label-arrow\">gridsearchcv: GridSearchCV</label><div class=\"sk-toggleable__content\"><pre>GridSearchCV(cv=StratifiedKFold(n_splits=5, random_state=None, shuffle=False),\n",
       "             estimator=RandomForestClassifier(),\n",
       "             param_grid={&#x27;criterion&#x27;: [&#x27;gini&#x27;, &#x27;entropy&#x27;],\n",
       "                         &#x27;max_depth&#x27;: [10, 13, 15, 17, 20],\n",
       "                         &#x27;min_samples_leaf&#x27;: [2, 4, 5, 6],\n",
       "                         &#x27;min_samples_split&#x27;: [5, 10, 15],\n",
       "                         &#x27;n_estimators&#x27;: [150, 200, 300, 500]})</pre></div></div></div><div class=\"sk-parallel\"><div class=\"sk-parallel-item\"><div class=\"sk-item\"><div class=\"sk-label-container\"><div class=\"sk-label sk-toggleable\"><input class=\"sk-toggleable__control sk-hidden--visually\" id=\"sk-estimator-id-14\" type=\"checkbox\" ><label for=\"sk-estimator-id-14\" class=\"sk-toggleable__label sk-toggleable__label-arrow\">estimator: RandomForestClassifier</label><div class=\"sk-toggleable__content\"><pre>RandomForestClassifier()</pre></div></div></div><div class=\"sk-serial\"><div class=\"sk-item\"><div class=\"sk-estimator sk-toggleable\"><input class=\"sk-toggleable__control sk-hidden--visually\" id=\"sk-estimator-id-15\" type=\"checkbox\" ><label for=\"sk-estimator-id-15\" class=\"sk-toggleable__label sk-toggleable__label-arrow\">RandomForestClassifier</label><div class=\"sk-toggleable__content\"><pre>RandomForestClassifier()</pre></div></div></div></div></div></div></div></div></div></div></div></div>"
      ],
      "text/plain": [
       "Pipeline(steps=[('columntransformer',\n",
       "                 ColumnTransformer(n_jobs=-1,\n",
       "                                   transformers=[('impute',\n",
       "                                                  SimpleImputer(strategy='most_frequent'),\n",
       "                                                  ['Age']),\n",
       "                                                 ('ord_pipeline',\n",
       "                                                  Pipeline(steps=[('impute',\n",
       "                                                                   SimpleImputer(strategy='most_frequent')),\n",
       "                                                                  ('ord',\n",
       "                                                                   OrdinalEncoder(handle_unknown='use_encoded_value',\n",
       "                                                                                  unknown_value=-1))]),\n",
       "                                                  ['FamSize']),\n",
       "                                                 ('ohe_pipeline',\n",
       "                                                  Pipeline(steps=[('impu...\n",
       "                                                  ['Pclass', 'Cabin_Assigned',\n",
       "                                                   'Name_Size', 'Age', 'Fare',\n",
       "                                                   'Ticket_Num_Counts'])])),\n",
       "                ('gridsearchcv',\n",
       "                 GridSearchCV(cv=StratifiedKFold(n_splits=5, random_state=None, shuffle=False),\n",
       "                              estimator=RandomForestClassifier(),\n",
       "                              param_grid={'criterion': ['gini', 'entropy'],\n",
       "                                          'max_depth': [10, 13, 15, 17, 20],\n",
       "                                          'min_samples_leaf': [2, 4, 5, 6],\n",
       "                                          'min_samples_split': [5, 10, 15],\n",
       "                                          'n_estimators': [150, 200, 300,\n",
       "                                                           500]}))])"
      ]
     },
     "execution_count": 63,
     "metadata": {},
     "output_type": "execute_result"
    }
   ],
   "source": [
    "pipefinalrfc = make_pipeline(col_trans, CV_rfc)\n",
    "pipefinalrfc.fit(X_train, y_train)"
   ]
  },
  {
   "cell_type": "code",
   "execution_count": 64,
   "id": "5beabe87",
   "metadata": {
    "execution": {
     "iopub.execute_input": "2024-05-11T20:32:13.531706Z",
     "iopub.status.busy": "2024-05-11T20:32:13.530924Z",
     "iopub.status.idle": "2024-05-11T20:32:13.537829Z",
     "shell.execute_reply": "2024-05-11T20:32:13.536376Z"
    },
    "papermill": {
     "duration": 0.053337,
     "end_time": "2024-05-11T20:32:13.540072",
     "exception": false,
     "start_time": "2024-05-11T20:32:13.486735",
     "status": "completed"
    },
    "tags": []
   },
   "outputs": [
    {
     "name": "stdout",
     "output_type": "stream",
     "text": [
      "{'criterion': 'gini', 'max_depth': 17, 'min_samples_leaf': 2, 'min_samples_split': 15, 'n_estimators': 500}\n",
      "0.8229981286319313\n"
     ]
    }
   ],
   "source": [
    "print(CV_rfc.best_params_)\n",
    "print(CV_rfc.best_score_)"
   ]
  },
  {
   "cell_type": "markdown",
   "id": "8cd952a5",
   "metadata": {
    "papermill": {
     "duration": 0.031668,
     "end_time": "2024-05-11T20:32:13.603697",
     "exception": false,
     "start_time": "2024-05-11T20:32:13.572029",
     "status": "completed"
    },
    "tags": []
   },
   "source": [
    "Decision Tree"
   ]
  },
  {
   "cell_type": "code",
   "execution_count": 65,
   "id": "2dd4a6d8",
   "metadata": {
    "execution": {
     "iopub.execute_input": "2024-05-11T20:32:13.673056Z",
     "iopub.status.busy": "2024-05-11T20:32:13.672272Z",
     "iopub.status.idle": "2024-05-11T20:32:13.677148Z",
     "shell.execute_reply": "2024-05-11T20:32:13.676294Z"
    },
    "papermill": {
     "duration": 0.042624,
     "end_time": "2024-05-11T20:32:13.679522",
     "exception": false,
     "start_time": "2024-05-11T20:32:13.636898",
     "status": "completed"
    },
    "tags": []
   },
   "outputs": [],
   "source": [
    "dtc = DecisionTreeClassifier()"
   ]
  },
  {
   "cell_type": "code",
   "execution_count": 66,
   "id": "98b6ef60",
   "metadata": {
    "execution": {
     "iopub.execute_input": "2024-05-11T20:32:13.749208Z",
     "iopub.status.busy": "2024-05-11T20:32:13.748445Z",
     "iopub.status.idle": "2024-05-11T20:32:13.754018Z",
     "shell.execute_reply": "2024-05-11T20:32:13.753153Z"
    },
    "papermill": {
     "duration": 0.043886,
     "end_time": "2024-05-11T20:32:13.756592",
     "exception": false,
     "start_time": "2024-05-11T20:32:13.712706",
     "status": "completed"
    },
    "tags": []
   },
   "outputs": [],
   "source": [
    "param_grid = {\n",
    "    'min_samples_split': [5, 10, 15],\n",
    "    'max_depth': [10, 20, 30],\n",
    "    'min_samples_leaf': [1, 2, 4],\n",
    "    'criterion': ['gini', 'entropy'],\n",
    "}"
   ]
  },
  {
   "cell_type": "code",
   "execution_count": 67,
   "id": "0587872b",
   "metadata": {
    "execution": {
     "iopub.execute_input": "2024-05-11T20:32:13.827787Z",
     "iopub.status.busy": "2024-05-11T20:32:13.827312Z",
     "iopub.status.idle": "2024-05-11T20:32:13.833725Z",
     "shell.execute_reply": "2024-05-11T20:32:13.832521Z"
    },
    "papermill": {
     "duration": 0.047025,
     "end_time": "2024-05-11T20:32:13.836097",
     "exception": false,
     "start_time": "2024-05-11T20:32:13.789072",
     "status": "completed"
    },
    "tags": []
   },
   "outputs": [],
   "source": [
    "CV_dtc = GridSearchCV(estimator=dtc, param_grid=param_grid, cv=StratifiedKFold(n_splits=5))"
   ]
  },
  {
   "cell_type": "code",
   "execution_count": 68,
   "id": "3dcfeb3f",
   "metadata": {
    "execution": {
     "iopub.execute_input": "2024-05-11T20:32:13.905122Z",
     "iopub.status.busy": "2024-05-11T20:32:13.904669Z",
     "iopub.status.idle": "2024-05-11T20:32:16.885005Z",
     "shell.execute_reply": "2024-05-11T20:32:16.883648Z"
    },
    "papermill": {
     "duration": 3.017,
     "end_time": "2024-05-11T20:32:16.887405",
     "exception": false,
     "start_time": "2024-05-11T20:32:13.870405",
     "status": "completed"
    },
    "tags": []
   },
   "outputs": [
    {
     "data": {
      "text/html": [
       "<style>#sk-container-id-2 {color: black;background-color: white;}#sk-container-id-2 pre{padding: 0;}#sk-container-id-2 div.sk-toggleable {background-color: white;}#sk-container-id-2 label.sk-toggleable__label {cursor: pointer;display: block;width: 100%;margin-bottom: 0;padding: 0.3em;box-sizing: border-box;text-align: center;}#sk-container-id-2 label.sk-toggleable__label-arrow:before {content: \"▸\";float: left;margin-right: 0.25em;color: #696969;}#sk-container-id-2 label.sk-toggleable__label-arrow:hover:before {color: black;}#sk-container-id-2 div.sk-estimator:hover label.sk-toggleable__label-arrow:before {color: black;}#sk-container-id-2 div.sk-toggleable__content {max-height: 0;max-width: 0;overflow: hidden;text-align: left;background-color: #f0f8ff;}#sk-container-id-2 div.sk-toggleable__content pre {margin: 0.2em;color: black;border-radius: 0.25em;background-color: #f0f8ff;}#sk-container-id-2 input.sk-toggleable__control:checked~div.sk-toggleable__content {max-height: 200px;max-width: 100%;overflow: auto;}#sk-container-id-2 input.sk-toggleable__control:checked~label.sk-toggleable__label-arrow:before {content: \"▾\";}#sk-container-id-2 div.sk-estimator input.sk-toggleable__control:checked~label.sk-toggleable__label {background-color: #d4ebff;}#sk-container-id-2 div.sk-label input.sk-toggleable__control:checked~label.sk-toggleable__label {background-color: #d4ebff;}#sk-container-id-2 input.sk-hidden--visually {border: 0;clip: rect(1px 1px 1px 1px);clip: rect(1px, 1px, 1px, 1px);height: 1px;margin: -1px;overflow: hidden;padding: 0;position: absolute;width: 1px;}#sk-container-id-2 div.sk-estimator {font-family: monospace;background-color: #f0f8ff;border: 1px dotted black;border-radius: 0.25em;box-sizing: border-box;margin-bottom: 0.5em;}#sk-container-id-2 div.sk-estimator:hover {background-color: #d4ebff;}#sk-container-id-2 div.sk-parallel-item::after {content: \"\";width: 100%;border-bottom: 1px solid gray;flex-grow: 1;}#sk-container-id-2 div.sk-label:hover label.sk-toggleable__label {background-color: #d4ebff;}#sk-container-id-2 div.sk-serial::before {content: \"\";position: absolute;border-left: 1px solid gray;box-sizing: border-box;top: 0;bottom: 0;left: 50%;z-index: 0;}#sk-container-id-2 div.sk-serial {display: flex;flex-direction: column;align-items: center;background-color: white;padding-right: 0.2em;padding-left: 0.2em;position: relative;}#sk-container-id-2 div.sk-item {position: relative;z-index: 1;}#sk-container-id-2 div.sk-parallel {display: flex;align-items: stretch;justify-content: center;background-color: white;position: relative;}#sk-container-id-2 div.sk-item::before, #sk-container-id-2 div.sk-parallel-item::before {content: \"\";position: absolute;border-left: 1px solid gray;box-sizing: border-box;top: 0;bottom: 0;left: 50%;z-index: -1;}#sk-container-id-2 div.sk-parallel-item {display: flex;flex-direction: column;z-index: 1;position: relative;background-color: white;}#sk-container-id-2 div.sk-parallel-item:first-child::after {align-self: flex-end;width: 50%;}#sk-container-id-2 div.sk-parallel-item:last-child::after {align-self: flex-start;width: 50%;}#sk-container-id-2 div.sk-parallel-item:only-child::after {width: 0;}#sk-container-id-2 div.sk-dashed-wrapped {border: 1px dashed gray;margin: 0 0.4em 0.5em 0.4em;box-sizing: border-box;padding-bottom: 0.4em;background-color: white;}#sk-container-id-2 div.sk-label label {font-family: monospace;font-weight: bold;display: inline-block;line-height: 1.2em;}#sk-container-id-2 div.sk-label-container {text-align: center;}#sk-container-id-2 div.sk-container {/* jupyter's `normalize.less` sets `[hidden] { display: none; }` but bootstrap.min.css set `[hidden] { display: none !important; }` so we also need the `!important` here to be able to override the default hidden behavior on the sphinx rendered scikit-learn.org. See: https://github.com/scikit-learn/scikit-learn/issues/21755 */display: inline-block !important;position: relative;}#sk-container-id-2 div.sk-text-repr-fallback {display: none;}</style><div id=\"sk-container-id-2\" class=\"sk-top-container\"><div class=\"sk-text-repr-fallback\"><pre>Pipeline(steps=[(&#x27;columntransformer&#x27;,\n",
       "                 ColumnTransformer(n_jobs=-1,\n",
       "                                   transformers=[(&#x27;impute&#x27;,\n",
       "                                                  SimpleImputer(strategy=&#x27;most_frequent&#x27;),\n",
       "                                                  [&#x27;Age&#x27;]),\n",
       "                                                 (&#x27;ord_pipeline&#x27;,\n",
       "                                                  Pipeline(steps=[(&#x27;impute&#x27;,\n",
       "                                                                   SimpleImputer(strategy=&#x27;most_frequent&#x27;)),\n",
       "                                                                  (&#x27;ord&#x27;,\n",
       "                                                                   OrdinalEncoder(handle_unknown=&#x27;use_encoded_value&#x27;,\n",
       "                                                                                  unknown_value=-1))]),\n",
       "                                                  [&#x27;FamSize&#x27;]),\n",
       "                                                 (&#x27;ohe_pipeline&#x27;,\n",
       "                                                  Pipeline(steps=[(&#x27;impu...\n",
       "                                                 (&#x27;passthrough&#x27;, &#x27;passthrough&#x27;,\n",
       "                                                  [&#x27;Pclass&#x27;, &#x27;Cabin_Assigned&#x27;,\n",
       "                                                   &#x27;Name_Size&#x27;, &#x27;Age&#x27;, &#x27;Fare&#x27;,\n",
       "                                                   &#x27;Ticket_Num_Counts&#x27;])])),\n",
       "                (&#x27;gridsearchcv&#x27;,\n",
       "                 GridSearchCV(cv=StratifiedKFold(n_splits=5, random_state=None, shuffle=False),\n",
       "                              estimator=DecisionTreeClassifier(),\n",
       "                              param_grid={&#x27;criterion&#x27;: [&#x27;gini&#x27;, &#x27;entropy&#x27;],\n",
       "                                          &#x27;max_depth&#x27;: [10, 20, 30],\n",
       "                                          &#x27;min_samples_leaf&#x27;: [1, 2, 4],\n",
       "                                          &#x27;min_samples_split&#x27;: [5, 10, 15]}))])</pre><b>In a Jupyter environment, please rerun this cell to show the HTML representation or trust the notebook. <br />On GitHub, the HTML representation is unable to render, please try loading this page with nbviewer.org.</b></div><div class=\"sk-container\" hidden><div class=\"sk-item sk-dashed-wrapped\"><div class=\"sk-label-container\"><div class=\"sk-label sk-toggleable\"><input class=\"sk-toggleable__control sk-hidden--visually\" id=\"sk-estimator-id-16\" type=\"checkbox\" ><label for=\"sk-estimator-id-16\" class=\"sk-toggleable__label sk-toggleable__label-arrow\">Pipeline</label><div class=\"sk-toggleable__content\"><pre>Pipeline(steps=[(&#x27;columntransformer&#x27;,\n",
       "                 ColumnTransformer(n_jobs=-1,\n",
       "                                   transformers=[(&#x27;impute&#x27;,\n",
       "                                                  SimpleImputer(strategy=&#x27;most_frequent&#x27;),\n",
       "                                                  [&#x27;Age&#x27;]),\n",
       "                                                 (&#x27;ord_pipeline&#x27;,\n",
       "                                                  Pipeline(steps=[(&#x27;impute&#x27;,\n",
       "                                                                   SimpleImputer(strategy=&#x27;most_frequent&#x27;)),\n",
       "                                                                  (&#x27;ord&#x27;,\n",
       "                                                                   OrdinalEncoder(handle_unknown=&#x27;use_encoded_value&#x27;,\n",
       "                                                                                  unknown_value=-1))]),\n",
       "                                                  [&#x27;FamSize&#x27;]),\n",
       "                                                 (&#x27;ohe_pipeline&#x27;,\n",
       "                                                  Pipeline(steps=[(&#x27;impu...\n",
       "                                                 (&#x27;passthrough&#x27;, &#x27;passthrough&#x27;,\n",
       "                                                  [&#x27;Pclass&#x27;, &#x27;Cabin_Assigned&#x27;,\n",
       "                                                   &#x27;Name_Size&#x27;, &#x27;Age&#x27;, &#x27;Fare&#x27;,\n",
       "                                                   &#x27;Ticket_Num_Counts&#x27;])])),\n",
       "                (&#x27;gridsearchcv&#x27;,\n",
       "                 GridSearchCV(cv=StratifiedKFold(n_splits=5, random_state=None, shuffle=False),\n",
       "                              estimator=DecisionTreeClassifier(),\n",
       "                              param_grid={&#x27;criterion&#x27;: [&#x27;gini&#x27;, &#x27;entropy&#x27;],\n",
       "                                          &#x27;max_depth&#x27;: [10, 20, 30],\n",
       "                                          &#x27;min_samples_leaf&#x27;: [1, 2, 4],\n",
       "                                          &#x27;min_samples_split&#x27;: [5, 10, 15]}))])</pre></div></div></div><div class=\"sk-serial\"><div class=\"sk-item sk-dashed-wrapped\"><div class=\"sk-label-container\"><div class=\"sk-label sk-toggleable\"><input class=\"sk-toggleable__control sk-hidden--visually\" id=\"sk-estimator-id-17\" type=\"checkbox\" ><label for=\"sk-estimator-id-17\" class=\"sk-toggleable__label sk-toggleable__label-arrow\">columntransformer: ColumnTransformer</label><div class=\"sk-toggleable__content\"><pre>ColumnTransformer(n_jobs=-1,\n",
       "                  transformers=[(&#x27;impute&#x27;,\n",
       "                                 SimpleImputer(strategy=&#x27;most_frequent&#x27;),\n",
       "                                 [&#x27;Age&#x27;]),\n",
       "                                (&#x27;ord_pipeline&#x27;,\n",
       "                                 Pipeline(steps=[(&#x27;impute&#x27;,\n",
       "                                                  SimpleImputer(strategy=&#x27;most_frequent&#x27;)),\n",
       "                                                 (&#x27;ord&#x27;,\n",
       "                                                  OrdinalEncoder(handle_unknown=&#x27;use_encoded_value&#x27;,\n",
       "                                                                 unknown_value=-1))]),\n",
       "                                 [&#x27;FamSize&#x27;]),\n",
       "                                (&#x27;ohe_pipeline&#x27;,\n",
       "                                 Pipeline(steps=[(&#x27;impute&#x27;,\n",
       "                                                  SimpleImputer(strategy=&#x27;most_frequent&#x27;)),\n",
       "                                                 (&#x27;one-hot&#x27;,\n",
       "                                                  OneHotEncoder(handle_unknown=&#x27;ignore&#x27;,\n",
       "                                                                sparse_output=False))]),\n",
       "                                 [&#x27;Sex&#x27;, &#x27;Embarked&#x27;]),\n",
       "                                (&#x27;passthrough&#x27;, &#x27;passthrough&#x27;,\n",
       "                                 [&#x27;Pclass&#x27;, &#x27;Cabin_Assigned&#x27;, &#x27;Name_Size&#x27;,\n",
       "                                  &#x27;Age&#x27;, &#x27;Fare&#x27;, &#x27;Ticket_Num_Counts&#x27;])])</pre></div></div></div><div class=\"sk-parallel\"><div class=\"sk-parallel-item\"><div class=\"sk-item\"><div class=\"sk-label-container\"><div class=\"sk-label sk-toggleable\"><input class=\"sk-toggleable__control sk-hidden--visually\" id=\"sk-estimator-id-18\" type=\"checkbox\" ><label for=\"sk-estimator-id-18\" class=\"sk-toggleable__label sk-toggleable__label-arrow\">impute</label><div class=\"sk-toggleable__content\"><pre>[&#x27;Age&#x27;]</pre></div></div></div><div class=\"sk-serial\"><div class=\"sk-item\"><div class=\"sk-estimator sk-toggleable\"><input class=\"sk-toggleable__control sk-hidden--visually\" id=\"sk-estimator-id-19\" type=\"checkbox\" ><label for=\"sk-estimator-id-19\" class=\"sk-toggleable__label sk-toggleable__label-arrow\">SimpleImputer</label><div class=\"sk-toggleable__content\"><pre>SimpleImputer(strategy=&#x27;most_frequent&#x27;)</pre></div></div></div></div></div></div><div class=\"sk-parallel-item\"><div class=\"sk-item\"><div class=\"sk-label-container\"><div class=\"sk-label sk-toggleable\"><input class=\"sk-toggleable__control sk-hidden--visually\" id=\"sk-estimator-id-20\" type=\"checkbox\" ><label for=\"sk-estimator-id-20\" class=\"sk-toggleable__label sk-toggleable__label-arrow\">ord_pipeline</label><div class=\"sk-toggleable__content\"><pre>[&#x27;FamSize&#x27;]</pre></div></div></div><div class=\"sk-serial\"><div class=\"sk-item\"><div class=\"sk-serial\"><div class=\"sk-item\"><div class=\"sk-estimator sk-toggleable\"><input class=\"sk-toggleable__control sk-hidden--visually\" id=\"sk-estimator-id-21\" type=\"checkbox\" ><label for=\"sk-estimator-id-21\" class=\"sk-toggleable__label sk-toggleable__label-arrow\">SimpleImputer</label><div class=\"sk-toggleable__content\"><pre>SimpleImputer(strategy=&#x27;most_frequent&#x27;)</pre></div></div></div><div class=\"sk-item\"><div class=\"sk-estimator sk-toggleable\"><input class=\"sk-toggleable__control sk-hidden--visually\" id=\"sk-estimator-id-22\" type=\"checkbox\" ><label for=\"sk-estimator-id-22\" class=\"sk-toggleable__label sk-toggleable__label-arrow\">OrdinalEncoder</label><div class=\"sk-toggleable__content\"><pre>OrdinalEncoder(handle_unknown=&#x27;use_encoded_value&#x27;, unknown_value=-1)</pre></div></div></div></div></div></div></div></div><div class=\"sk-parallel-item\"><div class=\"sk-item\"><div class=\"sk-label-container\"><div class=\"sk-label sk-toggleable\"><input class=\"sk-toggleable__control sk-hidden--visually\" id=\"sk-estimator-id-23\" type=\"checkbox\" ><label for=\"sk-estimator-id-23\" class=\"sk-toggleable__label sk-toggleable__label-arrow\">ohe_pipeline</label><div class=\"sk-toggleable__content\"><pre>[&#x27;Sex&#x27;, &#x27;Embarked&#x27;]</pre></div></div></div><div class=\"sk-serial\"><div class=\"sk-item\"><div class=\"sk-serial\"><div class=\"sk-item\"><div class=\"sk-estimator sk-toggleable\"><input class=\"sk-toggleable__control sk-hidden--visually\" id=\"sk-estimator-id-24\" type=\"checkbox\" ><label for=\"sk-estimator-id-24\" class=\"sk-toggleable__label sk-toggleable__label-arrow\">SimpleImputer</label><div class=\"sk-toggleable__content\"><pre>SimpleImputer(strategy=&#x27;most_frequent&#x27;)</pre></div></div></div><div class=\"sk-item\"><div class=\"sk-estimator sk-toggleable\"><input class=\"sk-toggleable__control sk-hidden--visually\" id=\"sk-estimator-id-25\" type=\"checkbox\" ><label for=\"sk-estimator-id-25\" class=\"sk-toggleable__label sk-toggleable__label-arrow\">OneHotEncoder</label><div class=\"sk-toggleable__content\"><pre>OneHotEncoder(handle_unknown=&#x27;ignore&#x27;, sparse_output=False)</pre></div></div></div></div></div></div></div></div><div class=\"sk-parallel-item\"><div class=\"sk-item\"><div class=\"sk-label-container\"><div class=\"sk-label sk-toggleable\"><input class=\"sk-toggleable__control sk-hidden--visually\" id=\"sk-estimator-id-26\" type=\"checkbox\" ><label for=\"sk-estimator-id-26\" class=\"sk-toggleable__label sk-toggleable__label-arrow\">passthrough</label><div class=\"sk-toggleable__content\"><pre>[&#x27;Pclass&#x27;, &#x27;Cabin_Assigned&#x27;, &#x27;Name_Size&#x27;, &#x27;Age&#x27;, &#x27;Fare&#x27;, &#x27;Ticket_Num_Counts&#x27;]</pre></div></div></div><div class=\"sk-serial\"><div class=\"sk-item\"><div class=\"sk-estimator sk-toggleable\"><input class=\"sk-toggleable__control sk-hidden--visually\" id=\"sk-estimator-id-27\" type=\"checkbox\" ><label for=\"sk-estimator-id-27\" class=\"sk-toggleable__label sk-toggleable__label-arrow\">passthrough</label><div class=\"sk-toggleable__content\"><pre>passthrough</pre></div></div></div></div></div></div></div></div><div class=\"sk-item sk-dashed-wrapped\"><div class=\"sk-label-container\"><div class=\"sk-label sk-toggleable\"><input class=\"sk-toggleable__control sk-hidden--visually\" id=\"sk-estimator-id-28\" type=\"checkbox\" ><label for=\"sk-estimator-id-28\" class=\"sk-toggleable__label sk-toggleable__label-arrow\">gridsearchcv: GridSearchCV</label><div class=\"sk-toggleable__content\"><pre>GridSearchCV(cv=StratifiedKFold(n_splits=5, random_state=None, shuffle=False),\n",
       "             estimator=DecisionTreeClassifier(),\n",
       "             param_grid={&#x27;criterion&#x27;: [&#x27;gini&#x27;, &#x27;entropy&#x27;],\n",
       "                         &#x27;max_depth&#x27;: [10, 20, 30],\n",
       "                         &#x27;min_samples_leaf&#x27;: [1, 2, 4],\n",
       "                         &#x27;min_samples_split&#x27;: [5, 10, 15]})</pre></div></div></div><div class=\"sk-parallel\"><div class=\"sk-parallel-item\"><div class=\"sk-item\"><div class=\"sk-label-container\"><div class=\"sk-label sk-toggleable\"><input class=\"sk-toggleable__control sk-hidden--visually\" id=\"sk-estimator-id-29\" type=\"checkbox\" ><label for=\"sk-estimator-id-29\" class=\"sk-toggleable__label sk-toggleable__label-arrow\">estimator: DecisionTreeClassifier</label><div class=\"sk-toggleable__content\"><pre>DecisionTreeClassifier()</pre></div></div></div><div class=\"sk-serial\"><div class=\"sk-item\"><div class=\"sk-estimator sk-toggleable\"><input class=\"sk-toggleable__control sk-hidden--visually\" id=\"sk-estimator-id-30\" type=\"checkbox\" ><label for=\"sk-estimator-id-30\" class=\"sk-toggleable__label sk-toggleable__label-arrow\">DecisionTreeClassifier</label><div class=\"sk-toggleable__content\"><pre>DecisionTreeClassifier()</pre></div></div></div></div></div></div></div></div></div></div></div></div>"
      ],
      "text/plain": [
       "Pipeline(steps=[('columntransformer',\n",
       "                 ColumnTransformer(n_jobs=-1,\n",
       "                                   transformers=[('impute',\n",
       "                                                  SimpleImputer(strategy='most_frequent'),\n",
       "                                                  ['Age']),\n",
       "                                                 ('ord_pipeline',\n",
       "                                                  Pipeline(steps=[('impute',\n",
       "                                                                   SimpleImputer(strategy='most_frequent')),\n",
       "                                                                  ('ord',\n",
       "                                                                   OrdinalEncoder(handle_unknown='use_encoded_value',\n",
       "                                                                                  unknown_value=-1))]),\n",
       "                                                  ['FamSize']),\n",
       "                                                 ('ohe_pipeline',\n",
       "                                                  Pipeline(steps=[('impu...\n",
       "                                                 ('passthrough', 'passthrough',\n",
       "                                                  ['Pclass', 'Cabin_Assigned',\n",
       "                                                   'Name_Size', 'Age', 'Fare',\n",
       "                                                   'Ticket_Num_Counts'])])),\n",
       "                ('gridsearchcv',\n",
       "                 GridSearchCV(cv=StratifiedKFold(n_splits=5, random_state=None, shuffle=False),\n",
       "                              estimator=DecisionTreeClassifier(),\n",
       "                              param_grid={'criterion': ['gini', 'entropy'],\n",
       "                                          'max_depth': [10, 20, 30],\n",
       "                                          'min_samples_leaf': [1, 2, 4],\n",
       "                                          'min_samples_split': [5, 10, 15]}))])"
      ]
     },
     "execution_count": 68,
     "metadata": {},
     "output_type": "execute_result"
    }
   ],
   "source": [
    "pipefinaldtc = make_pipeline(col_trans, CV_dtc)\n",
    "pipefinaldtc.fit(X_train, y_train)"
   ]
  },
  {
   "cell_type": "code",
   "execution_count": 69,
   "id": "733f2a86",
   "metadata": {
    "execution": {
     "iopub.execute_input": "2024-05-11T20:32:16.959068Z",
     "iopub.status.busy": "2024-05-11T20:32:16.958272Z",
     "iopub.status.idle": "2024-05-11T20:32:16.964596Z",
     "shell.execute_reply": "2024-05-11T20:32:16.963451Z"
    },
    "papermill": {
     "duration": 0.045235,
     "end_time": "2024-05-11T20:32:16.966750",
     "exception": false,
     "start_time": "2024-05-11T20:32:16.921515",
     "status": "completed"
    },
    "tags": []
   },
   "outputs": [
    {
     "name": "stdout",
     "output_type": "stream",
     "text": [
      "{'criterion': 'entropy', 'max_depth': 30, 'min_samples_leaf': 4, 'min_samples_split': 10}\n",
      "0.7977346597064907\n"
     ]
    }
   ],
   "source": [
    "print(CV_dtc.best_params_)\n",
    "print(CV_dtc.best_score_)"
   ]
  },
  {
   "cell_type": "markdown",
   "id": "fbf6e1da",
   "metadata": {
    "papermill": {
     "duration": 0.034104,
     "end_time": "2024-05-11T20:32:17.035513",
     "exception": false,
     "start_time": "2024-05-11T20:32:17.001409",
     "status": "completed"
    },
    "tags": []
   },
   "source": [
    "K Neighbours"
   ]
  },
  {
   "cell_type": "code",
   "execution_count": 70,
   "id": "0cd1b97b",
   "metadata": {
    "execution": {
     "iopub.execute_input": "2024-05-11T20:32:17.104100Z",
     "iopub.status.busy": "2024-05-11T20:32:17.103348Z",
     "iopub.status.idle": "2024-05-11T20:32:17.109014Z",
     "shell.execute_reply": "2024-05-11T20:32:17.107680Z"
    },
    "papermill": {
     "duration": 0.042551,
     "end_time": "2024-05-11T20:32:17.112018",
     "exception": false,
     "start_time": "2024-05-11T20:32:17.069467",
     "status": "completed"
    },
    "tags": []
   },
   "outputs": [],
   "source": [
    "knn = KNeighborsClassifier()"
   ]
  },
  {
   "cell_type": "code",
   "execution_count": 71,
   "id": "ca76de2a",
   "metadata": {
    "execution": {
     "iopub.execute_input": "2024-05-11T20:32:17.181797Z",
     "iopub.status.busy": "2024-05-11T20:32:17.180891Z",
     "iopub.status.idle": "2024-05-11T20:32:17.186789Z",
     "shell.execute_reply": "2024-05-11T20:32:17.185715Z"
    },
    "papermill": {
     "duration": 0.043713,
     "end_time": "2024-05-11T20:32:17.189575",
     "exception": false,
     "start_time": "2024-05-11T20:32:17.145862",
     "status": "completed"
    },
    "tags": []
   },
   "outputs": [],
   "source": [
    "param_grid = {\n",
    "    'n_neighbors': [3, 5, 7, 9, 11],\n",
    "    'weights': ['uniform', 'distance'],\n",
    "    'algorithm': ['auto', 'ball_tree', 'kd_tree', 'brute'],\n",
    "    'p': [1,2],\n",
    "}"
   ]
  },
  {
   "cell_type": "code",
   "execution_count": 72,
   "id": "3ff9f9d9",
   "metadata": {
    "execution": {
     "iopub.execute_input": "2024-05-11T20:32:17.257784Z",
     "iopub.status.busy": "2024-05-11T20:32:17.257286Z",
     "iopub.status.idle": "2024-05-11T20:32:17.262801Z",
     "shell.execute_reply": "2024-05-11T20:32:17.261634Z"
    },
    "papermill": {
     "duration": 0.042675,
     "end_time": "2024-05-11T20:32:17.265341",
     "exception": false,
     "start_time": "2024-05-11T20:32:17.222666",
     "status": "completed"
    },
    "tags": []
   },
   "outputs": [],
   "source": [
    "CV_knn = GridSearchCV(estimator=knn, param_grid=param_grid, cv=StratifiedKFold(n_splits=5))"
   ]
  },
  {
   "cell_type": "code",
   "execution_count": 73,
   "id": "0e8203ee",
   "metadata": {
    "execution": {
     "iopub.execute_input": "2024-05-11T20:32:17.335518Z",
     "iopub.status.busy": "2024-05-11T20:32:17.334660Z",
     "iopub.status.idle": "2024-05-11T20:32:21.486342Z",
     "shell.execute_reply": "2024-05-11T20:32:21.485099Z"
    },
    "papermill": {
     "duration": 4.191245,
     "end_time": "2024-05-11T20:32:21.489125",
     "exception": false,
     "start_time": "2024-05-11T20:32:17.297880",
     "status": "completed"
    },
    "tags": []
   },
   "outputs": [
    {
     "data": {
      "text/html": [
       "<style>#sk-container-id-3 {color: black;background-color: white;}#sk-container-id-3 pre{padding: 0;}#sk-container-id-3 div.sk-toggleable {background-color: white;}#sk-container-id-3 label.sk-toggleable__label {cursor: pointer;display: block;width: 100%;margin-bottom: 0;padding: 0.3em;box-sizing: border-box;text-align: center;}#sk-container-id-3 label.sk-toggleable__label-arrow:before {content: \"▸\";float: left;margin-right: 0.25em;color: #696969;}#sk-container-id-3 label.sk-toggleable__label-arrow:hover:before {color: black;}#sk-container-id-3 div.sk-estimator:hover label.sk-toggleable__label-arrow:before {color: black;}#sk-container-id-3 div.sk-toggleable__content {max-height: 0;max-width: 0;overflow: hidden;text-align: left;background-color: #f0f8ff;}#sk-container-id-3 div.sk-toggleable__content pre {margin: 0.2em;color: black;border-radius: 0.25em;background-color: #f0f8ff;}#sk-container-id-3 input.sk-toggleable__control:checked~div.sk-toggleable__content {max-height: 200px;max-width: 100%;overflow: auto;}#sk-container-id-3 input.sk-toggleable__control:checked~label.sk-toggleable__label-arrow:before {content: \"▾\";}#sk-container-id-3 div.sk-estimator input.sk-toggleable__control:checked~label.sk-toggleable__label {background-color: #d4ebff;}#sk-container-id-3 div.sk-label input.sk-toggleable__control:checked~label.sk-toggleable__label {background-color: #d4ebff;}#sk-container-id-3 input.sk-hidden--visually {border: 0;clip: rect(1px 1px 1px 1px);clip: rect(1px, 1px, 1px, 1px);height: 1px;margin: -1px;overflow: hidden;padding: 0;position: absolute;width: 1px;}#sk-container-id-3 div.sk-estimator {font-family: monospace;background-color: #f0f8ff;border: 1px dotted black;border-radius: 0.25em;box-sizing: border-box;margin-bottom: 0.5em;}#sk-container-id-3 div.sk-estimator:hover {background-color: #d4ebff;}#sk-container-id-3 div.sk-parallel-item::after {content: \"\";width: 100%;border-bottom: 1px solid gray;flex-grow: 1;}#sk-container-id-3 div.sk-label:hover label.sk-toggleable__label {background-color: #d4ebff;}#sk-container-id-3 div.sk-serial::before {content: \"\";position: absolute;border-left: 1px solid gray;box-sizing: border-box;top: 0;bottom: 0;left: 50%;z-index: 0;}#sk-container-id-3 div.sk-serial {display: flex;flex-direction: column;align-items: center;background-color: white;padding-right: 0.2em;padding-left: 0.2em;position: relative;}#sk-container-id-3 div.sk-item {position: relative;z-index: 1;}#sk-container-id-3 div.sk-parallel {display: flex;align-items: stretch;justify-content: center;background-color: white;position: relative;}#sk-container-id-3 div.sk-item::before, #sk-container-id-3 div.sk-parallel-item::before {content: \"\";position: absolute;border-left: 1px solid gray;box-sizing: border-box;top: 0;bottom: 0;left: 50%;z-index: -1;}#sk-container-id-3 div.sk-parallel-item {display: flex;flex-direction: column;z-index: 1;position: relative;background-color: white;}#sk-container-id-3 div.sk-parallel-item:first-child::after {align-self: flex-end;width: 50%;}#sk-container-id-3 div.sk-parallel-item:last-child::after {align-self: flex-start;width: 50%;}#sk-container-id-3 div.sk-parallel-item:only-child::after {width: 0;}#sk-container-id-3 div.sk-dashed-wrapped {border: 1px dashed gray;margin: 0 0.4em 0.5em 0.4em;box-sizing: border-box;padding-bottom: 0.4em;background-color: white;}#sk-container-id-3 div.sk-label label {font-family: monospace;font-weight: bold;display: inline-block;line-height: 1.2em;}#sk-container-id-3 div.sk-label-container {text-align: center;}#sk-container-id-3 div.sk-container {/* jupyter's `normalize.less` sets `[hidden] { display: none; }` but bootstrap.min.css set `[hidden] { display: none !important; }` so we also need the `!important` here to be able to override the default hidden behavior on the sphinx rendered scikit-learn.org. See: https://github.com/scikit-learn/scikit-learn/issues/21755 */display: inline-block !important;position: relative;}#sk-container-id-3 div.sk-text-repr-fallback {display: none;}</style><div id=\"sk-container-id-3\" class=\"sk-top-container\"><div class=\"sk-text-repr-fallback\"><pre>Pipeline(steps=[(&#x27;columntransformer&#x27;,\n",
       "                 ColumnTransformer(n_jobs=-1,\n",
       "                                   transformers=[(&#x27;impute&#x27;,\n",
       "                                                  SimpleImputer(strategy=&#x27;most_frequent&#x27;),\n",
       "                                                  [&#x27;Age&#x27;]),\n",
       "                                                 (&#x27;ord_pipeline&#x27;,\n",
       "                                                  Pipeline(steps=[(&#x27;impute&#x27;,\n",
       "                                                                   SimpleImputer(strategy=&#x27;most_frequent&#x27;)),\n",
       "                                                                  (&#x27;ord&#x27;,\n",
       "                                                                   OrdinalEncoder(handle_unknown=&#x27;use_encoded_value&#x27;,\n",
       "                                                                                  unknown_value=-1))]),\n",
       "                                                  [&#x27;FamSize&#x27;]),\n",
       "                                                 (&#x27;ohe_pipeline&#x27;,\n",
       "                                                  Pipeline(steps=[(&#x27;impu...\n",
       "                                                 (&#x27;passthrough&#x27;, &#x27;passthrough&#x27;,\n",
       "                                                  [&#x27;Pclass&#x27;, &#x27;Cabin_Assigned&#x27;,\n",
       "                                                   &#x27;Name_Size&#x27;, &#x27;Age&#x27;, &#x27;Fare&#x27;,\n",
       "                                                   &#x27;Ticket_Num_Counts&#x27;])])),\n",
       "                (&#x27;gridsearchcv&#x27;,\n",
       "                 GridSearchCV(cv=StratifiedKFold(n_splits=5, random_state=None, shuffle=False),\n",
       "                              estimator=KNeighborsClassifier(),\n",
       "                              param_grid={&#x27;algorithm&#x27;: [&#x27;auto&#x27;, &#x27;ball_tree&#x27;,\n",
       "                                                        &#x27;kd_tree&#x27;, &#x27;brute&#x27;],\n",
       "                                          &#x27;n_neighbors&#x27;: [3, 5, 7, 9, 11],\n",
       "                                          &#x27;p&#x27;: [1, 2],\n",
       "                                          &#x27;weights&#x27;: [&#x27;uniform&#x27;,\n",
       "                                                      &#x27;distance&#x27;]}))])</pre><b>In a Jupyter environment, please rerun this cell to show the HTML representation or trust the notebook. <br />On GitHub, the HTML representation is unable to render, please try loading this page with nbviewer.org.</b></div><div class=\"sk-container\" hidden><div class=\"sk-item sk-dashed-wrapped\"><div class=\"sk-label-container\"><div class=\"sk-label sk-toggleable\"><input class=\"sk-toggleable__control sk-hidden--visually\" id=\"sk-estimator-id-31\" type=\"checkbox\" ><label for=\"sk-estimator-id-31\" class=\"sk-toggleable__label sk-toggleable__label-arrow\">Pipeline</label><div class=\"sk-toggleable__content\"><pre>Pipeline(steps=[(&#x27;columntransformer&#x27;,\n",
       "                 ColumnTransformer(n_jobs=-1,\n",
       "                                   transformers=[(&#x27;impute&#x27;,\n",
       "                                                  SimpleImputer(strategy=&#x27;most_frequent&#x27;),\n",
       "                                                  [&#x27;Age&#x27;]),\n",
       "                                                 (&#x27;ord_pipeline&#x27;,\n",
       "                                                  Pipeline(steps=[(&#x27;impute&#x27;,\n",
       "                                                                   SimpleImputer(strategy=&#x27;most_frequent&#x27;)),\n",
       "                                                                  (&#x27;ord&#x27;,\n",
       "                                                                   OrdinalEncoder(handle_unknown=&#x27;use_encoded_value&#x27;,\n",
       "                                                                                  unknown_value=-1))]),\n",
       "                                                  [&#x27;FamSize&#x27;]),\n",
       "                                                 (&#x27;ohe_pipeline&#x27;,\n",
       "                                                  Pipeline(steps=[(&#x27;impu...\n",
       "                                                 (&#x27;passthrough&#x27;, &#x27;passthrough&#x27;,\n",
       "                                                  [&#x27;Pclass&#x27;, &#x27;Cabin_Assigned&#x27;,\n",
       "                                                   &#x27;Name_Size&#x27;, &#x27;Age&#x27;, &#x27;Fare&#x27;,\n",
       "                                                   &#x27;Ticket_Num_Counts&#x27;])])),\n",
       "                (&#x27;gridsearchcv&#x27;,\n",
       "                 GridSearchCV(cv=StratifiedKFold(n_splits=5, random_state=None, shuffle=False),\n",
       "                              estimator=KNeighborsClassifier(),\n",
       "                              param_grid={&#x27;algorithm&#x27;: [&#x27;auto&#x27;, &#x27;ball_tree&#x27;,\n",
       "                                                        &#x27;kd_tree&#x27;, &#x27;brute&#x27;],\n",
       "                                          &#x27;n_neighbors&#x27;: [3, 5, 7, 9, 11],\n",
       "                                          &#x27;p&#x27;: [1, 2],\n",
       "                                          &#x27;weights&#x27;: [&#x27;uniform&#x27;,\n",
       "                                                      &#x27;distance&#x27;]}))])</pre></div></div></div><div class=\"sk-serial\"><div class=\"sk-item sk-dashed-wrapped\"><div class=\"sk-label-container\"><div class=\"sk-label sk-toggleable\"><input class=\"sk-toggleable__control sk-hidden--visually\" id=\"sk-estimator-id-32\" type=\"checkbox\" ><label for=\"sk-estimator-id-32\" class=\"sk-toggleable__label sk-toggleable__label-arrow\">columntransformer: ColumnTransformer</label><div class=\"sk-toggleable__content\"><pre>ColumnTransformer(n_jobs=-1,\n",
       "                  transformers=[(&#x27;impute&#x27;,\n",
       "                                 SimpleImputer(strategy=&#x27;most_frequent&#x27;),\n",
       "                                 [&#x27;Age&#x27;]),\n",
       "                                (&#x27;ord_pipeline&#x27;,\n",
       "                                 Pipeline(steps=[(&#x27;impute&#x27;,\n",
       "                                                  SimpleImputer(strategy=&#x27;most_frequent&#x27;)),\n",
       "                                                 (&#x27;ord&#x27;,\n",
       "                                                  OrdinalEncoder(handle_unknown=&#x27;use_encoded_value&#x27;,\n",
       "                                                                 unknown_value=-1))]),\n",
       "                                 [&#x27;FamSize&#x27;]),\n",
       "                                (&#x27;ohe_pipeline&#x27;,\n",
       "                                 Pipeline(steps=[(&#x27;impute&#x27;,\n",
       "                                                  SimpleImputer(strategy=&#x27;most_frequent&#x27;)),\n",
       "                                                 (&#x27;one-hot&#x27;,\n",
       "                                                  OneHotEncoder(handle_unknown=&#x27;ignore&#x27;,\n",
       "                                                                sparse_output=False))]),\n",
       "                                 [&#x27;Sex&#x27;, &#x27;Embarked&#x27;]),\n",
       "                                (&#x27;passthrough&#x27;, &#x27;passthrough&#x27;,\n",
       "                                 [&#x27;Pclass&#x27;, &#x27;Cabin_Assigned&#x27;, &#x27;Name_Size&#x27;,\n",
       "                                  &#x27;Age&#x27;, &#x27;Fare&#x27;, &#x27;Ticket_Num_Counts&#x27;])])</pre></div></div></div><div class=\"sk-parallel\"><div class=\"sk-parallel-item\"><div class=\"sk-item\"><div class=\"sk-label-container\"><div class=\"sk-label sk-toggleable\"><input class=\"sk-toggleable__control sk-hidden--visually\" id=\"sk-estimator-id-33\" type=\"checkbox\" ><label for=\"sk-estimator-id-33\" class=\"sk-toggleable__label sk-toggleable__label-arrow\">impute</label><div class=\"sk-toggleable__content\"><pre>[&#x27;Age&#x27;]</pre></div></div></div><div class=\"sk-serial\"><div class=\"sk-item\"><div class=\"sk-estimator sk-toggleable\"><input class=\"sk-toggleable__control sk-hidden--visually\" id=\"sk-estimator-id-34\" type=\"checkbox\" ><label for=\"sk-estimator-id-34\" class=\"sk-toggleable__label sk-toggleable__label-arrow\">SimpleImputer</label><div class=\"sk-toggleable__content\"><pre>SimpleImputer(strategy=&#x27;most_frequent&#x27;)</pre></div></div></div></div></div></div><div class=\"sk-parallel-item\"><div class=\"sk-item\"><div class=\"sk-label-container\"><div class=\"sk-label sk-toggleable\"><input class=\"sk-toggleable__control sk-hidden--visually\" id=\"sk-estimator-id-35\" type=\"checkbox\" ><label for=\"sk-estimator-id-35\" class=\"sk-toggleable__label sk-toggleable__label-arrow\">ord_pipeline</label><div class=\"sk-toggleable__content\"><pre>[&#x27;FamSize&#x27;]</pre></div></div></div><div class=\"sk-serial\"><div class=\"sk-item\"><div class=\"sk-serial\"><div class=\"sk-item\"><div class=\"sk-estimator sk-toggleable\"><input class=\"sk-toggleable__control sk-hidden--visually\" id=\"sk-estimator-id-36\" type=\"checkbox\" ><label for=\"sk-estimator-id-36\" class=\"sk-toggleable__label sk-toggleable__label-arrow\">SimpleImputer</label><div class=\"sk-toggleable__content\"><pre>SimpleImputer(strategy=&#x27;most_frequent&#x27;)</pre></div></div></div><div class=\"sk-item\"><div class=\"sk-estimator sk-toggleable\"><input class=\"sk-toggleable__control sk-hidden--visually\" id=\"sk-estimator-id-37\" type=\"checkbox\" ><label for=\"sk-estimator-id-37\" class=\"sk-toggleable__label sk-toggleable__label-arrow\">OrdinalEncoder</label><div class=\"sk-toggleable__content\"><pre>OrdinalEncoder(handle_unknown=&#x27;use_encoded_value&#x27;, unknown_value=-1)</pre></div></div></div></div></div></div></div></div><div class=\"sk-parallel-item\"><div class=\"sk-item\"><div class=\"sk-label-container\"><div class=\"sk-label sk-toggleable\"><input class=\"sk-toggleable__control sk-hidden--visually\" id=\"sk-estimator-id-38\" type=\"checkbox\" ><label for=\"sk-estimator-id-38\" class=\"sk-toggleable__label sk-toggleable__label-arrow\">ohe_pipeline</label><div class=\"sk-toggleable__content\"><pre>[&#x27;Sex&#x27;, &#x27;Embarked&#x27;]</pre></div></div></div><div class=\"sk-serial\"><div class=\"sk-item\"><div class=\"sk-serial\"><div class=\"sk-item\"><div class=\"sk-estimator sk-toggleable\"><input class=\"sk-toggleable__control sk-hidden--visually\" id=\"sk-estimator-id-39\" type=\"checkbox\" ><label for=\"sk-estimator-id-39\" class=\"sk-toggleable__label sk-toggleable__label-arrow\">SimpleImputer</label><div class=\"sk-toggleable__content\"><pre>SimpleImputer(strategy=&#x27;most_frequent&#x27;)</pre></div></div></div><div class=\"sk-item\"><div class=\"sk-estimator sk-toggleable\"><input class=\"sk-toggleable__control sk-hidden--visually\" id=\"sk-estimator-id-40\" type=\"checkbox\" ><label for=\"sk-estimator-id-40\" class=\"sk-toggleable__label sk-toggleable__label-arrow\">OneHotEncoder</label><div class=\"sk-toggleable__content\"><pre>OneHotEncoder(handle_unknown=&#x27;ignore&#x27;, sparse_output=False)</pre></div></div></div></div></div></div></div></div><div class=\"sk-parallel-item\"><div class=\"sk-item\"><div class=\"sk-label-container\"><div class=\"sk-label sk-toggleable\"><input class=\"sk-toggleable__control sk-hidden--visually\" id=\"sk-estimator-id-41\" type=\"checkbox\" ><label for=\"sk-estimator-id-41\" class=\"sk-toggleable__label sk-toggleable__label-arrow\">passthrough</label><div class=\"sk-toggleable__content\"><pre>[&#x27;Pclass&#x27;, &#x27;Cabin_Assigned&#x27;, &#x27;Name_Size&#x27;, &#x27;Age&#x27;, &#x27;Fare&#x27;, &#x27;Ticket_Num_Counts&#x27;]</pre></div></div></div><div class=\"sk-serial\"><div class=\"sk-item\"><div class=\"sk-estimator sk-toggleable\"><input class=\"sk-toggleable__control sk-hidden--visually\" id=\"sk-estimator-id-42\" type=\"checkbox\" ><label for=\"sk-estimator-id-42\" class=\"sk-toggleable__label sk-toggleable__label-arrow\">passthrough</label><div class=\"sk-toggleable__content\"><pre>passthrough</pre></div></div></div></div></div></div></div></div><div class=\"sk-item sk-dashed-wrapped\"><div class=\"sk-label-container\"><div class=\"sk-label sk-toggleable\"><input class=\"sk-toggleable__control sk-hidden--visually\" id=\"sk-estimator-id-43\" type=\"checkbox\" ><label for=\"sk-estimator-id-43\" class=\"sk-toggleable__label sk-toggleable__label-arrow\">gridsearchcv: GridSearchCV</label><div class=\"sk-toggleable__content\"><pre>GridSearchCV(cv=StratifiedKFold(n_splits=5, random_state=None, shuffle=False),\n",
       "             estimator=KNeighborsClassifier(),\n",
       "             param_grid={&#x27;algorithm&#x27;: [&#x27;auto&#x27;, &#x27;ball_tree&#x27;, &#x27;kd_tree&#x27;, &#x27;brute&#x27;],\n",
       "                         &#x27;n_neighbors&#x27;: [3, 5, 7, 9, 11], &#x27;p&#x27;: [1, 2],\n",
       "                         &#x27;weights&#x27;: [&#x27;uniform&#x27;, &#x27;distance&#x27;]})</pre></div></div></div><div class=\"sk-parallel\"><div class=\"sk-parallel-item\"><div class=\"sk-item\"><div class=\"sk-label-container\"><div class=\"sk-label sk-toggleable\"><input class=\"sk-toggleable__control sk-hidden--visually\" id=\"sk-estimator-id-44\" type=\"checkbox\" ><label for=\"sk-estimator-id-44\" class=\"sk-toggleable__label sk-toggleable__label-arrow\">estimator: KNeighborsClassifier</label><div class=\"sk-toggleable__content\"><pre>KNeighborsClassifier()</pre></div></div></div><div class=\"sk-serial\"><div class=\"sk-item\"><div class=\"sk-estimator sk-toggleable\"><input class=\"sk-toggleable__control sk-hidden--visually\" id=\"sk-estimator-id-45\" type=\"checkbox\" ><label for=\"sk-estimator-id-45\" class=\"sk-toggleable__label sk-toggleable__label-arrow\">KNeighborsClassifier</label><div class=\"sk-toggleable__content\"><pre>KNeighborsClassifier()</pre></div></div></div></div></div></div></div></div></div></div></div></div>"
      ],
      "text/plain": [
       "Pipeline(steps=[('columntransformer',\n",
       "                 ColumnTransformer(n_jobs=-1,\n",
       "                                   transformers=[('impute',\n",
       "                                                  SimpleImputer(strategy='most_frequent'),\n",
       "                                                  ['Age']),\n",
       "                                                 ('ord_pipeline',\n",
       "                                                  Pipeline(steps=[('impute',\n",
       "                                                                   SimpleImputer(strategy='most_frequent')),\n",
       "                                                                  ('ord',\n",
       "                                                                   OrdinalEncoder(handle_unknown='use_encoded_value',\n",
       "                                                                                  unknown_value=-1))]),\n",
       "                                                  ['FamSize']),\n",
       "                                                 ('ohe_pipeline',\n",
       "                                                  Pipeline(steps=[('impu...\n",
       "                                                 ('passthrough', 'passthrough',\n",
       "                                                  ['Pclass', 'Cabin_Assigned',\n",
       "                                                   'Name_Size', 'Age', 'Fare',\n",
       "                                                   'Ticket_Num_Counts'])])),\n",
       "                ('gridsearchcv',\n",
       "                 GridSearchCV(cv=StratifiedKFold(n_splits=5, random_state=None, shuffle=False),\n",
       "                              estimator=KNeighborsClassifier(),\n",
       "                              param_grid={'algorithm': ['auto', 'ball_tree',\n",
       "                                                        'kd_tree', 'brute'],\n",
       "                                          'n_neighbors': [3, 5, 7, 9, 11],\n",
       "                                          'p': [1, 2],\n",
       "                                          'weights': ['uniform',\n",
       "                                                      'distance']}))])"
      ]
     },
     "execution_count": 73,
     "metadata": {},
     "output_type": "execute_result"
    }
   ],
   "source": [
    "pipefinalknn = make_pipeline(col_trans, CV_knn)\n",
    "pipefinalknn.fit(X_train, y_train)"
   ]
  },
  {
   "cell_type": "code",
   "execution_count": 74,
   "id": "d6aebed6",
   "metadata": {
    "execution": {
     "iopub.execute_input": "2024-05-11T20:32:21.559153Z",
     "iopub.status.busy": "2024-05-11T20:32:21.558738Z",
     "iopub.status.idle": "2024-05-11T20:32:21.564302Z",
     "shell.execute_reply": "2024-05-11T20:32:21.563135Z"
    },
    "papermill": {
     "duration": 0.045,
     "end_time": "2024-05-11T20:32:21.567452",
     "exception": false,
     "start_time": "2024-05-11T20:32:21.522452",
     "status": "completed"
    },
    "tags": []
   },
   "outputs": [
    {
     "name": "stdout",
     "output_type": "stream",
     "text": [
      "{'algorithm': 'brute', 'n_neighbors': 7, 'p': 1, 'weights': 'uniform'}\n",
      "0.8062050625430908\n"
     ]
    }
   ],
   "source": [
    "print(CV_knn.best_params_)\n",
    "print(CV_knn.best_score_)"
   ]
  },
  {
   "cell_type": "markdown",
   "id": "6ac20508",
   "metadata": {
    "papermill": {
     "duration": 0.034529,
     "end_time": "2024-05-11T20:32:21.637367",
     "exception": false,
     "start_time": "2024-05-11T20:32:21.602838",
     "status": "completed"
    },
    "tags": []
   },
   "source": [
    "Support Vector"
   ]
  },
  {
   "cell_type": "code",
   "execution_count": 75,
   "id": "f82008b1",
   "metadata": {
    "execution": {
     "iopub.execute_input": "2024-05-11T20:32:21.706834Z",
     "iopub.status.busy": "2024-05-11T20:32:21.706460Z",
     "iopub.status.idle": "2024-05-11T20:32:21.711622Z",
     "shell.execute_reply": "2024-05-11T20:32:21.710426Z"
    },
    "papermill": {
     "duration": 0.042105,
     "end_time": "2024-05-11T20:32:21.713927",
     "exception": false,
     "start_time": "2024-05-11T20:32:21.671822",
     "status": "completed"
    },
    "tags": []
   },
   "outputs": [],
   "source": [
    "svc = SVC(probability=True)"
   ]
  },
  {
   "cell_type": "code",
   "execution_count": 76,
   "id": "7605fa4d",
   "metadata": {
    "execution": {
     "iopub.execute_input": "2024-05-11T20:32:21.783628Z",
     "iopub.status.busy": "2024-05-11T20:32:21.783266Z",
     "iopub.status.idle": "2024-05-11T20:32:21.788312Z",
     "shell.execute_reply": "2024-05-11T20:32:21.786965Z"
    },
    "papermill": {
     "duration": 0.043812,
     "end_time": "2024-05-11T20:32:21.790788",
     "exception": false,
     "start_time": "2024-05-11T20:32:21.746976",
     "status": "completed"
    },
    "tags": []
   },
   "outputs": [],
   "source": [
    "param_grid = {\n",
    "    'C': [100,10, 1.0, 0.1, 0.001, 0.001],\n",
    "    'kernel':['linear', 'poly', 'rbf', 'sigmoid'],\n",
    "}"
   ]
  },
  {
   "cell_type": "code",
   "execution_count": 77,
   "id": "f94de215",
   "metadata": {
    "execution": {
     "iopub.execute_input": "2024-05-11T20:32:21.860599Z",
     "iopub.status.busy": "2024-05-11T20:32:21.860217Z",
     "iopub.status.idle": "2024-05-11T20:32:21.865243Z",
     "shell.execute_reply": "2024-05-11T20:32:21.864130Z"
    },
    "papermill": {
     "duration": 0.041943,
     "end_time": "2024-05-11T20:32:21.867239",
     "exception": false,
     "start_time": "2024-05-11T20:32:21.825296",
     "status": "completed"
    },
    "tags": []
   },
   "outputs": [],
   "source": [
    "CV_svc = GridSearchCV(estimator=svc, param_grid=param_grid, cv=StratifiedKFold(n_splits=5))"
   ]
  },
  {
   "cell_type": "code",
   "execution_count": 78,
   "id": "1f2c5b1c",
   "metadata": {
    "execution": {
     "iopub.execute_input": "2024-05-11T20:32:21.936958Z",
     "iopub.status.busy": "2024-05-11T20:32:21.936540Z",
     "iopub.status.idle": "2024-05-11T20:35:28.353045Z",
     "shell.execute_reply": "2024-05-11T20:35:28.351708Z"
    },
    "papermill": {
     "duration": 186.560174,
     "end_time": "2024-05-11T20:35:28.461511",
     "exception": false,
     "start_time": "2024-05-11T20:32:21.901337",
     "status": "completed"
    },
    "tags": []
   },
   "outputs": [
    {
     "data": {
      "text/html": [
       "<style>#sk-container-id-4 {color: black;background-color: white;}#sk-container-id-4 pre{padding: 0;}#sk-container-id-4 div.sk-toggleable {background-color: white;}#sk-container-id-4 label.sk-toggleable__label {cursor: pointer;display: block;width: 100%;margin-bottom: 0;padding: 0.3em;box-sizing: border-box;text-align: center;}#sk-container-id-4 label.sk-toggleable__label-arrow:before {content: \"▸\";float: left;margin-right: 0.25em;color: #696969;}#sk-container-id-4 label.sk-toggleable__label-arrow:hover:before {color: black;}#sk-container-id-4 div.sk-estimator:hover label.sk-toggleable__label-arrow:before {color: black;}#sk-container-id-4 div.sk-toggleable__content {max-height: 0;max-width: 0;overflow: hidden;text-align: left;background-color: #f0f8ff;}#sk-container-id-4 div.sk-toggleable__content pre {margin: 0.2em;color: black;border-radius: 0.25em;background-color: #f0f8ff;}#sk-container-id-4 input.sk-toggleable__control:checked~div.sk-toggleable__content {max-height: 200px;max-width: 100%;overflow: auto;}#sk-container-id-4 input.sk-toggleable__control:checked~label.sk-toggleable__label-arrow:before {content: \"▾\";}#sk-container-id-4 div.sk-estimator input.sk-toggleable__control:checked~label.sk-toggleable__label {background-color: #d4ebff;}#sk-container-id-4 div.sk-label input.sk-toggleable__control:checked~label.sk-toggleable__label {background-color: #d4ebff;}#sk-container-id-4 input.sk-hidden--visually {border: 0;clip: rect(1px 1px 1px 1px);clip: rect(1px, 1px, 1px, 1px);height: 1px;margin: -1px;overflow: hidden;padding: 0;position: absolute;width: 1px;}#sk-container-id-4 div.sk-estimator {font-family: monospace;background-color: #f0f8ff;border: 1px dotted black;border-radius: 0.25em;box-sizing: border-box;margin-bottom: 0.5em;}#sk-container-id-4 div.sk-estimator:hover {background-color: #d4ebff;}#sk-container-id-4 div.sk-parallel-item::after {content: \"\";width: 100%;border-bottom: 1px solid gray;flex-grow: 1;}#sk-container-id-4 div.sk-label:hover label.sk-toggleable__label {background-color: #d4ebff;}#sk-container-id-4 div.sk-serial::before {content: \"\";position: absolute;border-left: 1px solid gray;box-sizing: border-box;top: 0;bottom: 0;left: 50%;z-index: 0;}#sk-container-id-4 div.sk-serial {display: flex;flex-direction: column;align-items: center;background-color: white;padding-right: 0.2em;padding-left: 0.2em;position: relative;}#sk-container-id-4 div.sk-item {position: relative;z-index: 1;}#sk-container-id-4 div.sk-parallel {display: flex;align-items: stretch;justify-content: center;background-color: white;position: relative;}#sk-container-id-4 div.sk-item::before, #sk-container-id-4 div.sk-parallel-item::before {content: \"\";position: absolute;border-left: 1px solid gray;box-sizing: border-box;top: 0;bottom: 0;left: 50%;z-index: -1;}#sk-container-id-4 div.sk-parallel-item {display: flex;flex-direction: column;z-index: 1;position: relative;background-color: white;}#sk-container-id-4 div.sk-parallel-item:first-child::after {align-self: flex-end;width: 50%;}#sk-container-id-4 div.sk-parallel-item:last-child::after {align-self: flex-start;width: 50%;}#sk-container-id-4 div.sk-parallel-item:only-child::after {width: 0;}#sk-container-id-4 div.sk-dashed-wrapped {border: 1px dashed gray;margin: 0 0.4em 0.5em 0.4em;box-sizing: border-box;padding-bottom: 0.4em;background-color: white;}#sk-container-id-4 div.sk-label label {font-family: monospace;font-weight: bold;display: inline-block;line-height: 1.2em;}#sk-container-id-4 div.sk-label-container {text-align: center;}#sk-container-id-4 div.sk-container {/* jupyter's `normalize.less` sets `[hidden] { display: none; }` but bootstrap.min.css set `[hidden] { display: none !important; }` so we also need the `!important` here to be able to override the default hidden behavior on the sphinx rendered scikit-learn.org. See: https://github.com/scikit-learn/scikit-learn/issues/21755 */display: inline-block !important;position: relative;}#sk-container-id-4 div.sk-text-repr-fallback {display: none;}</style><div id=\"sk-container-id-4\" class=\"sk-top-container\"><div class=\"sk-text-repr-fallback\"><pre>Pipeline(steps=[(&#x27;columntransformer&#x27;,\n",
       "                 ColumnTransformer(n_jobs=-1,\n",
       "                                   transformers=[(&#x27;impute&#x27;,\n",
       "                                                  SimpleImputer(strategy=&#x27;most_frequent&#x27;),\n",
       "                                                  [&#x27;Age&#x27;]),\n",
       "                                                 (&#x27;ord_pipeline&#x27;,\n",
       "                                                  Pipeline(steps=[(&#x27;impute&#x27;,\n",
       "                                                                   SimpleImputer(strategy=&#x27;most_frequent&#x27;)),\n",
       "                                                                  (&#x27;ord&#x27;,\n",
       "                                                                   OrdinalEncoder(handle_unknown=&#x27;use_encoded_value&#x27;,\n",
       "                                                                                  unknown_value=-1))]),\n",
       "                                                  [&#x27;FamSize&#x27;]),\n",
       "                                                 (&#x27;ohe_pipeline&#x27;,\n",
       "                                                  Pipeline(steps=[(&#x27;impu...\n",
       "                                                                                 sparse_output=False))]),\n",
       "                                                  [&#x27;Sex&#x27;, &#x27;Embarked&#x27;]),\n",
       "                                                 (&#x27;passthrough&#x27;, &#x27;passthrough&#x27;,\n",
       "                                                  [&#x27;Pclass&#x27;, &#x27;Cabin_Assigned&#x27;,\n",
       "                                                   &#x27;Name_Size&#x27;, &#x27;Age&#x27;, &#x27;Fare&#x27;,\n",
       "                                                   &#x27;Ticket_Num_Counts&#x27;])])),\n",
       "                (&#x27;gridsearchcv&#x27;,\n",
       "                 GridSearchCV(cv=StratifiedKFold(n_splits=5, random_state=None, shuffle=False),\n",
       "                              estimator=SVC(probability=True),\n",
       "                              param_grid={&#x27;C&#x27;: [100, 10, 1.0, 0.1, 0.001,\n",
       "                                                0.001],\n",
       "                                          &#x27;kernel&#x27;: [&#x27;linear&#x27;, &#x27;poly&#x27;, &#x27;rbf&#x27;,\n",
       "                                                     &#x27;sigmoid&#x27;]}))])</pre><b>In a Jupyter environment, please rerun this cell to show the HTML representation or trust the notebook. <br />On GitHub, the HTML representation is unable to render, please try loading this page with nbviewer.org.</b></div><div class=\"sk-container\" hidden><div class=\"sk-item sk-dashed-wrapped\"><div class=\"sk-label-container\"><div class=\"sk-label sk-toggleable\"><input class=\"sk-toggleable__control sk-hidden--visually\" id=\"sk-estimator-id-46\" type=\"checkbox\" ><label for=\"sk-estimator-id-46\" class=\"sk-toggleable__label sk-toggleable__label-arrow\">Pipeline</label><div class=\"sk-toggleable__content\"><pre>Pipeline(steps=[(&#x27;columntransformer&#x27;,\n",
       "                 ColumnTransformer(n_jobs=-1,\n",
       "                                   transformers=[(&#x27;impute&#x27;,\n",
       "                                                  SimpleImputer(strategy=&#x27;most_frequent&#x27;),\n",
       "                                                  [&#x27;Age&#x27;]),\n",
       "                                                 (&#x27;ord_pipeline&#x27;,\n",
       "                                                  Pipeline(steps=[(&#x27;impute&#x27;,\n",
       "                                                                   SimpleImputer(strategy=&#x27;most_frequent&#x27;)),\n",
       "                                                                  (&#x27;ord&#x27;,\n",
       "                                                                   OrdinalEncoder(handle_unknown=&#x27;use_encoded_value&#x27;,\n",
       "                                                                                  unknown_value=-1))]),\n",
       "                                                  [&#x27;FamSize&#x27;]),\n",
       "                                                 (&#x27;ohe_pipeline&#x27;,\n",
       "                                                  Pipeline(steps=[(&#x27;impu...\n",
       "                                                                                 sparse_output=False))]),\n",
       "                                                  [&#x27;Sex&#x27;, &#x27;Embarked&#x27;]),\n",
       "                                                 (&#x27;passthrough&#x27;, &#x27;passthrough&#x27;,\n",
       "                                                  [&#x27;Pclass&#x27;, &#x27;Cabin_Assigned&#x27;,\n",
       "                                                   &#x27;Name_Size&#x27;, &#x27;Age&#x27;, &#x27;Fare&#x27;,\n",
       "                                                   &#x27;Ticket_Num_Counts&#x27;])])),\n",
       "                (&#x27;gridsearchcv&#x27;,\n",
       "                 GridSearchCV(cv=StratifiedKFold(n_splits=5, random_state=None, shuffle=False),\n",
       "                              estimator=SVC(probability=True),\n",
       "                              param_grid={&#x27;C&#x27;: [100, 10, 1.0, 0.1, 0.001,\n",
       "                                                0.001],\n",
       "                                          &#x27;kernel&#x27;: [&#x27;linear&#x27;, &#x27;poly&#x27;, &#x27;rbf&#x27;,\n",
       "                                                     &#x27;sigmoid&#x27;]}))])</pre></div></div></div><div class=\"sk-serial\"><div class=\"sk-item sk-dashed-wrapped\"><div class=\"sk-label-container\"><div class=\"sk-label sk-toggleable\"><input class=\"sk-toggleable__control sk-hidden--visually\" id=\"sk-estimator-id-47\" type=\"checkbox\" ><label for=\"sk-estimator-id-47\" class=\"sk-toggleable__label sk-toggleable__label-arrow\">columntransformer: ColumnTransformer</label><div class=\"sk-toggleable__content\"><pre>ColumnTransformer(n_jobs=-1,\n",
       "                  transformers=[(&#x27;impute&#x27;,\n",
       "                                 SimpleImputer(strategy=&#x27;most_frequent&#x27;),\n",
       "                                 [&#x27;Age&#x27;]),\n",
       "                                (&#x27;ord_pipeline&#x27;,\n",
       "                                 Pipeline(steps=[(&#x27;impute&#x27;,\n",
       "                                                  SimpleImputer(strategy=&#x27;most_frequent&#x27;)),\n",
       "                                                 (&#x27;ord&#x27;,\n",
       "                                                  OrdinalEncoder(handle_unknown=&#x27;use_encoded_value&#x27;,\n",
       "                                                                 unknown_value=-1))]),\n",
       "                                 [&#x27;FamSize&#x27;]),\n",
       "                                (&#x27;ohe_pipeline&#x27;,\n",
       "                                 Pipeline(steps=[(&#x27;impute&#x27;,\n",
       "                                                  SimpleImputer(strategy=&#x27;most_frequent&#x27;)),\n",
       "                                                 (&#x27;one-hot&#x27;,\n",
       "                                                  OneHotEncoder(handle_unknown=&#x27;ignore&#x27;,\n",
       "                                                                sparse_output=False))]),\n",
       "                                 [&#x27;Sex&#x27;, &#x27;Embarked&#x27;]),\n",
       "                                (&#x27;passthrough&#x27;, &#x27;passthrough&#x27;,\n",
       "                                 [&#x27;Pclass&#x27;, &#x27;Cabin_Assigned&#x27;, &#x27;Name_Size&#x27;,\n",
       "                                  &#x27;Age&#x27;, &#x27;Fare&#x27;, &#x27;Ticket_Num_Counts&#x27;])])</pre></div></div></div><div class=\"sk-parallel\"><div class=\"sk-parallel-item\"><div class=\"sk-item\"><div class=\"sk-label-container\"><div class=\"sk-label sk-toggleable\"><input class=\"sk-toggleable__control sk-hidden--visually\" id=\"sk-estimator-id-48\" type=\"checkbox\" ><label for=\"sk-estimator-id-48\" class=\"sk-toggleable__label sk-toggleable__label-arrow\">impute</label><div class=\"sk-toggleable__content\"><pre>[&#x27;Age&#x27;]</pre></div></div></div><div class=\"sk-serial\"><div class=\"sk-item\"><div class=\"sk-estimator sk-toggleable\"><input class=\"sk-toggleable__control sk-hidden--visually\" id=\"sk-estimator-id-49\" type=\"checkbox\" ><label for=\"sk-estimator-id-49\" class=\"sk-toggleable__label sk-toggleable__label-arrow\">SimpleImputer</label><div class=\"sk-toggleable__content\"><pre>SimpleImputer(strategy=&#x27;most_frequent&#x27;)</pre></div></div></div></div></div></div><div class=\"sk-parallel-item\"><div class=\"sk-item\"><div class=\"sk-label-container\"><div class=\"sk-label sk-toggleable\"><input class=\"sk-toggleable__control sk-hidden--visually\" id=\"sk-estimator-id-50\" type=\"checkbox\" ><label for=\"sk-estimator-id-50\" class=\"sk-toggleable__label sk-toggleable__label-arrow\">ord_pipeline</label><div class=\"sk-toggleable__content\"><pre>[&#x27;FamSize&#x27;]</pre></div></div></div><div class=\"sk-serial\"><div class=\"sk-item\"><div class=\"sk-serial\"><div class=\"sk-item\"><div class=\"sk-estimator sk-toggleable\"><input class=\"sk-toggleable__control sk-hidden--visually\" id=\"sk-estimator-id-51\" type=\"checkbox\" ><label for=\"sk-estimator-id-51\" class=\"sk-toggleable__label sk-toggleable__label-arrow\">SimpleImputer</label><div class=\"sk-toggleable__content\"><pre>SimpleImputer(strategy=&#x27;most_frequent&#x27;)</pre></div></div></div><div class=\"sk-item\"><div class=\"sk-estimator sk-toggleable\"><input class=\"sk-toggleable__control sk-hidden--visually\" id=\"sk-estimator-id-52\" type=\"checkbox\" ><label for=\"sk-estimator-id-52\" class=\"sk-toggleable__label sk-toggleable__label-arrow\">OrdinalEncoder</label><div class=\"sk-toggleable__content\"><pre>OrdinalEncoder(handle_unknown=&#x27;use_encoded_value&#x27;, unknown_value=-1)</pre></div></div></div></div></div></div></div></div><div class=\"sk-parallel-item\"><div class=\"sk-item\"><div class=\"sk-label-container\"><div class=\"sk-label sk-toggleable\"><input class=\"sk-toggleable__control sk-hidden--visually\" id=\"sk-estimator-id-53\" type=\"checkbox\" ><label for=\"sk-estimator-id-53\" class=\"sk-toggleable__label sk-toggleable__label-arrow\">ohe_pipeline</label><div class=\"sk-toggleable__content\"><pre>[&#x27;Sex&#x27;, &#x27;Embarked&#x27;]</pre></div></div></div><div class=\"sk-serial\"><div class=\"sk-item\"><div class=\"sk-serial\"><div class=\"sk-item\"><div class=\"sk-estimator sk-toggleable\"><input class=\"sk-toggleable__control sk-hidden--visually\" id=\"sk-estimator-id-54\" type=\"checkbox\" ><label for=\"sk-estimator-id-54\" class=\"sk-toggleable__label sk-toggleable__label-arrow\">SimpleImputer</label><div class=\"sk-toggleable__content\"><pre>SimpleImputer(strategy=&#x27;most_frequent&#x27;)</pre></div></div></div><div class=\"sk-item\"><div class=\"sk-estimator sk-toggleable\"><input class=\"sk-toggleable__control sk-hidden--visually\" id=\"sk-estimator-id-55\" type=\"checkbox\" ><label for=\"sk-estimator-id-55\" class=\"sk-toggleable__label sk-toggleable__label-arrow\">OneHotEncoder</label><div class=\"sk-toggleable__content\"><pre>OneHotEncoder(handle_unknown=&#x27;ignore&#x27;, sparse_output=False)</pre></div></div></div></div></div></div></div></div><div class=\"sk-parallel-item\"><div class=\"sk-item\"><div class=\"sk-label-container\"><div class=\"sk-label sk-toggleable\"><input class=\"sk-toggleable__control sk-hidden--visually\" id=\"sk-estimator-id-56\" type=\"checkbox\" ><label for=\"sk-estimator-id-56\" class=\"sk-toggleable__label sk-toggleable__label-arrow\">passthrough</label><div class=\"sk-toggleable__content\"><pre>[&#x27;Pclass&#x27;, &#x27;Cabin_Assigned&#x27;, &#x27;Name_Size&#x27;, &#x27;Age&#x27;, &#x27;Fare&#x27;, &#x27;Ticket_Num_Counts&#x27;]</pre></div></div></div><div class=\"sk-serial\"><div class=\"sk-item\"><div class=\"sk-estimator sk-toggleable\"><input class=\"sk-toggleable__control sk-hidden--visually\" id=\"sk-estimator-id-57\" type=\"checkbox\" ><label for=\"sk-estimator-id-57\" class=\"sk-toggleable__label sk-toggleable__label-arrow\">passthrough</label><div class=\"sk-toggleable__content\"><pre>passthrough</pre></div></div></div></div></div></div></div></div><div class=\"sk-item sk-dashed-wrapped\"><div class=\"sk-label-container\"><div class=\"sk-label sk-toggleable\"><input class=\"sk-toggleable__control sk-hidden--visually\" id=\"sk-estimator-id-58\" type=\"checkbox\" ><label for=\"sk-estimator-id-58\" class=\"sk-toggleable__label sk-toggleable__label-arrow\">gridsearchcv: GridSearchCV</label><div class=\"sk-toggleable__content\"><pre>GridSearchCV(cv=StratifiedKFold(n_splits=5, random_state=None, shuffle=False),\n",
       "             estimator=SVC(probability=True),\n",
       "             param_grid={&#x27;C&#x27;: [100, 10, 1.0, 0.1, 0.001, 0.001],\n",
       "                         &#x27;kernel&#x27;: [&#x27;linear&#x27;, &#x27;poly&#x27;, &#x27;rbf&#x27;, &#x27;sigmoid&#x27;]})</pre></div></div></div><div class=\"sk-parallel\"><div class=\"sk-parallel-item\"><div class=\"sk-item\"><div class=\"sk-label-container\"><div class=\"sk-label sk-toggleable\"><input class=\"sk-toggleable__control sk-hidden--visually\" id=\"sk-estimator-id-59\" type=\"checkbox\" ><label for=\"sk-estimator-id-59\" class=\"sk-toggleable__label sk-toggleable__label-arrow\">estimator: SVC</label><div class=\"sk-toggleable__content\"><pre>SVC(probability=True)</pre></div></div></div><div class=\"sk-serial\"><div class=\"sk-item\"><div class=\"sk-estimator sk-toggleable\"><input class=\"sk-toggleable__control sk-hidden--visually\" id=\"sk-estimator-id-60\" type=\"checkbox\" ><label for=\"sk-estimator-id-60\" class=\"sk-toggleable__label sk-toggleable__label-arrow\">SVC</label><div class=\"sk-toggleable__content\"><pre>SVC(probability=True)</pre></div></div></div></div></div></div></div></div></div></div></div></div>"
      ],
      "text/plain": [
       "Pipeline(steps=[('columntransformer',\n",
       "                 ColumnTransformer(n_jobs=-1,\n",
       "                                   transformers=[('impute',\n",
       "                                                  SimpleImputer(strategy='most_frequent'),\n",
       "                                                  ['Age']),\n",
       "                                                 ('ord_pipeline',\n",
       "                                                  Pipeline(steps=[('impute',\n",
       "                                                                   SimpleImputer(strategy='most_frequent')),\n",
       "                                                                  ('ord',\n",
       "                                                                   OrdinalEncoder(handle_unknown='use_encoded_value',\n",
       "                                                                                  unknown_value=-1))]),\n",
       "                                                  ['FamSize']),\n",
       "                                                 ('ohe_pipeline',\n",
       "                                                  Pipeline(steps=[('impu...\n",
       "                                                                                 sparse_output=False))]),\n",
       "                                                  ['Sex', 'Embarked']),\n",
       "                                                 ('passthrough', 'passthrough',\n",
       "                                                  ['Pclass', 'Cabin_Assigned',\n",
       "                                                   'Name_Size', 'Age', 'Fare',\n",
       "                                                   'Ticket_Num_Counts'])])),\n",
       "                ('gridsearchcv',\n",
       "                 GridSearchCV(cv=StratifiedKFold(n_splits=5, random_state=None, shuffle=False),\n",
       "                              estimator=SVC(probability=True),\n",
       "                              param_grid={'C': [100, 10, 1.0, 0.1, 0.001,\n",
       "                                                0.001],\n",
       "                                          'kernel': ['linear', 'poly', 'rbf',\n",
       "                                                     'sigmoid']}))])"
      ]
     },
     "execution_count": 78,
     "metadata": {},
     "output_type": "execute_result"
    }
   ],
   "source": [
    "pipefinalsvc = make_pipeline(col_trans, CV_svc)\n",
    "pipefinalsvc.fit(X_train, y_train)"
   ]
  },
  {
   "cell_type": "code",
   "execution_count": 79,
   "id": "14d077e3",
   "metadata": {
    "execution": {
     "iopub.execute_input": "2024-05-11T20:35:28.545590Z",
     "iopub.status.busy": "2024-05-11T20:35:28.544826Z",
     "iopub.status.idle": "2024-05-11T20:35:28.550154Z",
     "shell.execute_reply": "2024-05-11T20:35:28.549308Z"
    },
    "papermill": {
     "duration": 0.05837,
     "end_time": "2024-05-11T20:35:28.554072",
     "exception": false,
     "start_time": "2024-05-11T20:35:28.495702",
     "status": "completed"
    },
    "tags": []
   },
   "outputs": [
    {
     "name": "stdout",
     "output_type": "stream",
     "text": [
      "{'C': 100, 'kernel': 'rbf'}\n",
      "0.7948980596867921\n"
     ]
    }
   ],
   "source": [
    "print(CV_svc.best_params_)\n",
    "print(CV_svc.best_score_)"
   ]
  },
  {
   "cell_type": "markdown",
   "id": "0b76d183",
   "metadata": {
    "papermill": {
     "duration": 0.034227,
     "end_time": "2024-05-11T20:35:28.631854",
     "exception": false,
     "start_time": "2024-05-11T20:35:28.597627",
     "status": "completed"
    },
    "tags": []
   },
   "source": [
    "Logistic Regression"
   ]
  },
  {
   "cell_type": "code",
   "execution_count": 80,
   "id": "fefb21c3",
   "metadata": {
    "execution": {
     "iopub.execute_input": "2024-05-11T20:35:28.704261Z",
     "iopub.status.busy": "2024-05-11T20:35:28.703680Z",
     "iopub.status.idle": "2024-05-11T20:35:28.708719Z",
     "shell.execute_reply": "2024-05-11T20:35:28.707607Z"
    },
    "papermill": {
     "duration": 0.043933,
     "end_time": "2024-05-11T20:35:28.711298",
     "exception": false,
     "start_time": "2024-05-11T20:35:28.667365",
     "status": "completed"
    },
    "tags": []
   },
   "outputs": [],
   "source": [
    "lr = LogisticRegression()"
   ]
  },
  {
   "cell_type": "code",
   "execution_count": 81,
   "id": "d5ccf3fd",
   "metadata": {
    "execution": {
     "iopub.execute_input": "2024-05-11T20:35:28.781716Z",
     "iopub.status.busy": "2024-05-11T20:35:28.781309Z",
     "iopub.status.idle": "2024-05-11T20:35:28.786441Z",
     "shell.execute_reply": "2024-05-11T20:35:28.785521Z"
    },
    "papermill": {
     "duration": 0.042467,
     "end_time": "2024-05-11T20:35:28.788604",
     "exception": false,
     "start_time": "2024-05-11T20:35:28.746137",
     "status": "completed"
    },
    "tags": []
   },
   "outputs": [],
   "source": [
    "param_grid = {\n",
    "    'C': [100,10, 1.0, 0.1, 0.001, 0.001],\n",
    "}"
   ]
  },
  {
   "cell_type": "code",
   "execution_count": 82,
   "id": "569962c4",
   "metadata": {
    "execution": {
     "iopub.execute_input": "2024-05-11T20:35:28.859860Z",
     "iopub.status.busy": "2024-05-11T20:35:28.858909Z",
     "iopub.status.idle": "2024-05-11T20:35:28.864053Z",
     "shell.execute_reply": "2024-05-11T20:35:28.863003Z"
    },
    "papermill": {
     "duration": 0.042388,
     "end_time": "2024-05-11T20:35:28.866113",
     "exception": false,
     "start_time": "2024-05-11T20:35:28.823725",
     "status": "completed"
    },
    "tags": []
   },
   "outputs": [],
   "source": [
    "CV_lr = GridSearchCV(estimator=lr, param_grid=param_grid, cv=StratifiedKFold(n_splits=5))"
   ]
  },
  {
   "cell_type": "code",
   "execution_count": 83,
   "id": "448205ca",
   "metadata": {
    "execution": {
     "iopub.execute_input": "2024-05-11T20:35:28.935871Z",
     "iopub.status.busy": "2024-05-11T20:35:28.935193Z",
     "iopub.status.idle": "2024-05-11T20:35:29.436675Z",
     "shell.execute_reply": "2024-05-11T20:35:29.435388Z"
    },
    "papermill": {
     "duration": 0.538857,
     "end_time": "2024-05-11T20:35:29.438924",
     "exception": false,
     "start_time": "2024-05-11T20:35:28.900067",
     "status": "completed"
    },
    "tags": []
   },
   "outputs": [
    {
     "data": {
      "text/html": [
       "<style>#sk-container-id-5 {color: black;background-color: white;}#sk-container-id-5 pre{padding: 0;}#sk-container-id-5 div.sk-toggleable {background-color: white;}#sk-container-id-5 label.sk-toggleable__label {cursor: pointer;display: block;width: 100%;margin-bottom: 0;padding: 0.3em;box-sizing: border-box;text-align: center;}#sk-container-id-5 label.sk-toggleable__label-arrow:before {content: \"▸\";float: left;margin-right: 0.25em;color: #696969;}#sk-container-id-5 label.sk-toggleable__label-arrow:hover:before {color: black;}#sk-container-id-5 div.sk-estimator:hover label.sk-toggleable__label-arrow:before {color: black;}#sk-container-id-5 div.sk-toggleable__content {max-height: 0;max-width: 0;overflow: hidden;text-align: left;background-color: #f0f8ff;}#sk-container-id-5 div.sk-toggleable__content pre {margin: 0.2em;color: black;border-radius: 0.25em;background-color: #f0f8ff;}#sk-container-id-5 input.sk-toggleable__control:checked~div.sk-toggleable__content {max-height: 200px;max-width: 100%;overflow: auto;}#sk-container-id-5 input.sk-toggleable__control:checked~label.sk-toggleable__label-arrow:before {content: \"▾\";}#sk-container-id-5 div.sk-estimator input.sk-toggleable__control:checked~label.sk-toggleable__label {background-color: #d4ebff;}#sk-container-id-5 div.sk-label input.sk-toggleable__control:checked~label.sk-toggleable__label {background-color: #d4ebff;}#sk-container-id-5 input.sk-hidden--visually {border: 0;clip: rect(1px 1px 1px 1px);clip: rect(1px, 1px, 1px, 1px);height: 1px;margin: -1px;overflow: hidden;padding: 0;position: absolute;width: 1px;}#sk-container-id-5 div.sk-estimator {font-family: monospace;background-color: #f0f8ff;border: 1px dotted black;border-radius: 0.25em;box-sizing: border-box;margin-bottom: 0.5em;}#sk-container-id-5 div.sk-estimator:hover {background-color: #d4ebff;}#sk-container-id-5 div.sk-parallel-item::after {content: \"\";width: 100%;border-bottom: 1px solid gray;flex-grow: 1;}#sk-container-id-5 div.sk-label:hover label.sk-toggleable__label {background-color: #d4ebff;}#sk-container-id-5 div.sk-serial::before {content: \"\";position: absolute;border-left: 1px solid gray;box-sizing: border-box;top: 0;bottom: 0;left: 50%;z-index: 0;}#sk-container-id-5 div.sk-serial {display: flex;flex-direction: column;align-items: center;background-color: white;padding-right: 0.2em;padding-left: 0.2em;position: relative;}#sk-container-id-5 div.sk-item {position: relative;z-index: 1;}#sk-container-id-5 div.sk-parallel {display: flex;align-items: stretch;justify-content: center;background-color: white;position: relative;}#sk-container-id-5 div.sk-item::before, #sk-container-id-5 div.sk-parallel-item::before {content: \"\";position: absolute;border-left: 1px solid gray;box-sizing: border-box;top: 0;bottom: 0;left: 50%;z-index: -1;}#sk-container-id-5 div.sk-parallel-item {display: flex;flex-direction: column;z-index: 1;position: relative;background-color: white;}#sk-container-id-5 div.sk-parallel-item:first-child::after {align-self: flex-end;width: 50%;}#sk-container-id-5 div.sk-parallel-item:last-child::after {align-self: flex-start;width: 50%;}#sk-container-id-5 div.sk-parallel-item:only-child::after {width: 0;}#sk-container-id-5 div.sk-dashed-wrapped {border: 1px dashed gray;margin: 0 0.4em 0.5em 0.4em;box-sizing: border-box;padding-bottom: 0.4em;background-color: white;}#sk-container-id-5 div.sk-label label {font-family: monospace;font-weight: bold;display: inline-block;line-height: 1.2em;}#sk-container-id-5 div.sk-label-container {text-align: center;}#sk-container-id-5 div.sk-container {/* jupyter's `normalize.less` sets `[hidden] { display: none; }` but bootstrap.min.css set `[hidden] { display: none !important; }` so we also need the `!important` here to be able to override the default hidden behavior on the sphinx rendered scikit-learn.org. See: https://github.com/scikit-learn/scikit-learn/issues/21755 */display: inline-block !important;position: relative;}#sk-container-id-5 div.sk-text-repr-fallback {display: none;}</style><div id=\"sk-container-id-5\" class=\"sk-top-container\"><div class=\"sk-text-repr-fallback\"><pre>Pipeline(steps=[(&#x27;columntransformer&#x27;,\n",
       "                 ColumnTransformer(n_jobs=-1,\n",
       "                                   transformers=[(&#x27;impute&#x27;,\n",
       "                                                  SimpleImputer(strategy=&#x27;most_frequent&#x27;),\n",
       "                                                  [&#x27;Age&#x27;]),\n",
       "                                                 (&#x27;ord_pipeline&#x27;,\n",
       "                                                  Pipeline(steps=[(&#x27;impute&#x27;,\n",
       "                                                                   SimpleImputer(strategy=&#x27;most_frequent&#x27;)),\n",
       "                                                                  (&#x27;ord&#x27;,\n",
       "                                                                   OrdinalEncoder(handle_unknown=&#x27;use_encoded_value&#x27;,\n",
       "                                                                                  unknown_value=-1))]),\n",
       "                                                  [&#x27;FamSize&#x27;]),\n",
       "                                                 (&#x27;ohe_pipeline&#x27;,\n",
       "                                                  Pipeline(steps=[(&#x27;impu...\n",
       "                                                                   OneHotEncoder(handle_unknown=&#x27;ignore&#x27;,\n",
       "                                                                                 sparse_output=False))]),\n",
       "                                                  [&#x27;Sex&#x27;, &#x27;Embarked&#x27;]),\n",
       "                                                 (&#x27;passthrough&#x27;, &#x27;passthrough&#x27;,\n",
       "                                                  [&#x27;Pclass&#x27;, &#x27;Cabin_Assigned&#x27;,\n",
       "                                                   &#x27;Name_Size&#x27;, &#x27;Age&#x27;, &#x27;Fare&#x27;,\n",
       "                                                   &#x27;Ticket_Num_Counts&#x27;])])),\n",
       "                (&#x27;gridsearchcv&#x27;,\n",
       "                 GridSearchCV(cv=StratifiedKFold(n_splits=5, random_state=None, shuffle=False),\n",
       "                              estimator=LogisticRegression(),\n",
       "                              param_grid={&#x27;C&#x27;: [100, 10, 1.0, 0.1, 0.001,\n",
       "                                                0.001]}))])</pre><b>In a Jupyter environment, please rerun this cell to show the HTML representation or trust the notebook. <br />On GitHub, the HTML representation is unable to render, please try loading this page with nbviewer.org.</b></div><div class=\"sk-container\" hidden><div class=\"sk-item sk-dashed-wrapped\"><div class=\"sk-label-container\"><div class=\"sk-label sk-toggleable\"><input class=\"sk-toggleable__control sk-hidden--visually\" id=\"sk-estimator-id-61\" type=\"checkbox\" ><label for=\"sk-estimator-id-61\" class=\"sk-toggleable__label sk-toggleable__label-arrow\">Pipeline</label><div class=\"sk-toggleable__content\"><pre>Pipeline(steps=[(&#x27;columntransformer&#x27;,\n",
       "                 ColumnTransformer(n_jobs=-1,\n",
       "                                   transformers=[(&#x27;impute&#x27;,\n",
       "                                                  SimpleImputer(strategy=&#x27;most_frequent&#x27;),\n",
       "                                                  [&#x27;Age&#x27;]),\n",
       "                                                 (&#x27;ord_pipeline&#x27;,\n",
       "                                                  Pipeline(steps=[(&#x27;impute&#x27;,\n",
       "                                                                   SimpleImputer(strategy=&#x27;most_frequent&#x27;)),\n",
       "                                                                  (&#x27;ord&#x27;,\n",
       "                                                                   OrdinalEncoder(handle_unknown=&#x27;use_encoded_value&#x27;,\n",
       "                                                                                  unknown_value=-1))]),\n",
       "                                                  [&#x27;FamSize&#x27;]),\n",
       "                                                 (&#x27;ohe_pipeline&#x27;,\n",
       "                                                  Pipeline(steps=[(&#x27;impu...\n",
       "                                                                   OneHotEncoder(handle_unknown=&#x27;ignore&#x27;,\n",
       "                                                                                 sparse_output=False))]),\n",
       "                                                  [&#x27;Sex&#x27;, &#x27;Embarked&#x27;]),\n",
       "                                                 (&#x27;passthrough&#x27;, &#x27;passthrough&#x27;,\n",
       "                                                  [&#x27;Pclass&#x27;, &#x27;Cabin_Assigned&#x27;,\n",
       "                                                   &#x27;Name_Size&#x27;, &#x27;Age&#x27;, &#x27;Fare&#x27;,\n",
       "                                                   &#x27;Ticket_Num_Counts&#x27;])])),\n",
       "                (&#x27;gridsearchcv&#x27;,\n",
       "                 GridSearchCV(cv=StratifiedKFold(n_splits=5, random_state=None, shuffle=False),\n",
       "                              estimator=LogisticRegression(),\n",
       "                              param_grid={&#x27;C&#x27;: [100, 10, 1.0, 0.1, 0.001,\n",
       "                                                0.001]}))])</pre></div></div></div><div class=\"sk-serial\"><div class=\"sk-item sk-dashed-wrapped\"><div class=\"sk-label-container\"><div class=\"sk-label sk-toggleable\"><input class=\"sk-toggleable__control sk-hidden--visually\" id=\"sk-estimator-id-62\" type=\"checkbox\" ><label for=\"sk-estimator-id-62\" class=\"sk-toggleable__label sk-toggleable__label-arrow\">columntransformer: ColumnTransformer</label><div class=\"sk-toggleable__content\"><pre>ColumnTransformer(n_jobs=-1,\n",
       "                  transformers=[(&#x27;impute&#x27;,\n",
       "                                 SimpleImputer(strategy=&#x27;most_frequent&#x27;),\n",
       "                                 [&#x27;Age&#x27;]),\n",
       "                                (&#x27;ord_pipeline&#x27;,\n",
       "                                 Pipeline(steps=[(&#x27;impute&#x27;,\n",
       "                                                  SimpleImputer(strategy=&#x27;most_frequent&#x27;)),\n",
       "                                                 (&#x27;ord&#x27;,\n",
       "                                                  OrdinalEncoder(handle_unknown=&#x27;use_encoded_value&#x27;,\n",
       "                                                                 unknown_value=-1))]),\n",
       "                                 [&#x27;FamSize&#x27;]),\n",
       "                                (&#x27;ohe_pipeline&#x27;,\n",
       "                                 Pipeline(steps=[(&#x27;impute&#x27;,\n",
       "                                                  SimpleImputer(strategy=&#x27;most_frequent&#x27;)),\n",
       "                                                 (&#x27;one-hot&#x27;,\n",
       "                                                  OneHotEncoder(handle_unknown=&#x27;ignore&#x27;,\n",
       "                                                                sparse_output=False))]),\n",
       "                                 [&#x27;Sex&#x27;, &#x27;Embarked&#x27;]),\n",
       "                                (&#x27;passthrough&#x27;, &#x27;passthrough&#x27;,\n",
       "                                 [&#x27;Pclass&#x27;, &#x27;Cabin_Assigned&#x27;, &#x27;Name_Size&#x27;,\n",
       "                                  &#x27;Age&#x27;, &#x27;Fare&#x27;, &#x27;Ticket_Num_Counts&#x27;])])</pre></div></div></div><div class=\"sk-parallel\"><div class=\"sk-parallel-item\"><div class=\"sk-item\"><div class=\"sk-label-container\"><div class=\"sk-label sk-toggleable\"><input class=\"sk-toggleable__control sk-hidden--visually\" id=\"sk-estimator-id-63\" type=\"checkbox\" ><label for=\"sk-estimator-id-63\" class=\"sk-toggleable__label sk-toggleable__label-arrow\">impute</label><div class=\"sk-toggleable__content\"><pre>[&#x27;Age&#x27;]</pre></div></div></div><div class=\"sk-serial\"><div class=\"sk-item\"><div class=\"sk-estimator sk-toggleable\"><input class=\"sk-toggleable__control sk-hidden--visually\" id=\"sk-estimator-id-64\" type=\"checkbox\" ><label for=\"sk-estimator-id-64\" class=\"sk-toggleable__label sk-toggleable__label-arrow\">SimpleImputer</label><div class=\"sk-toggleable__content\"><pre>SimpleImputer(strategy=&#x27;most_frequent&#x27;)</pre></div></div></div></div></div></div><div class=\"sk-parallel-item\"><div class=\"sk-item\"><div class=\"sk-label-container\"><div class=\"sk-label sk-toggleable\"><input class=\"sk-toggleable__control sk-hidden--visually\" id=\"sk-estimator-id-65\" type=\"checkbox\" ><label for=\"sk-estimator-id-65\" class=\"sk-toggleable__label sk-toggleable__label-arrow\">ord_pipeline</label><div class=\"sk-toggleable__content\"><pre>[&#x27;FamSize&#x27;]</pre></div></div></div><div class=\"sk-serial\"><div class=\"sk-item\"><div class=\"sk-serial\"><div class=\"sk-item\"><div class=\"sk-estimator sk-toggleable\"><input class=\"sk-toggleable__control sk-hidden--visually\" id=\"sk-estimator-id-66\" type=\"checkbox\" ><label for=\"sk-estimator-id-66\" class=\"sk-toggleable__label sk-toggleable__label-arrow\">SimpleImputer</label><div class=\"sk-toggleable__content\"><pre>SimpleImputer(strategy=&#x27;most_frequent&#x27;)</pre></div></div></div><div class=\"sk-item\"><div class=\"sk-estimator sk-toggleable\"><input class=\"sk-toggleable__control sk-hidden--visually\" id=\"sk-estimator-id-67\" type=\"checkbox\" ><label for=\"sk-estimator-id-67\" class=\"sk-toggleable__label sk-toggleable__label-arrow\">OrdinalEncoder</label><div class=\"sk-toggleable__content\"><pre>OrdinalEncoder(handle_unknown=&#x27;use_encoded_value&#x27;, unknown_value=-1)</pre></div></div></div></div></div></div></div></div><div class=\"sk-parallel-item\"><div class=\"sk-item\"><div class=\"sk-label-container\"><div class=\"sk-label sk-toggleable\"><input class=\"sk-toggleable__control sk-hidden--visually\" id=\"sk-estimator-id-68\" type=\"checkbox\" ><label for=\"sk-estimator-id-68\" class=\"sk-toggleable__label sk-toggleable__label-arrow\">ohe_pipeline</label><div class=\"sk-toggleable__content\"><pre>[&#x27;Sex&#x27;, &#x27;Embarked&#x27;]</pre></div></div></div><div class=\"sk-serial\"><div class=\"sk-item\"><div class=\"sk-serial\"><div class=\"sk-item\"><div class=\"sk-estimator sk-toggleable\"><input class=\"sk-toggleable__control sk-hidden--visually\" id=\"sk-estimator-id-69\" type=\"checkbox\" ><label for=\"sk-estimator-id-69\" class=\"sk-toggleable__label sk-toggleable__label-arrow\">SimpleImputer</label><div class=\"sk-toggleable__content\"><pre>SimpleImputer(strategy=&#x27;most_frequent&#x27;)</pre></div></div></div><div class=\"sk-item\"><div class=\"sk-estimator sk-toggleable\"><input class=\"sk-toggleable__control sk-hidden--visually\" id=\"sk-estimator-id-70\" type=\"checkbox\" ><label for=\"sk-estimator-id-70\" class=\"sk-toggleable__label sk-toggleable__label-arrow\">OneHotEncoder</label><div class=\"sk-toggleable__content\"><pre>OneHotEncoder(handle_unknown=&#x27;ignore&#x27;, sparse_output=False)</pre></div></div></div></div></div></div></div></div><div class=\"sk-parallel-item\"><div class=\"sk-item\"><div class=\"sk-label-container\"><div class=\"sk-label sk-toggleable\"><input class=\"sk-toggleable__control sk-hidden--visually\" id=\"sk-estimator-id-71\" type=\"checkbox\" ><label for=\"sk-estimator-id-71\" class=\"sk-toggleable__label sk-toggleable__label-arrow\">passthrough</label><div class=\"sk-toggleable__content\"><pre>[&#x27;Pclass&#x27;, &#x27;Cabin_Assigned&#x27;, &#x27;Name_Size&#x27;, &#x27;Age&#x27;, &#x27;Fare&#x27;, &#x27;Ticket_Num_Counts&#x27;]</pre></div></div></div><div class=\"sk-serial\"><div class=\"sk-item\"><div class=\"sk-estimator sk-toggleable\"><input class=\"sk-toggleable__control sk-hidden--visually\" id=\"sk-estimator-id-72\" type=\"checkbox\" ><label for=\"sk-estimator-id-72\" class=\"sk-toggleable__label sk-toggleable__label-arrow\">passthrough</label><div class=\"sk-toggleable__content\"><pre>passthrough</pre></div></div></div></div></div></div></div></div><div class=\"sk-item sk-dashed-wrapped\"><div class=\"sk-label-container\"><div class=\"sk-label sk-toggleable\"><input class=\"sk-toggleable__control sk-hidden--visually\" id=\"sk-estimator-id-73\" type=\"checkbox\" ><label for=\"sk-estimator-id-73\" class=\"sk-toggleable__label sk-toggleable__label-arrow\">gridsearchcv: GridSearchCV</label><div class=\"sk-toggleable__content\"><pre>GridSearchCV(cv=StratifiedKFold(n_splits=5, random_state=None, shuffle=False),\n",
       "             estimator=LogisticRegression(),\n",
       "             param_grid={&#x27;C&#x27;: [100, 10, 1.0, 0.1, 0.001, 0.001]})</pre></div></div></div><div class=\"sk-parallel\"><div class=\"sk-parallel-item\"><div class=\"sk-item\"><div class=\"sk-label-container\"><div class=\"sk-label sk-toggleable\"><input class=\"sk-toggleable__control sk-hidden--visually\" id=\"sk-estimator-id-74\" type=\"checkbox\" ><label for=\"sk-estimator-id-74\" class=\"sk-toggleable__label sk-toggleable__label-arrow\">estimator: LogisticRegression</label><div class=\"sk-toggleable__content\"><pre>LogisticRegression()</pre></div></div></div><div class=\"sk-serial\"><div class=\"sk-item\"><div class=\"sk-estimator sk-toggleable\"><input class=\"sk-toggleable__control sk-hidden--visually\" id=\"sk-estimator-id-75\" type=\"checkbox\" ><label for=\"sk-estimator-id-75\" class=\"sk-toggleable__label sk-toggleable__label-arrow\">LogisticRegression</label><div class=\"sk-toggleable__content\"><pre>LogisticRegression()</pre></div></div></div></div></div></div></div></div></div></div></div></div>"
      ],
      "text/plain": [
       "Pipeline(steps=[('columntransformer',\n",
       "                 ColumnTransformer(n_jobs=-1,\n",
       "                                   transformers=[('impute',\n",
       "                                                  SimpleImputer(strategy='most_frequent'),\n",
       "                                                  ['Age']),\n",
       "                                                 ('ord_pipeline',\n",
       "                                                  Pipeline(steps=[('impute',\n",
       "                                                                   SimpleImputer(strategy='most_frequent')),\n",
       "                                                                  ('ord',\n",
       "                                                                   OrdinalEncoder(handle_unknown='use_encoded_value',\n",
       "                                                                                  unknown_value=-1))]),\n",
       "                                                  ['FamSize']),\n",
       "                                                 ('ohe_pipeline',\n",
       "                                                  Pipeline(steps=[('impu...\n",
       "                                                                   OneHotEncoder(handle_unknown='ignore',\n",
       "                                                                                 sparse_output=False))]),\n",
       "                                                  ['Sex', 'Embarked']),\n",
       "                                                 ('passthrough', 'passthrough',\n",
       "                                                  ['Pclass', 'Cabin_Assigned',\n",
       "                                                   'Name_Size', 'Age', 'Fare',\n",
       "                                                   'Ticket_Num_Counts'])])),\n",
       "                ('gridsearchcv',\n",
       "                 GridSearchCV(cv=StratifiedKFold(n_splits=5, random_state=None, shuffle=False),\n",
       "                              estimator=LogisticRegression(),\n",
       "                              param_grid={'C': [100, 10, 1.0, 0.1, 0.001,\n",
       "                                                0.001]}))])"
      ]
     },
     "execution_count": 83,
     "metadata": {},
     "output_type": "execute_result"
    }
   ],
   "source": [
    "pipefinallr= make_pipeline(col_trans, CV_lr)\n",
    "pipefinallr.fit(X_train, y_train)"
   ]
  },
  {
   "cell_type": "code",
   "execution_count": 84,
   "id": "418bdb96",
   "metadata": {
    "execution": {
     "iopub.execute_input": "2024-05-11T20:35:29.510655Z",
     "iopub.status.busy": "2024-05-11T20:35:29.510247Z",
     "iopub.status.idle": "2024-05-11T20:35:29.515569Z",
     "shell.execute_reply": "2024-05-11T20:35:29.514450Z"
    },
    "papermill": {
     "duration": 0.043995,
     "end_time": "2024-05-11T20:35:29.517950",
     "exception": false,
     "start_time": "2024-05-11T20:35:29.473955",
     "status": "completed"
    },
    "tags": []
   },
   "outputs": [
    {
     "name": "stdout",
     "output_type": "stream",
     "text": [
      "{'C': 0.1}\n",
      "0.8019895597360387\n"
     ]
    }
   ],
   "source": [
    "print(CV_lr.best_params_)\n",
    "print(CV_lr.best_score_)"
   ]
  },
  {
   "cell_type": "markdown",
   "id": "4c8270c1",
   "metadata": {
    "papermill": {
     "duration": 0.033925,
     "end_time": "2024-05-11T20:35:29.586287",
     "exception": false,
     "start_time": "2024-05-11T20:35:29.552362",
     "status": "completed"
    },
    "tags": []
   },
   "source": [
    "Naive Bayes"
   ]
  },
  {
   "cell_type": "code",
   "execution_count": 85,
   "id": "a13bdfa8",
   "metadata": {
    "execution": {
     "iopub.execute_input": "2024-05-11T20:35:29.658387Z",
     "iopub.status.busy": "2024-05-11T20:35:29.657981Z",
     "iopub.status.idle": "2024-05-11T20:35:29.663193Z",
     "shell.execute_reply": "2024-05-11T20:35:29.661702Z"
    },
    "papermill": {
     "duration": 0.043535,
     "end_time": "2024-05-11T20:35:29.665483",
     "exception": false,
     "start_time": "2024-05-11T20:35:29.621948",
     "status": "completed"
    },
    "tags": []
   },
   "outputs": [],
   "source": [
    "gnb = GaussianNB()"
   ]
  },
  {
   "cell_type": "code",
   "execution_count": 86,
   "id": "b937a92a",
   "metadata": {
    "execution": {
     "iopub.execute_input": "2024-05-11T20:35:29.739100Z",
     "iopub.status.busy": "2024-05-11T20:35:29.738655Z",
     "iopub.status.idle": "2024-05-11T20:35:29.743739Z",
     "shell.execute_reply": "2024-05-11T20:35:29.742630Z"
    },
    "papermill": {
     "duration": 0.04379,
     "end_time": "2024-05-11T20:35:29.746287",
     "exception": false,
     "start_time": "2024-05-11T20:35:29.702497",
     "status": "completed"
    },
    "tags": []
   },
   "outputs": [],
   "source": [
    "param_grid = {\n",
    "    'var_smoothing': [0.00000001, 0.000000001, 0.00000001],\n",
    "}"
   ]
  },
  {
   "cell_type": "code",
   "execution_count": 87,
   "id": "31fc6a51",
   "metadata": {
    "execution": {
     "iopub.execute_input": "2024-05-11T20:35:29.816534Z",
     "iopub.status.busy": "2024-05-11T20:35:29.816119Z",
     "iopub.status.idle": "2024-05-11T20:35:29.821277Z",
     "shell.execute_reply": "2024-05-11T20:35:29.820131Z"
    },
    "papermill": {
     "duration": 0.043052,
     "end_time": "2024-05-11T20:35:29.823704",
     "exception": false,
     "start_time": "2024-05-11T20:35:29.780652",
     "status": "completed"
    },
    "tags": []
   },
   "outputs": [],
   "source": [
    "CV_gnb = GridSearchCV(estimator=gnb, param_grid=param_grid, cv=StratifiedKFold(n_splits=5))"
   ]
  },
  {
   "cell_type": "code",
   "execution_count": 88,
   "id": "767ec72f",
   "metadata": {
    "execution": {
     "iopub.execute_input": "2024-05-11T20:35:29.896664Z",
     "iopub.status.busy": "2024-05-11T20:35:29.896276Z",
     "iopub.status.idle": "2024-05-11T20:35:30.076375Z",
     "shell.execute_reply": "2024-05-11T20:35:30.075196Z"
    },
    "papermill": {
     "duration": 0.220345,
     "end_time": "2024-05-11T20:35:30.078991",
     "exception": false,
     "start_time": "2024-05-11T20:35:29.858646",
     "status": "completed"
    },
    "tags": []
   },
   "outputs": [
    {
     "data": {
      "text/html": [
       "<style>#sk-container-id-6 {color: black;background-color: white;}#sk-container-id-6 pre{padding: 0;}#sk-container-id-6 div.sk-toggleable {background-color: white;}#sk-container-id-6 label.sk-toggleable__label {cursor: pointer;display: block;width: 100%;margin-bottom: 0;padding: 0.3em;box-sizing: border-box;text-align: center;}#sk-container-id-6 label.sk-toggleable__label-arrow:before {content: \"▸\";float: left;margin-right: 0.25em;color: #696969;}#sk-container-id-6 label.sk-toggleable__label-arrow:hover:before {color: black;}#sk-container-id-6 div.sk-estimator:hover label.sk-toggleable__label-arrow:before {color: black;}#sk-container-id-6 div.sk-toggleable__content {max-height: 0;max-width: 0;overflow: hidden;text-align: left;background-color: #f0f8ff;}#sk-container-id-6 div.sk-toggleable__content pre {margin: 0.2em;color: black;border-radius: 0.25em;background-color: #f0f8ff;}#sk-container-id-6 input.sk-toggleable__control:checked~div.sk-toggleable__content {max-height: 200px;max-width: 100%;overflow: auto;}#sk-container-id-6 input.sk-toggleable__control:checked~label.sk-toggleable__label-arrow:before {content: \"▾\";}#sk-container-id-6 div.sk-estimator input.sk-toggleable__control:checked~label.sk-toggleable__label {background-color: #d4ebff;}#sk-container-id-6 div.sk-label input.sk-toggleable__control:checked~label.sk-toggleable__label {background-color: #d4ebff;}#sk-container-id-6 input.sk-hidden--visually {border: 0;clip: rect(1px 1px 1px 1px);clip: rect(1px, 1px, 1px, 1px);height: 1px;margin: -1px;overflow: hidden;padding: 0;position: absolute;width: 1px;}#sk-container-id-6 div.sk-estimator {font-family: monospace;background-color: #f0f8ff;border: 1px dotted black;border-radius: 0.25em;box-sizing: border-box;margin-bottom: 0.5em;}#sk-container-id-6 div.sk-estimator:hover {background-color: #d4ebff;}#sk-container-id-6 div.sk-parallel-item::after {content: \"\";width: 100%;border-bottom: 1px solid gray;flex-grow: 1;}#sk-container-id-6 div.sk-label:hover label.sk-toggleable__label {background-color: #d4ebff;}#sk-container-id-6 div.sk-serial::before {content: \"\";position: absolute;border-left: 1px solid gray;box-sizing: border-box;top: 0;bottom: 0;left: 50%;z-index: 0;}#sk-container-id-6 div.sk-serial {display: flex;flex-direction: column;align-items: center;background-color: white;padding-right: 0.2em;padding-left: 0.2em;position: relative;}#sk-container-id-6 div.sk-item {position: relative;z-index: 1;}#sk-container-id-6 div.sk-parallel {display: flex;align-items: stretch;justify-content: center;background-color: white;position: relative;}#sk-container-id-6 div.sk-item::before, #sk-container-id-6 div.sk-parallel-item::before {content: \"\";position: absolute;border-left: 1px solid gray;box-sizing: border-box;top: 0;bottom: 0;left: 50%;z-index: -1;}#sk-container-id-6 div.sk-parallel-item {display: flex;flex-direction: column;z-index: 1;position: relative;background-color: white;}#sk-container-id-6 div.sk-parallel-item:first-child::after {align-self: flex-end;width: 50%;}#sk-container-id-6 div.sk-parallel-item:last-child::after {align-self: flex-start;width: 50%;}#sk-container-id-6 div.sk-parallel-item:only-child::after {width: 0;}#sk-container-id-6 div.sk-dashed-wrapped {border: 1px dashed gray;margin: 0 0.4em 0.5em 0.4em;box-sizing: border-box;padding-bottom: 0.4em;background-color: white;}#sk-container-id-6 div.sk-label label {font-family: monospace;font-weight: bold;display: inline-block;line-height: 1.2em;}#sk-container-id-6 div.sk-label-container {text-align: center;}#sk-container-id-6 div.sk-container {/* jupyter's `normalize.less` sets `[hidden] { display: none; }` but bootstrap.min.css set `[hidden] { display: none !important; }` so we also need the `!important` here to be able to override the default hidden behavior on the sphinx rendered scikit-learn.org. See: https://github.com/scikit-learn/scikit-learn/issues/21755 */display: inline-block !important;position: relative;}#sk-container-id-6 div.sk-text-repr-fallback {display: none;}</style><div id=\"sk-container-id-6\" class=\"sk-top-container\"><div class=\"sk-text-repr-fallback\"><pre>Pipeline(steps=[(&#x27;columntransformer&#x27;,\n",
       "                 ColumnTransformer(n_jobs=-1,\n",
       "                                   transformers=[(&#x27;impute&#x27;,\n",
       "                                                  SimpleImputer(strategy=&#x27;most_frequent&#x27;),\n",
       "                                                  [&#x27;Age&#x27;]),\n",
       "                                                 (&#x27;ord_pipeline&#x27;,\n",
       "                                                  Pipeline(steps=[(&#x27;impute&#x27;,\n",
       "                                                                   SimpleImputer(strategy=&#x27;most_frequent&#x27;)),\n",
       "                                                                  (&#x27;ord&#x27;,\n",
       "                                                                   OrdinalEncoder(handle_unknown=&#x27;use_encoded_value&#x27;,\n",
       "                                                                                  unknown_value=-1))]),\n",
       "                                                  [&#x27;FamSize&#x27;]),\n",
       "                                                 (&#x27;ohe_pipeline&#x27;,\n",
       "                                                  Pipeline(steps=[(&#x27;impu...\n",
       "                                                                   OneHotEncoder(handle_unknown=&#x27;ignore&#x27;,\n",
       "                                                                                 sparse_output=False))]),\n",
       "                                                  [&#x27;Sex&#x27;, &#x27;Embarked&#x27;]),\n",
       "                                                 (&#x27;passthrough&#x27;, &#x27;passthrough&#x27;,\n",
       "                                                  [&#x27;Pclass&#x27;, &#x27;Cabin_Assigned&#x27;,\n",
       "                                                   &#x27;Name_Size&#x27;, &#x27;Age&#x27;, &#x27;Fare&#x27;,\n",
       "                                                   &#x27;Ticket_Num_Counts&#x27;])])),\n",
       "                (&#x27;gridsearchcv&#x27;,\n",
       "                 GridSearchCV(cv=StratifiedKFold(n_splits=5, random_state=None, shuffle=False),\n",
       "                              estimator=GaussianNB(),\n",
       "                              param_grid={&#x27;var_smoothing&#x27;: [1e-08, 1e-09,\n",
       "                                                            1e-08]}))])</pre><b>In a Jupyter environment, please rerun this cell to show the HTML representation or trust the notebook. <br />On GitHub, the HTML representation is unable to render, please try loading this page with nbviewer.org.</b></div><div class=\"sk-container\" hidden><div class=\"sk-item sk-dashed-wrapped\"><div class=\"sk-label-container\"><div class=\"sk-label sk-toggleable\"><input class=\"sk-toggleable__control sk-hidden--visually\" id=\"sk-estimator-id-76\" type=\"checkbox\" ><label for=\"sk-estimator-id-76\" class=\"sk-toggleable__label sk-toggleable__label-arrow\">Pipeline</label><div class=\"sk-toggleable__content\"><pre>Pipeline(steps=[(&#x27;columntransformer&#x27;,\n",
       "                 ColumnTransformer(n_jobs=-1,\n",
       "                                   transformers=[(&#x27;impute&#x27;,\n",
       "                                                  SimpleImputer(strategy=&#x27;most_frequent&#x27;),\n",
       "                                                  [&#x27;Age&#x27;]),\n",
       "                                                 (&#x27;ord_pipeline&#x27;,\n",
       "                                                  Pipeline(steps=[(&#x27;impute&#x27;,\n",
       "                                                                   SimpleImputer(strategy=&#x27;most_frequent&#x27;)),\n",
       "                                                                  (&#x27;ord&#x27;,\n",
       "                                                                   OrdinalEncoder(handle_unknown=&#x27;use_encoded_value&#x27;,\n",
       "                                                                                  unknown_value=-1))]),\n",
       "                                                  [&#x27;FamSize&#x27;]),\n",
       "                                                 (&#x27;ohe_pipeline&#x27;,\n",
       "                                                  Pipeline(steps=[(&#x27;impu...\n",
       "                                                                   OneHotEncoder(handle_unknown=&#x27;ignore&#x27;,\n",
       "                                                                                 sparse_output=False))]),\n",
       "                                                  [&#x27;Sex&#x27;, &#x27;Embarked&#x27;]),\n",
       "                                                 (&#x27;passthrough&#x27;, &#x27;passthrough&#x27;,\n",
       "                                                  [&#x27;Pclass&#x27;, &#x27;Cabin_Assigned&#x27;,\n",
       "                                                   &#x27;Name_Size&#x27;, &#x27;Age&#x27;, &#x27;Fare&#x27;,\n",
       "                                                   &#x27;Ticket_Num_Counts&#x27;])])),\n",
       "                (&#x27;gridsearchcv&#x27;,\n",
       "                 GridSearchCV(cv=StratifiedKFold(n_splits=5, random_state=None, shuffle=False),\n",
       "                              estimator=GaussianNB(),\n",
       "                              param_grid={&#x27;var_smoothing&#x27;: [1e-08, 1e-09,\n",
       "                                                            1e-08]}))])</pre></div></div></div><div class=\"sk-serial\"><div class=\"sk-item sk-dashed-wrapped\"><div class=\"sk-label-container\"><div class=\"sk-label sk-toggleable\"><input class=\"sk-toggleable__control sk-hidden--visually\" id=\"sk-estimator-id-77\" type=\"checkbox\" ><label for=\"sk-estimator-id-77\" class=\"sk-toggleable__label sk-toggleable__label-arrow\">columntransformer: ColumnTransformer</label><div class=\"sk-toggleable__content\"><pre>ColumnTransformer(n_jobs=-1,\n",
       "                  transformers=[(&#x27;impute&#x27;,\n",
       "                                 SimpleImputer(strategy=&#x27;most_frequent&#x27;),\n",
       "                                 [&#x27;Age&#x27;]),\n",
       "                                (&#x27;ord_pipeline&#x27;,\n",
       "                                 Pipeline(steps=[(&#x27;impute&#x27;,\n",
       "                                                  SimpleImputer(strategy=&#x27;most_frequent&#x27;)),\n",
       "                                                 (&#x27;ord&#x27;,\n",
       "                                                  OrdinalEncoder(handle_unknown=&#x27;use_encoded_value&#x27;,\n",
       "                                                                 unknown_value=-1))]),\n",
       "                                 [&#x27;FamSize&#x27;]),\n",
       "                                (&#x27;ohe_pipeline&#x27;,\n",
       "                                 Pipeline(steps=[(&#x27;impute&#x27;,\n",
       "                                                  SimpleImputer(strategy=&#x27;most_frequent&#x27;)),\n",
       "                                                 (&#x27;one-hot&#x27;,\n",
       "                                                  OneHotEncoder(handle_unknown=&#x27;ignore&#x27;,\n",
       "                                                                sparse_output=False))]),\n",
       "                                 [&#x27;Sex&#x27;, &#x27;Embarked&#x27;]),\n",
       "                                (&#x27;passthrough&#x27;, &#x27;passthrough&#x27;,\n",
       "                                 [&#x27;Pclass&#x27;, &#x27;Cabin_Assigned&#x27;, &#x27;Name_Size&#x27;,\n",
       "                                  &#x27;Age&#x27;, &#x27;Fare&#x27;, &#x27;Ticket_Num_Counts&#x27;])])</pre></div></div></div><div class=\"sk-parallel\"><div class=\"sk-parallel-item\"><div class=\"sk-item\"><div class=\"sk-label-container\"><div class=\"sk-label sk-toggleable\"><input class=\"sk-toggleable__control sk-hidden--visually\" id=\"sk-estimator-id-78\" type=\"checkbox\" ><label for=\"sk-estimator-id-78\" class=\"sk-toggleable__label sk-toggleable__label-arrow\">impute</label><div class=\"sk-toggleable__content\"><pre>[&#x27;Age&#x27;]</pre></div></div></div><div class=\"sk-serial\"><div class=\"sk-item\"><div class=\"sk-estimator sk-toggleable\"><input class=\"sk-toggleable__control sk-hidden--visually\" id=\"sk-estimator-id-79\" type=\"checkbox\" ><label for=\"sk-estimator-id-79\" class=\"sk-toggleable__label sk-toggleable__label-arrow\">SimpleImputer</label><div class=\"sk-toggleable__content\"><pre>SimpleImputer(strategy=&#x27;most_frequent&#x27;)</pre></div></div></div></div></div></div><div class=\"sk-parallel-item\"><div class=\"sk-item\"><div class=\"sk-label-container\"><div class=\"sk-label sk-toggleable\"><input class=\"sk-toggleable__control sk-hidden--visually\" id=\"sk-estimator-id-80\" type=\"checkbox\" ><label for=\"sk-estimator-id-80\" class=\"sk-toggleable__label sk-toggleable__label-arrow\">ord_pipeline</label><div class=\"sk-toggleable__content\"><pre>[&#x27;FamSize&#x27;]</pre></div></div></div><div class=\"sk-serial\"><div class=\"sk-item\"><div class=\"sk-serial\"><div class=\"sk-item\"><div class=\"sk-estimator sk-toggleable\"><input class=\"sk-toggleable__control sk-hidden--visually\" id=\"sk-estimator-id-81\" type=\"checkbox\" ><label for=\"sk-estimator-id-81\" class=\"sk-toggleable__label sk-toggleable__label-arrow\">SimpleImputer</label><div class=\"sk-toggleable__content\"><pre>SimpleImputer(strategy=&#x27;most_frequent&#x27;)</pre></div></div></div><div class=\"sk-item\"><div class=\"sk-estimator sk-toggleable\"><input class=\"sk-toggleable__control sk-hidden--visually\" id=\"sk-estimator-id-82\" type=\"checkbox\" ><label for=\"sk-estimator-id-82\" class=\"sk-toggleable__label sk-toggleable__label-arrow\">OrdinalEncoder</label><div class=\"sk-toggleable__content\"><pre>OrdinalEncoder(handle_unknown=&#x27;use_encoded_value&#x27;, unknown_value=-1)</pre></div></div></div></div></div></div></div></div><div class=\"sk-parallel-item\"><div class=\"sk-item\"><div class=\"sk-label-container\"><div class=\"sk-label sk-toggleable\"><input class=\"sk-toggleable__control sk-hidden--visually\" id=\"sk-estimator-id-83\" type=\"checkbox\" ><label for=\"sk-estimator-id-83\" class=\"sk-toggleable__label sk-toggleable__label-arrow\">ohe_pipeline</label><div class=\"sk-toggleable__content\"><pre>[&#x27;Sex&#x27;, &#x27;Embarked&#x27;]</pre></div></div></div><div class=\"sk-serial\"><div class=\"sk-item\"><div class=\"sk-serial\"><div class=\"sk-item\"><div class=\"sk-estimator sk-toggleable\"><input class=\"sk-toggleable__control sk-hidden--visually\" id=\"sk-estimator-id-84\" type=\"checkbox\" ><label for=\"sk-estimator-id-84\" class=\"sk-toggleable__label sk-toggleable__label-arrow\">SimpleImputer</label><div class=\"sk-toggleable__content\"><pre>SimpleImputer(strategy=&#x27;most_frequent&#x27;)</pre></div></div></div><div class=\"sk-item\"><div class=\"sk-estimator sk-toggleable\"><input class=\"sk-toggleable__control sk-hidden--visually\" id=\"sk-estimator-id-85\" type=\"checkbox\" ><label for=\"sk-estimator-id-85\" class=\"sk-toggleable__label sk-toggleable__label-arrow\">OneHotEncoder</label><div class=\"sk-toggleable__content\"><pre>OneHotEncoder(handle_unknown=&#x27;ignore&#x27;, sparse_output=False)</pre></div></div></div></div></div></div></div></div><div class=\"sk-parallel-item\"><div class=\"sk-item\"><div class=\"sk-label-container\"><div class=\"sk-label sk-toggleable\"><input class=\"sk-toggleable__control sk-hidden--visually\" id=\"sk-estimator-id-86\" type=\"checkbox\" ><label for=\"sk-estimator-id-86\" class=\"sk-toggleable__label sk-toggleable__label-arrow\">passthrough</label><div class=\"sk-toggleable__content\"><pre>[&#x27;Pclass&#x27;, &#x27;Cabin_Assigned&#x27;, &#x27;Name_Size&#x27;, &#x27;Age&#x27;, &#x27;Fare&#x27;, &#x27;Ticket_Num_Counts&#x27;]</pre></div></div></div><div class=\"sk-serial\"><div class=\"sk-item\"><div class=\"sk-estimator sk-toggleable\"><input class=\"sk-toggleable__control sk-hidden--visually\" id=\"sk-estimator-id-87\" type=\"checkbox\" ><label for=\"sk-estimator-id-87\" class=\"sk-toggleable__label sk-toggleable__label-arrow\">passthrough</label><div class=\"sk-toggleable__content\"><pre>passthrough</pre></div></div></div></div></div></div></div></div><div class=\"sk-item sk-dashed-wrapped\"><div class=\"sk-label-container\"><div class=\"sk-label sk-toggleable\"><input class=\"sk-toggleable__control sk-hidden--visually\" id=\"sk-estimator-id-88\" type=\"checkbox\" ><label for=\"sk-estimator-id-88\" class=\"sk-toggleable__label sk-toggleable__label-arrow\">gridsearchcv: GridSearchCV</label><div class=\"sk-toggleable__content\"><pre>GridSearchCV(cv=StratifiedKFold(n_splits=5, random_state=None, shuffle=False),\n",
       "             estimator=GaussianNB(),\n",
       "             param_grid={&#x27;var_smoothing&#x27;: [1e-08, 1e-09, 1e-08]})</pre></div></div></div><div class=\"sk-parallel\"><div class=\"sk-parallel-item\"><div class=\"sk-item\"><div class=\"sk-label-container\"><div class=\"sk-label sk-toggleable\"><input class=\"sk-toggleable__control sk-hidden--visually\" id=\"sk-estimator-id-89\" type=\"checkbox\" ><label for=\"sk-estimator-id-89\" class=\"sk-toggleable__label sk-toggleable__label-arrow\">estimator: GaussianNB</label><div class=\"sk-toggleable__content\"><pre>GaussianNB()</pre></div></div></div><div class=\"sk-serial\"><div class=\"sk-item\"><div class=\"sk-estimator sk-toggleable\"><input class=\"sk-toggleable__control sk-hidden--visually\" id=\"sk-estimator-id-90\" type=\"checkbox\" ><label for=\"sk-estimator-id-90\" class=\"sk-toggleable__label sk-toggleable__label-arrow\">GaussianNB</label><div class=\"sk-toggleable__content\"><pre>GaussianNB()</pre></div></div></div></div></div></div></div></div></div></div></div></div>"
      ],
      "text/plain": [
       "Pipeline(steps=[('columntransformer',\n",
       "                 ColumnTransformer(n_jobs=-1,\n",
       "                                   transformers=[('impute',\n",
       "                                                  SimpleImputer(strategy='most_frequent'),\n",
       "                                                  ['Age']),\n",
       "                                                 ('ord_pipeline',\n",
       "                                                  Pipeline(steps=[('impute',\n",
       "                                                                   SimpleImputer(strategy='most_frequent')),\n",
       "                                                                  ('ord',\n",
       "                                                                   OrdinalEncoder(handle_unknown='use_encoded_value',\n",
       "                                                                                  unknown_value=-1))]),\n",
       "                                                  ['FamSize']),\n",
       "                                                 ('ohe_pipeline',\n",
       "                                                  Pipeline(steps=[('impu...\n",
       "                                                                   OneHotEncoder(handle_unknown='ignore',\n",
       "                                                                                 sparse_output=False))]),\n",
       "                                                  ['Sex', 'Embarked']),\n",
       "                                                 ('passthrough', 'passthrough',\n",
       "                                                  ['Pclass', 'Cabin_Assigned',\n",
       "                                                   'Name_Size', 'Age', 'Fare',\n",
       "                                                   'Ticket_Num_Counts'])])),\n",
       "                ('gridsearchcv',\n",
       "                 GridSearchCV(cv=StratifiedKFold(n_splits=5, random_state=None, shuffle=False),\n",
       "                              estimator=GaussianNB(),\n",
       "                              param_grid={'var_smoothing': [1e-08, 1e-09,\n",
       "                                                            1e-08]}))])"
      ]
     },
     "execution_count": 88,
     "metadata": {},
     "output_type": "execute_result"
    }
   ],
   "source": [
    "pipefinalgnb= make_pipeline(col_trans, CV_gnb)\n",
    "pipefinalgnb.fit(X_train, y_train)"
   ]
  },
  {
   "cell_type": "code",
   "execution_count": 89,
   "id": "9cd86bad",
   "metadata": {
    "execution": {
     "iopub.execute_input": "2024-05-11T20:35:30.151232Z",
     "iopub.status.busy": "2024-05-11T20:35:30.150816Z",
     "iopub.status.idle": "2024-05-11T20:35:30.156307Z",
     "shell.execute_reply": "2024-05-11T20:35:30.155095Z"
    },
    "papermill": {
     "duration": 0.044872,
     "end_time": "2024-05-11T20:35:30.158800",
     "exception": false,
     "start_time": "2024-05-11T20:35:30.113928",
     "status": "completed"
    },
    "tags": []
   },
   "outputs": [
    {
     "name": "stdout",
     "output_type": "stream",
     "text": [
      "{'var_smoothing': 1e-08}\n",
      "0.7767654880330938\n"
     ]
    }
   ],
   "source": [
    "print(CV_gnb.best_params_)\n",
    "print(CV_gnb.best_score_)"
   ]
  },
  {
   "cell_type": "markdown",
   "id": "03c89811",
   "metadata": {
    "papermill": {
     "duration": 0.036987,
     "end_time": "2024-05-11T20:35:30.233175",
     "exception": false,
     "start_time": "2024-05-11T20:35:30.196188",
     "status": "completed"
    },
    "tags": []
   },
   "source": [
    "Now we export all this data to see how well each model performed"
   ]
  },
  {
   "cell_type": "code",
   "execution_count": 90,
   "id": "a35792b1",
   "metadata": {
    "execution": {
     "iopub.execute_input": "2024-05-11T20:35:30.308301Z",
     "iopub.status.busy": "2024-05-11T20:35:30.307855Z",
     "iopub.status.idle": "2024-05-11T20:35:30.508612Z",
     "shell.execute_reply": "2024-05-11T20:35:30.507437Z"
    },
    "papermill": {
     "duration": 0.241438,
     "end_time": "2024-05-11T20:35:30.511312",
     "exception": false,
     "start_time": "2024-05-11T20:35:30.269874",
     "status": "completed"
    },
    "tags": []
   },
   "outputs": [],
   "source": [
    "Y_pred1 = pipefinalrfc.predict(X_test)\n",
    "Y_pred2 = pipefinaldtc.predict(X_test)\n",
    "Y_pred3 = pipefinalknn.predict(X_test)\n",
    "Y_pred4 = pipefinalsvc.predict(X_test)\n",
    "Y_pred5 = pipefinallr.predict(X_test)\n",
    "Y_pred6 = pipefinalgnb.predict(X_test)"
   ]
  },
  {
   "cell_type": "code",
   "execution_count": 91,
   "id": "aa83d318",
   "metadata": {
    "execution": {
     "iopub.execute_input": "2024-05-11T20:35:30.586123Z",
     "iopub.status.busy": "2024-05-11T20:35:30.585707Z",
     "iopub.status.idle": "2024-05-11T20:35:30.595777Z",
     "shell.execute_reply": "2024-05-11T20:35:30.594539Z"
    },
    "papermill": {
     "duration": 0.051528,
     "end_time": "2024-05-11T20:35:30.597991",
     "exception": false,
     "start_time": "2024-05-11T20:35:30.546463",
     "status": "completed"
    },
    "tags": []
   },
   "outputs": [],
   "source": [
    "submission1 = pd.DataFrame({\n",
    "    'PassengerID' : test_data['PassengerId'],\n",
    "    'Survived' : Y_pred1\n",
    "})\n",
    "\n",
    "submission2 = pd.DataFrame({\n",
    "    'PassengerID' : test_data['PassengerId'],\n",
    "    'Survived' : Y_pred2\n",
    "})\n",
    "\n",
    "submission3 = pd.DataFrame({\n",
    "    'PassengerID' : test_data['PassengerId'],\n",
    "    'Survived' : Y_pred3\n",
    "})\n",
    "\n",
    "submission4 = pd.DataFrame({\n",
    "    'PassengerID' : test_data['PassengerId'],\n",
    "    'Survived' : Y_pred4\n",
    "})\n",
    "\n",
    "submission5 = pd.DataFrame({\n",
    "    'PassengerID' : test_data['PassengerId'],\n",
    "    'Survived' : Y_pred5\n",
    "})\n",
    "\n",
    "submission6 = pd.DataFrame({\n",
    "    'PassengerID' : test_data['PassengerId'],\n",
    "    'Survived' : Y_pred6\n",
    "})"
   ]
  },
  {
   "cell_type": "code",
   "execution_count": 92,
   "id": "78725256",
   "metadata": {
    "execution": {
     "iopub.execute_input": "2024-05-11T20:35:30.670329Z",
     "iopub.status.busy": "2024-05-11T20:35:30.669479Z",
     "iopub.status.idle": "2024-05-11T20:35:30.686251Z",
     "shell.execute_reply": "2024-05-11T20:35:30.684931Z"
    },
    "papermill": {
     "duration": 0.056007,
     "end_time": "2024-05-11T20:35:30.689009",
     "exception": false,
     "start_time": "2024-05-11T20:35:30.633002",
     "status": "completed"
    },
    "tags": []
   },
   "outputs": [],
   "source": [
    "submission1.to_csv('/kaggle/working/submission0511_1.csv', index = False)\n",
    "submission2.to_csv('/kaggle/working/submission0511_2.csv', index = False)\n",
    "submission3.to_csv('/kaggle/working/submission0511_3.csv', index = False)\n",
    "submission4.to_csv('/kaggle/working/submission0511_4.csv', index = False)\n",
    "submission5.to_csv('/kaggle/working/submission0511_5.csv', index = False)\n",
    "submission6.to_csv('/kaggle/working/submission0511_6.csv', index = False)"
   ]
  }
 ],
 "metadata": {
  "kaggle": {
   "accelerator": "none",
   "dataSources": [
    {
     "databundleVersionId": 26502,
     "sourceId": 3136,
     "sourceType": "competition"
    }
   ],
   "dockerImageVersionId": 30698,
   "isGpuEnabled": false,
   "isInternetEnabled": false,
   "language": "python",
   "sourceType": "notebook"
  },
  "kernelspec": {
   "display_name": "Python 3",
   "language": "python",
   "name": "python3"
  },
  "language_info": {
   "codemirror_mode": {
    "name": "ipython",
    "version": 3
   },
   "file_extension": ".py",
   "mimetype": "text/x-python",
   "name": "python",
   "nbconvert_exporter": "python",
   "pygments_lexer": "ipython3",
   "version": "3.10.13"
  },
  "papermill": {
   "default_parameters": {},
   "duration": 1554.235667,
   "end_time": "2024-05-11T20:35:33.347345",
   "environment_variables": {},
   "exception": null,
   "input_path": "__notebook__.ipynb",
   "output_path": "__notebook__.ipynb",
   "parameters": {},
   "start_time": "2024-05-11T20:09:39.111678",
   "version": "2.5.0"
  }
 },
 "nbformat": 4,
 "nbformat_minor": 5
}
